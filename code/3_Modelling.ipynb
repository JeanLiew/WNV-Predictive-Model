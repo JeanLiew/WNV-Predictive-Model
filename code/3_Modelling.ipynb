{
 "cells": [
  {
   "cell_type": "code",
   "execution_count": 1,
   "metadata": {
    "cell_id": "00000-27b12978-dedb-4ff2-a71f-0f5d06daab17",
    "deepnote_cell_type": "code",
    "deepnote_to_be_reexecuted": false,
    "execution_millis": 1852,
    "execution_start": 1620108689233,
    "source_hash": "22e8ecc5",
    "tags": []
   },
   "outputs": [],
   "source": [
    "# Import libs\n",
    "import numpy as np\n",
    "import pandas as pd\n",
    "import matplotlib.pyplot as plt\n",
    "import seaborn as sns\n",
    "\n",
    "#Import ML libs\n",
    "from sklearn.model_selection import train_test_split, GridSearchCV\n",
    "from sklearn.linear_model import LogisticRegression\n",
    "from sklearn.metrics import confusion_matrix, plot_confusion_matrix, plot_roc_curve, f1_score, plot_precision_recall_curve, recall_score, precision_score\n",
    "from sklearn.preprocessing import StandardScaler\n",
    "from sklearn.ensemble import RandomForestClassifier\n",
    "from sklearn.neighbors import KNeighborsClassifier\n",
    "\n",
    "#import bootstrap libs\n",
    "from imblearn.over_sampling import SMOTE\n",
    "from imblearn.pipeline import make_pipeline, Pipeline\n",
    "\n",
    "#dummy classifier\n",
    "from sklearn.model_selection import cross_validate\n",
    "from sklearn.dummy import DummyClassifier"
   ]
  },
  {
   "cell_type": "code",
   "execution_count": 39,
   "metadata": {
    "cell_id": "00001-9a7a9497-2672-4987-91d9-04da3db2ce39",
    "deepnote_cell_type": "code",
    "deepnote_to_be_reexecuted": false,
    "execution_millis": 223,
    "execution_start": 1620111981694,
    "source_hash": "b5552fe9",
    "tags": []
   },
   "outputs": [],
   "source": [
    "# Load data\n",
    "train_merged = pd.read_csv('../data/train_merged.csv')\n",
    "test_merged = pd.read_csv('../data/test_merged.csv')\n",
    "pd.set_option('display.max_columns',99)"
   ]
  },
  {
   "cell_type": "code",
   "execution_count": 40,
   "metadata": {
    "cell_id": "00003-49ad6762-ef62-436e-88ad-ed593dac356f",
    "deepnote_cell_type": "code",
    "deepnote_to_be_reexecuted": false,
    "execution_millis": 55,
    "execution_start": 1620108691155,
    "source_hash": "d0a76872",
    "tags": []
   },
   "outputs": [
    {
     "data": {
      "text/html": [
       "<div>\n",
       "<style scoped>\n",
       "    .dataframe tbody tr th:only-of-type {\n",
       "        vertical-align: middle;\n",
       "    }\n",
       "\n",
       "    .dataframe tbody tr th {\n",
       "        vertical-align: top;\n",
       "    }\n",
       "\n",
       "    .dataframe thead th {\n",
       "        text-align: right;\n",
       "    }\n",
       "</style>\n",
       "<table border=\"1\" class=\"dataframe\">\n",
       "  <thead>\n",
       "    <tr style=\"text-align: right;\">\n",
       "      <th></th>\n",
       "      <th>date</th>\n",
       "      <th>latitude</th>\n",
       "      <th>longitude</th>\n",
       "      <th>nummosquitos</th>\n",
       "      <th>wnvpresent</th>\n",
       "      <th>street_  W ARMITAGE AVENUE</th>\n",
       "      <th>street_ E 105TH ST</th>\n",
       "      <th>street_ E 111TH ST</th>\n",
       "      <th>street_ E 115TH ST</th>\n",
       "      <th>street_ E 118TH ST</th>\n",
       "      <th>street_ E 130TH ST</th>\n",
       "      <th>street_ E 138TH ST</th>\n",
       "      <th>street_ E 67TH ST</th>\n",
       "      <th>street_ E 91ST PL</th>\n",
       "      <th>street_ E 91ST ST</th>\n",
       "      <th>street_ E RANDOLPH ST</th>\n",
       "      <th>street_ N ASHLAND AVE</th>\n",
       "      <th>street_ N ASHLAND AVE OVERPASS</th>\n",
       "      <th>street_ N AUSTIN AVE</th>\n",
       "      <th>street_ N AVONDALE AVE</th>\n",
       "      <th>street_ N CALIFORNIA AVE</th>\n",
       "      <th>street_ N CAMPBELL AVE</th>\n",
       "      <th>street_ N CANNON DR</th>\n",
       "      <th>street_ N CENTRAL PARK DR</th>\n",
       "      <th>street_ N FRANCISCO AVE</th>\n",
       "      <th>street_ N HARLEM AVE</th>\n",
       "      <th>street_ N HUMBOLDT DR</th>\n",
       "      <th>street_ N KEDVALE AVE</th>\n",
       "      <th>street_ N LARAMIE AVE</th>\n",
       "      <th>street_ N LAWLER AVE</th>\n",
       "      <th>street_ N LEMONT AVE</th>\n",
       "      <th>street_ N LONG AVE</th>\n",
       "      <th>street_ N MANDELL AVE</th>\n",
       "      <th>street_ N MCCLELLAN AVE</th>\n",
       "      <th>street_ N MILWAUKEE AVE</th>\n",
       "      <th>street_ N MONT CLARE AVE</th>\n",
       "      <th>street_ N MOSELL AVE</th>\n",
       "      <th>street_ N OAK PARK AVE</th>\n",
       "      <th>street_ N OAKLEY AVE</th>\n",
       "      <th>street_ N OKETO AVE</th>\n",
       "      <th>street_ N PITTSBURGH AVE</th>\n",
       "      <th>street_ N PULASKI RD</th>\n",
       "      <th>street_ N RICHMOND ST</th>\n",
       "      <th>street_ N RIDGE AVE</th>\n",
       "      <th>street_ N RUTHERFORD AVE</th>\n",
       "      <th>street_ N SPRINGFIELD AVE</th>\n",
       "      <th>street_ N STAVE ST</th>\n",
       "      <th>street_ N STREETER DR</th>\n",
       "      <th>street_ N TRIPP AVE</th>\n",
       "      <th>...</th>\n",
       "      <th>tavg</th>\n",
       "      <th>depart</th>\n",
       "      <th>dewpoint</th>\n",
       "      <th>wetbulb</th>\n",
       "      <th>heat</th>\n",
       "      <th>cool</th>\n",
       "      <th>preciptotal</th>\n",
       "      <th>stnpressure</th>\n",
       "      <th>sealevel</th>\n",
       "      <th>resultspeed</th>\n",
       "      <th>resultdir</th>\n",
       "      <th>avgspeed</th>\n",
       "      <th>daylightmins</th>\n",
       "      <th>tminsq</th>\n",
       "      <th>tmaxsq</th>\n",
       "      <th>tavgsq</th>\n",
       "      <th>departsq</th>\n",
       "      <th>wetbulbsq</th>\n",
       "      <th>heatsq</th>\n",
       "      <th>coolsq</th>\n",
       "      <th>preciptotalsq</th>\n",
       "      <th>resultspeedsq</th>\n",
       "      <th>resultdirsq</th>\n",
       "      <th>avgspeedsq</th>\n",
       "      <th>daylightminssq</th>\n",
       "      <th>tmin_sma_3</th>\n",
       "      <th>tmax_sma_3</th>\n",
       "      <th>tavg_sma_3</th>\n",
       "      <th>tmin_sma_7</th>\n",
       "      <th>tmax_sma_7</th>\n",
       "      <th>tavg_sma_7</th>\n",
       "      <th>daylightmin_sma_3</th>\n",
       "      <th>daylightmin_sma_7</th>\n",
       "      <th>avgspeed_sma_3</th>\n",
       "      <th>avgspeed_sma_7</th>\n",
       "      <th>resultspeed_sma_3</th>\n",
       "      <th>resultspeed_sma_7</th>\n",
       "      <th>stnpressure_sma_3</th>\n",
       "      <th>stnpressure_sma_7</th>\n",
       "      <th>heat_sma_3</th>\n",
       "      <th>heat_sma_7</th>\n",
       "      <th>cool_sma_3</th>\n",
       "      <th>cool_sma_7</th>\n",
       "      <th>wetbulb_sma_3</th>\n",
       "      <th>wetbulb_sma_7</th>\n",
       "      <th>species_CULEX PIPIENS</th>\n",
       "      <th>species_CULEX PIPIENS/RESTUANS</th>\n",
       "      <th>species_CULEX RESTUANS</th>\n",
       "      <th>species_OTHERS</th>\n",
       "    </tr>\n",
       "  </thead>\n",
       "  <tbody>\n",
       "    <tr>\n",
       "      <th>0</th>\n",
       "      <td>2007-05-29</td>\n",
       "      <td>41.95469</td>\n",
       "      <td>-87.800991</td>\n",
       "      <td>1</td>\n",
       "      <td>0</td>\n",
       "      <td>0</td>\n",
       "      <td>0</td>\n",
       "      <td>0</td>\n",
       "      <td>0</td>\n",
       "      <td>0</td>\n",
       "      <td>0</td>\n",
       "      <td>0</td>\n",
       "      <td>0</td>\n",
       "      <td>0</td>\n",
       "      <td>0</td>\n",
       "      <td>0</td>\n",
       "      <td>0</td>\n",
       "      <td>0</td>\n",
       "      <td>0</td>\n",
       "      <td>0</td>\n",
       "      <td>0</td>\n",
       "      <td>0</td>\n",
       "      <td>0</td>\n",
       "      <td>0</td>\n",
       "      <td>0</td>\n",
       "      <td>0</td>\n",
       "      <td>0</td>\n",
       "      <td>0</td>\n",
       "      <td>0</td>\n",
       "      <td>0</td>\n",
       "      <td>0</td>\n",
       "      <td>0</td>\n",
       "      <td>0</td>\n",
       "      <td>0</td>\n",
       "      <td>0</td>\n",
       "      <td>0</td>\n",
       "      <td>0</td>\n",
       "      <td>1</td>\n",
       "      <td>0</td>\n",
       "      <td>0</td>\n",
       "      <td>0</td>\n",
       "      <td>0</td>\n",
       "      <td>0</td>\n",
       "      <td>0</td>\n",
       "      <td>0</td>\n",
       "      <td>0</td>\n",
       "      <td>0</td>\n",
       "      <td>0</td>\n",
       "      <td>0</td>\n",
       "      <td>...</td>\n",
       "      <td>74.0</td>\n",
       "      <td>10.0</td>\n",
       "      <td>58.0</td>\n",
       "      <td>65.0</td>\n",
       "      <td>0.0</td>\n",
       "      <td>9.0</td>\n",
       "      <td>0.0</td>\n",
       "      <td>29.39</td>\n",
       "      <td>30.11</td>\n",
       "      <td>5.8</td>\n",
       "      <td>18.0</td>\n",
       "      <td>6.5</td>\n",
       "      <td>896.0</td>\n",
       "      <td>3600.0</td>\n",
       "      <td>7744.0</td>\n",
       "      <td>5476.0</td>\n",
       "      <td>100.0</td>\n",
       "      <td>4225.0</td>\n",
       "      <td>0.0</td>\n",
       "      <td>81.0</td>\n",
       "      <td>0.0</td>\n",
       "      <td>33.64</td>\n",
       "      <td>324.0</td>\n",
       "      <td>42.25</td>\n",
       "      <td>802816.0</td>\n",
       "      <td>54.666667</td>\n",
       "      <td>81.0</td>\n",
       "      <td>68.0</td>\n",
       "      <td>54.142857</td>\n",
       "      <td>75.428571</td>\n",
       "      <td>64.857143</td>\n",
       "      <td>895.333333</td>\n",
       "      <td>894.285714</td>\n",
       "      <td>5.666667</td>\n",
       "      <td>7.242857</td>\n",
       "      <td>5.1</td>\n",
       "      <td>5.385714</td>\n",
       "      <td>29.436667</td>\n",
       "      <td>29.405714</td>\n",
       "      <td>0.0</td>\n",
       "      <td>1.857143</td>\n",
       "      <td>3.0</td>\n",
       "      <td>1.714286</td>\n",
       "      <td>59.333333</td>\n",
       "      <td>57.714286</td>\n",
       "      <td>0</td>\n",
       "      <td>1</td>\n",
       "      <td>0</td>\n",
       "      <td>0</td>\n",
       "    </tr>\n",
       "  </tbody>\n",
       "</table>\n",
       "<p>1 rows × 184 columns</p>\n",
       "</div>"
      ],
      "text/plain": [
       "         date  latitude  longitude  nummosquitos  wnvpresent  \\\n",
       "0  2007-05-29  41.95469 -87.800991             1           0   \n",
       "\n",
       "   street_  W ARMITAGE AVENUE  street_ E 105TH ST  street_ E 111TH ST  \\\n",
       "0                           0                   0                   0   \n",
       "\n",
       "   street_ E 115TH ST  street_ E 118TH ST  street_ E 130TH ST  \\\n",
       "0                   0                   0                   0   \n",
       "\n",
       "   street_ E 138TH ST  street_ E 67TH ST  street_ E 91ST PL  \\\n",
       "0                   0                  0                  0   \n",
       "\n",
       "   street_ E 91ST ST  street_ E RANDOLPH ST  street_ N ASHLAND AVE  \\\n",
       "0                  0                      0                      0   \n",
       "\n",
       "   street_ N ASHLAND AVE OVERPASS  street_ N AUSTIN AVE  \\\n",
       "0                               0                     0   \n",
       "\n",
       "   street_ N AVONDALE AVE  street_ N CALIFORNIA AVE  street_ N CAMPBELL AVE  \\\n",
       "0                       0                         0                       0   \n",
       "\n",
       "   street_ N CANNON DR  street_ N CENTRAL PARK DR  street_ N FRANCISCO AVE  \\\n",
       "0                    0                          0                        0   \n",
       "\n",
       "   street_ N HARLEM AVE  street_ N HUMBOLDT DR  street_ N KEDVALE AVE  \\\n",
       "0                     0                      0                      0   \n",
       "\n",
       "   street_ N LARAMIE AVE  street_ N LAWLER AVE  street_ N LEMONT AVE  \\\n",
       "0                      0                     0                     0   \n",
       "\n",
       "   street_ N LONG AVE  street_ N MANDELL AVE  street_ N MCCLELLAN AVE  \\\n",
       "0                   0                      0                        0   \n",
       "\n",
       "   street_ N MILWAUKEE AVE  street_ N MONT CLARE AVE  street_ N MOSELL AVE  \\\n",
       "0                        0                         0                     0   \n",
       "\n",
       "   street_ N OAK PARK AVE  street_ N OAKLEY AVE  street_ N OKETO AVE  \\\n",
       "0                       1                     0                    0   \n",
       "\n",
       "   street_ N PITTSBURGH AVE  street_ N PULASKI RD  street_ N RICHMOND ST  \\\n",
       "0                         0                     0                      0   \n",
       "\n",
       "   street_ N RIDGE AVE  street_ N RUTHERFORD AVE  street_ N SPRINGFIELD AVE  \\\n",
       "0                    0                         0                          0   \n",
       "\n",
       "   street_ N STAVE ST  street_ N STREETER DR  street_ N TRIPP AVE  ...  tavg  \\\n",
       "0                   0                      0                    0  ...  74.0   \n",
       "\n",
       "   depart  dewpoint  wetbulb  heat  cool  preciptotal  stnpressure  sealevel  \\\n",
       "0    10.0      58.0     65.0   0.0   9.0          0.0        29.39     30.11   \n",
       "\n",
       "   resultspeed  resultdir  avgspeed  daylightmins  tminsq  tmaxsq  tavgsq  \\\n",
       "0          5.8       18.0       6.5         896.0  3600.0  7744.0  5476.0   \n",
       "\n",
       "   departsq  wetbulbsq  heatsq  coolsq  preciptotalsq  resultspeedsq  \\\n",
       "0     100.0     4225.0     0.0    81.0            0.0          33.64   \n",
       "\n",
       "   resultdirsq  avgspeedsq  daylightminssq  tmin_sma_3  tmax_sma_3  \\\n",
       "0        324.0       42.25        802816.0   54.666667        81.0   \n",
       "\n",
       "   tavg_sma_3  tmin_sma_7  tmax_sma_7  tavg_sma_7  daylightmin_sma_3  \\\n",
       "0        68.0   54.142857   75.428571   64.857143         895.333333   \n",
       "\n",
       "   daylightmin_sma_7  avgspeed_sma_3  avgspeed_sma_7  resultspeed_sma_3  \\\n",
       "0         894.285714        5.666667        7.242857                5.1   \n",
       "\n",
       "   resultspeed_sma_7  stnpressure_sma_3  stnpressure_sma_7  heat_sma_3  \\\n",
       "0           5.385714          29.436667          29.405714         0.0   \n",
       "\n",
       "   heat_sma_7  cool_sma_3  cool_sma_7  wetbulb_sma_3  wetbulb_sma_7  \\\n",
       "0    1.857143         3.0    1.714286      59.333333      57.714286   \n",
       "\n",
       "   species_CULEX PIPIENS  species_CULEX PIPIENS/RESTUANS  \\\n",
       "0                      0                               1   \n",
       "\n",
       "   species_CULEX RESTUANS  species_OTHERS  \n",
       "0                       0               0  \n",
       "\n",
       "[1 rows x 184 columns]"
      ]
     },
     "execution_count": 40,
     "metadata": {},
     "output_type": "execute_result"
    }
   ],
   "source": [
    "train_merged.head(1)"
   ]
  },
  {
   "cell_type": "markdown",
   "metadata": {
    "cell_id": "00007-6f1b7fc9-106c-4b69-85ee-446ae9802797",
    "deepnote_cell_type": "markdown",
    "tags": []
   },
   "source": [
    "## Baseline Model"
   ]
  },
  {
   "cell_type": "code",
   "execution_count": 5,
   "metadata": {
    "cell_id": "00004-0922afc1-2099-4158-8220-7e413dc1d33d",
    "deepnote_cell_type": "code",
    "deepnote_to_be_reexecuted": false,
    "execution_millis": 0,
    "execution_start": 1620108691229,
    "source_hash": "399887ce",
    "tags": []
   },
   "outputs": [],
   "source": [
    "#define X, y\n",
    "X = train_merged.drop(columns = ['wnvpresent','date','nummosquitos'])\n",
    "y = train_merged['wnvpresent']"
   ]
  },
  {
   "cell_type": "code",
   "execution_count": 6,
   "metadata": {
    "cell_id": "00007-5b74ed6f-da2c-4ba3-bb0c-cac61b994436",
    "deepnote_cell_type": "code",
    "deepnote_to_be_reexecuted": false,
    "execution_millis": 0,
    "execution_start": 1620108691260,
    "source_hash": "12d3fd1",
    "tags": []
   },
   "outputs": [],
   "source": [
    "baseline = y.value_counts(normalize=True)"
   ]
  },
  {
   "cell_type": "code",
   "execution_count": 7,
   "metadata": {
    "cell_id": "00008-a5cdb131-92cd-4ced-b07c-ec898f8c7556",
    "deepnote_cell_type": "code",
    "deepnote_to_be_reexecuted": false,
    "execution_millis": 7,
    "execution_start": 1620108691261,
    "source_hash": "72908efd",
    "tags": []
   },
   "outputs": [
    {
     "name": "stdout",
     "output_type": "stream",
     "text": [
      "Imbalanced Data Baseline Accuracy: 0.947%\n"
     ]
    }
   ],
   "source": [
    "print(f'Imbalanced Data Baseline Accuracy: {baseline[0].round(3)}%')"
   ]
  },
  {
   "cell_type": "code",
   "execution_count": 8,
   "metadata": {
    "cell_id": "00009-375defac-f4fa-4a52-a5f7-a2ce8e3cc8df",
    "deepnote_cell_type": "code",
    "deepnote_to_be_reexecuted": false,
    "execution_millis": 7,
    "execution_start": 1620108691261,
    "source_hash": "b0f7d906",
    "tags": []
   },
   "outputs": [
    {
     "name": "stdout",
     "output_type": "stream",
     "text": [
      "Balanced Data Baseline Accuracy: 0.5%\n"
     ]
    }
   ],
   "source": [
    "print(f\"Balanced Data Baseline Accuracy: 0.5%\")"
   ]
  },
  {
   "cell_type": "markdown",
   "metadata": {
    "cell_id": "00008-ba58a2f8-2473-482b-8323-c9b7f71e6cb7",
    "deepnote_cell_type": "markdown",
    "tags": []
   },
   "source": [
    "## Train Test Split"
   ]
  },
  {
   "cell_type": "code",
   "execution_count": 9,
   "metadata": {
    "cell_id": "00004-747ed5fe-c4fe-4ef0-9495-06501bfaaba0",
    "deepnote_cell_type": "code",
    "deepnote_to_be_reexecuted": false,
    "execution_millis": 10,
    "execution_start": 1620108691263,
    "source_hash": "9f4fe7f",
    "tags": []
   },
   "outputs": [],
   "source": [
    "#split train test \n",
    "X_train, X_test, y_train, y_test = train_test_split(X,\n",
    "                                                    y,\n",
    "                                                    random_state=42,\n",
    "                                                    stratify=y)"
   ]
  },
  {
   "cell_type": "markdown",
   "metadata": {
    "cell_id": "00022-5d235958-30ad-45c1-ac19-be199c971cb5",
    "deepnote_cell_type": "markdown",
    "tags": []
   },
   "source": [
    "## Pipeline"
   ]
  },
  {
   "cell_type": "markdown",
   "metadata": {
    "cell_id": "00016-1f2ca7a5-1c41-4140-8797-873b7eaca31f",
    "deepnote_cell_type": "markdown",
    "tags": []
   },
   "source": [
    "Pipeline with oversampling bootstrapping (SMOTE). Metric is using ROC-AUC as we are trying to identify the accuracy of the model.\n",
    "\n",
    "In this scenario, the identification of the true cases (WNV Present) to the False Negative (Type II error where predicted to be not present proved to be otherwise) in order to better navigate resources to the location for pesticide control."
   ]
  },
  {
   "cell_type": "markdown",
   "metadata": {
    "cell_id": "00016-3c1d48e9-ca7f-4112-8c07-28807d1c915c",
    "deepnote_cell_type": "text-cell-h3",
    "tags": []
   },
   "source": [
    "### Logistic Regression"
   ]
  },
  {
   "cell_type": "code",
   "execution_count": 10,
   "metadata": {
    "cell_id": "00023-4e1b5f34-4bcd-4007-b093-22991833bca7",
    "deepnote_cell_type": "code",
    "deepnote_to_be_reexecuted": false,
    "execution_millis": 2916,
    "execution_start": 1620108691278,
    "source_hash": "80f652cd",
    "tags": []
   },
   "outputs": [
    {
     "name": "stdout",
     "output_type": "stream",
     "text": [
      "Training Accuracy:  0.7660391855551287\n",
      "Testing Accuracy:  0.7484639016897081\n",
      "\n",
      "\n"
     ]
    },
    {
     "data": {
      "text/plain": [
       "{'logreg__C': 0.01,\n",
       " 'logreg__class_weight': 'balanced',\n",
       " 'logreg__solver': 'liblinear'}"
      ]
     },
     "execution_count": 10,
     "metadata": {},
     "output_type": "execute_result"
    }
   ],
   "source": [
    "#Instantiate pipeline \n",
    "pipe = Pipeline([\n",
    "    ('ss' , StandardScaler()),\n",
    "    ('oversample', SMOTE(random_state=42)),\n",
    "    ('logreg', LogisticRegression(random_state=42, max_iter=10000))\n",
    "])\n",
    "\n",
    "#set pipe params\n",
    "pipe_params = {\n",
    "    'logreg__solver' : ['liblinear','lbfgs'],\n",
    "    'logreg__C': np.logspace(-2, 1, 1),\n",
    "    'logreg__class_weight':[\"balanced\",]\n",
    "}\n",
    "\n",
    "#gridsearch\n",
    "gs = GridSearchCV(pipe, pipe_params,  cv=5,n_jobs=-1, scoring='roc_auc')\n",
    "#fit model\n",
    "gs.fit(X_train, y_train)\n",
    "best_logreg = gs.best_estimator_\n",
    "\n",
    "print('Training Accuracy: ', best_logreg.score(X_train, y_train))\n",
    "print('Testing Accuracy: ', best_logreg.score(X_test, y_test))\n",
    "print('\\n')\n",
    "gs.best_params_"
   ]
  },
  {
   "cell_type": "markdown",
   "metadata": {
    "cell_id": "00020-fb0645f7-e74d-45b7-b525-888fabbd66ad",
    "deepnote_cell_type": "text-cell-h3",
    "tags": []
   },
   "source": [
    "### K Nearest Neighbours"
   ]
  },
  {
   "cell_type": "code",
   "execution_count": 11,
   "metadata": {
    "cell_id": "00018-eedcf37e-12c4-456c-8b20-b5edad0b0c7c",
    "deepnote_cell_type": "code",
    "deepnote_to_be_reexecuted": false,
    "execution_millis": 36028,
    "execution_start": 1620108694196,
    "source_hash": "c6398117",
    "tags": []
   },
   "outputs": [
    {
     "name": "stdout",
     "output_type": "stream",
     "text": [
      "Training Accuracy:  0.8944807273658599\n",
      "Testing Accuracy:  0.8521505376344086\n",
      "\n",
      "\n"
     ]
    },
    {
     "data": {
      "text/plain": [
       "{'knn__n_neighbors': 10, 'knn__p': 1, 'knn__weights': 'uniform'}"
      ]
     },
     "execution_count": 11,
     "metadata": {},
     "output_type": "execute_result"
    }
   ],
   "source": [
    "#Instantiate pipeline\n",
    "pipe = Pipeline([\n",
    "    ('ss' , StandardScaler()),\n",
    "    ('oversample', SMOTE(random_state=42)),\n",
    "    ('knn', KNeighborsClassifier())\n",
    "])\n",
    "\n",
    "#set pipe params\n",
    "pipe_params = {\n",
    "    'knn__n_neighbors' : [3,5,7,10],\n",
    "    'knn__weights' : ['uniform','distance'],\n",
    "    'knn__p': [1,2]\n",
    "}\n",
    "#grid search\n",
    "gs = GridSearchCV(pipe, pipe_params, cv=5 ,n_jobs=-1, scoring='roc_auc')\n",
    "#fit model\n",
    "gs.fit(X_train, y_train)\n",
    "best_knn = gs.best_estimator_\n",
    "\n",
    "print('Training Accuracy: ', best_knn.score(X_train, y_train))\n",
    "print('Testing Accuracy: ', best_knn.score(X_test, y_test))\n",
    "print('\\n')\n",
    "gs.best_params_"
   ]
  },
  {
   "cell_type": "markdown",
   "metadata": {
    "cell_id": "00021-46c24b74-a626-4066-93f0-3339749b863d",
    "deepnote_cell_type": "text-cell-h3",
    "tags": []
   },
   "source": [
    "### Random Forest"
   ]
  },
  {
   "cell_type": "code",
   "execution_count": 12,
   "metadata": {
    "cell_id": "00021-fd0a2dc5-478a-4e8c-b8d6-e44a07d80c10",
    "deepnote_cell_type": "code",
    "deepnote_to_be_reexecuted": false,
    "execution_millis": 34219,
    "execution_start": 1620111765755,
    "source_hash": "a1f2b08a",
    "tags": []
   },
   "outputs": [
    {
     "name": "stdout",
     "output_type": "stream",
     "text": [
      "Training Accuracy:  0.8899987194263029\n",
      "Testing Accuracy:  0.8844086021505376\n",
      "\n",
      "\n"
     ]
    },
    {
     "data": {
      "text/plain": [
       "{'rf__max_depth': 10, 'rf__n_estimators': 150}"
      ]
     },
     "execution_count": 12,
     "metadata": {},
     "output_type": "execute_result"
    }
   ],
   "source": [
    "#Instantiate pipeline\n",
    "pipe = Pipeline([\n",
    "    ('ss' , StandardScaler()),\n",
    "    ('oversample', SMOTE(random_state=42)),\n",
    "    ('rf', RandomForestClassifier(random_state=42, bootstrap=True))\n",
    "])\n",
    "\n",
    "#set pipe params\n",
    "pipe_params = {\n",
    "    'rf__n_estimators': [100,150,250],\n",
    "    'rf__max_depth': [1,3,9,10]\n",
    "}\n",
    "#grid search\n",
    "gs = GridSearchCV(pipe, pipe_params, cv=5 ,n_jobs=-1, scoring='roc_auc')\n",
    "#fit model\n",
    "gs.fit(X_train, y_train)\n",
    "best_rf = gs.best_estimator_\n",
    "\n",
    "print('Training Accuracy: ', best_rf.score(X_train, y_train))\n",
    "print('Testing Accuracy: ', best_rf.score(X_test, y_test))\n",
    "print('\\n')\n",
    "gs.best_params_"
   ]
  },
  {
   "cell_type": "code",
   "execution_count": 13,
   "metadata": {
    "cell_id": "00019-bc847140-f8a4-4526-93b4-50d7a5a74e04",
    "deepnote_cell_type": "code",
    "deepnote_to_be_reexecuted": false,
    "execution_millis": 3669,
    "execution_start": 1620111364865,
    "source_hash": "b28b0192",
    "tags": []
   },
   "outputs": [
    {
     "data": {
      "text/html": [
       "<div>\n",
       "<style scoped>\n",
       "    .dataframe tbody tr th:only-of-type {\n",
       "        vertical-align: middle;\n",
       "    }\n",
       "\n",
       "    .dataframe tbody tr th {\n",
       "        vertical-align: top;\n",
       "    }\n",
       "\n",
       "    .dataframe thead th {\n",
       "        text-align: right;\n",
       "    }\n",
       "</style>\n",
       "<table border=\"1\" class=\"dataframe\">\n",
       "  <thead>\n",
       "    <tr style=\"text-align: right;\">\n",
       "      <th></th>\n",
       "      <th>Model</th>\n",
       "      <th>Training Accuracy</th>\n",
       "      <th>Test Accuracy</th>\n",
       "    </tr>\n",
       "  </thead>\n",
       "  <tbody>\n",
       "    <tr>\n",
       "      <th>0</th>\n",
       "      <td>Balanced Baseline</td>\n",
       "      <td>0.500000</td>\n",
       "      <td>0.500000</td>\n",
       "    </tr>\n",
       "    <tr>\n",
       "      <th>1</th>\n",
       "      <td>Logistic Regression</td>\n",
       "      <td>0.766039</td>\n",
       "      <td>0.748464</td>\n",
       "    </tr>\n",
       "    <tr>\n",
       "      <th>2</th>\n",
       "      <td>K Nearest Neighbors</td>\n",
       "      <td>0.894481</td>\n",
       "      <td>0.852151</td>\n",
       "    </tr>\n",
       "    <tr>\n",
       "      <th>3</th>\n",
       "      <td>Random Forest</td>\n",
       "      <td>0.889999</td>\n",
       "      <td>0.884409</td>\n",
       "    </tr>\n",
       "  </tbody>\n",
       "</table>\n",
       "</div>"
      ],
      "text/plain": [
       "                 Model  Training Accuracy  Test Accuracy\n",
       "0    Balanced Baseline           0.500000       0.500000\n",
       "1  Logistic Regression           0.766039       0.748464\n",
       "2  K Nearest Neighbors           0.894481       0.852151\n",
       "3        Random Forest           0.889999       0.884409"
      ]
     },
     "execution_count": 13,
     "metadata": {},
     "output_type": "execute_result"
    }
   ],
   "source": [
    "#display result in dataframe\n",
    "model_df = pd.DataFrame({\n",
    "    'Model' :['Balanced Baseline','Logistic Regression','K Nearest Neighbors','Random Forest'],\n",
    "    'Training Accuracy' : [0.5, best_logreg.score(X_train, y_train),best_knn.score(X_train, y_train),best_rf.score(X_train, y_train)],\n",
    "    'Test Accuracy' : [0.5 ,best_logreg.score(X_test, y_test),best_knn.score(X_test, y_test),best_rf.score(X_test, y_test)]\n",
    "})\n",
    "\n",
    "model_df"
   ]
  },
  {
   "cell_type": "markdown",
   "metadata": {
    "cell_id": "00024-fc3362cc-5948-458c-8076-10714c6f7da9",
    "deepnote_cell_type": "text-cell-h2",
    "tags": []
   },
   "source": [
    "## Model Selection"
   ]
  },
  {
   "cell_type": "markdown",
   "metadata": {
    "cell_id": "00025-8e7359c0-a6c4-408e-90b0-38fe39c2f5ce",
    "deepnote_cell_type": "markdown",
    "tags": []
   },
   "source": [
    "Based on the training and test set ROC AUC score, the best model with the best score is using Random Forest Classifier for both training and test set. "
   ]
  },
  {
   "cell_type": "code",
   "execution_count": 14,
   "metadata": {
    "cell_id": "00024-ab7576fe-e182-4f91-b3c6-856f6221356b",
    "deepnote_cell_type": "code",
    "deepnote_to_be_reexecuted": false,
    "execution_millis": 2550,
    "execution_start": 1620111368532,
    "source_hash": "3e0f9509",
    "tags": []
   },
   "outputs": [],
   "source": [
    "#model selection and prediction for validation \n",
    "best_model = best_rf\n",
    "best_model.fit(X_train,y_train)\n",
    "\n",
    "#predict all datasets\n",
    "y_preds = best_model.predict(X)"
   ]
  },
  {
   "cell_type": "code",
   "execution_count": 15,
   "metadata": {
    "cell_id": "00027-c53f404c-95f9-4a45-b6b5-bd8e0c2a79c4",
    "deepnote_cell_type": "code",
    "deepnote_to_be_reexecuted": false,
    "execution_millis": 13,
    "execution_start": 1620111371096,
    "source_hash": "d0e570",
    "tags": []
   },
   "outputs": [
    {
     "data": {
      "text/html": [
       "<div>\n",
       "<style scoped>\n",
       "    .dataframe tbody tr th:only-of-type {\n",
       "        vertical-align: middle;\n",
       "    }\n",
       "\n",
       "    .dataframe tbody tr th {\n",
       "        vertical-align: top;\n",
       "    }\n",
       "\n",
       "    .dataframe thead th {\n",
       "        text-align: right;\n",
       "    }\n",
       "</style>\n",
       "<table border=\"1\" class=\"dataframe\">\n",
       "  <thead>\n",
       "    <tr style=\"text-align: right;\">\n",
       "      <th></th>\n",
       "      <th>true_values</th>\n",
       "      <th>preds_values</th>\n",
       "    </tr>\n",
       "  </thead>\n",
       "  <tbody>\n",
       "    <tr>\n",
       "      <th>0</th>\n",
       "      <td>0</td>\n",
       "      <td>0</td>\n",
       "    </tr>\n",
       "    <tr>\n",
       "      <th>1</th>\n",
       "      <td>0</td>\n",
       "      <td>0</td>\n",
       "    </tr>\n",
       "    <tr>\n",
       "      <th>2</th>\n",
       "      <td>0</td>\n",
       "      <td>0</td>\n",
       "    </tr>\n",
       "    <tr>\n",
       "      <th>3</th>\n",
       "      <td>0</td>\n",
       "      <td>0</td>\n",
       "    </tr>\n",
       "    <tr>\n",
       "      <th>4</th>\n",
       "      <td>0</td>\n",
       "      <td>0</td>\n",
       "    </tr>\n",
       "  </tbody>\n",
       "</table>\n",
       "</div>"
      ],
      "text/plain": [
       "   true_values  preds_values\n",
       "0            0             0\n",
       "1            0             0\n",
       "2            0             0\n",
       "3            0             0\n",
       "4            0             0"
      ]
     },
     "execution_count": 15,
     "metadata": {},
     "output_type": "execute_result"
    }
   ],
   "source": [
    "#compare ytest and prediction\n",
    "pred_df = pd.DataFrame({'true_values': y,\n",
    "                        'preds_values': y_preds})\n",
    "\n",
    "pred_df.head()"
   ]
  },
  {
   "cell_type": "markdown",
   "metadata": {
    "cell_id": "00026-e43391a1-0249-484e-abf3-6f0c0caccced",
    "deepnote_cell_type": "text-cell-h2",
    "tags": []
   },
   "source": [
    "## Model Evaluation"
   ]
  },
  {
   "cell_type": "markdown",
   "metadata": {
    "cell_id": "00030-e4d71331-91fe-455b-b5e7-3ca66197e7d6",
    "deepnote_cell_type": "text-cell-h3",
    "tags": []
   },
   "source": [
    "### Confusion Matrix"
   ]
  },
  {
   "cell_type": "code",
   "execution_count": 16,
   "metadata": {
    "cell_id": "00025-368da4ae-95f4-4d6f-bf2d-14f6b6faaee0",
    "deepnote_cell_type": "code",
    "deepnote_to_be_reexecuted": false,
    "execution_millis": 8,
    "execution_start": 1620111371400,
    "source_hash": "83bebc64",
    "tags": []
   },
   "outputs": [],
   "source": [
    "#plot cm to check for prediction accuracy\n",
    "cm = confusion_matrix(y,y_preds)"
   ]
  },
  {
   "cell_type": "code",
   "execution_count": 17,
   "metadata": {
    "cell_id": "00034-5f17f6f8-af9d-4f68-97f2-b8b3ac585d9a",
    "deepnote_cell_type": "code",
    "deepnote_to_be_reexecuted": false,
    "execution_millis": 9,
    "execution_start": 1620111371413,
    "source_hash": "79fe093b",
    "tags": []
   },
   "outputs": [],
   "source": [
    "tn,fp,fn,tp = confusion_matrix(y, y_preds).ravel()"
   ]
  },
  {
   "cell_type": "code",
   "execution_count": 18,
   "metadata": {
    "cell_id": "00035-2ae50612-538d-4fcb-8e64-9f60ad7cf12e",
    "deepnote_cell_type": "code",
    "deepnote_to_be_reexecuted": false,
    "execution_millis": 10,
    "execution_start": 1620111371436,
    "source_hash": "4c9d26c4",
    "tags": []
   },
   "outputs": [
    {
     "name": "stdout",
     "output_type": "stream",
     "text": [
      "True Negatives: 8970\n",
      "False Positives: 892\n",
      "False Negatives: 268\n",
      "True Positives: 283\n"
     ]
    }
   ],
   "source": [
    "print(f'True Negatives: {tn}') #predict absent is absent\n",
    "print(f'False Positives: {fp}') #predict present but absent\n",
    "print(f'False Negatives: {fn}') #predict absent but present\n",
    "print(f'True Positives: {tp}') #predict present is present"
   ]
  },
  {
   "cell_type": "code",
   "execution_count": 19,
   "metadata": {
    "cell_id": "00036-e834b631-6ad2-47c4-a354-b2f22f84e80e",
    "deepnote_cell_type": "code",
    "deepnote_to_be_reexecuted": false,
    "execution_millis": 329,
    "execution_start": 1620111371465,
    "source_hash": "92730000",
    "tags": []
   },
   "outputs": [
    {
     "data": {
      "image/png": "[encoded data removed]",
      "text/plain": [
       "<Figure size 576x576 with 2 Axes>"
      ]
     },
     "metadata": {
      "needs_background": "light"
     },
     "output_type": "display_data"
    }
   ],
   "source": [
    "fig, ax = plt.subplots(figsize=(8, 8))\n",
    "plt.rcParams.update({'font.size': 20})\n",
    "plot_confusion_matrix(best_model, X, y, cmap= 'Blues', \n",
    "                  values_format='d', ax=ax );\n",
    "plt.title('Confusion Matrix')\n",
    "plt.savefig('../images/confusion_matrix.png')\n",
    "plt.show()"
   ]
  },
  {
   "cell_type": "markdown",
   "metadata": {
    "cell_id": "00032-e089f54a-2fc7-4417-8e21-31497a8e2f45",
    "deepnote_cell_type": "markdown",
    "tags": []
   },
   "source": [
    "*Confusion matrix plotted for Predicted and True Values for Class 1 (WNV Present) to Class 0 (No WNV Present) demonstrates the specificity and sensitivity of the model.*"
   ]
  },
  {
   "cell_type": "code",
   "execution_count": 20,
   "metadata": {
    "cell_id": "00038-ff0aa253-8031-4d49-991a-6bf380173c99",
    "deepnote_cell_type": "code",
    "deepnote_to_be_reexecuted": false,
    "execution_millis": 2,
    "execution_start": 1620111371785,
    "source_hash": "ec147f4",
    "tags": []
   },
   "outputs": [],
   "source": [
    "sensitivity = tp / (tp + fn)\n",
    "specificity = tn / (tn + fp)\n",
    "precision = tp/(fp+tp)"
   ]
  },
  {
   "cell_type": "code",
   "execution_count": 21,
   "metadata": {
    "cell_id": "00038-4f8b73ca-bf78-4271-bc30-38b78e83ef0d",
    "deepnote_cell_type": "code",
    "deepnote_to_be_reexecuted": false,
    "execution_millis": 18,
    "execution_start": 1620111371791,
    "source_hash": "8dc099c6",
    "tags": []
   },
   "outputs": [
    {
     "name": "stdout",
     "output_type": "stream",
     "text": [
      "Sensitivity:  0.51\n",
      "Specificity:  0.91\n",
      "Precision: 0.24\n"
     ]
    }
   ],
   "source": [
    "print(\"Sensitivity: \", round(sensitivity,2))\n",
    "print(\"Specificity: \", round(specificity,2))\n",
    "print(\"Precision:\", round(precision,2))"
   ]
  },
  {
   "cell_type": "markdown",
   "metadata": {
    "cell_id": "00035-5bda7d5e-0413-4e25-8e24-6250c977664f",
    "deepnote_cell_type": "markdown",
    "tags": []
   },
   "source": [
    "In this problem statement, the concern on the model prediction will be the false negative, also known as Type II error. With specificity/ recall at 0.88, and sensitivity at 0.59 the model is able to identify the true positive rate and true negative rate accordingly.\n",
    "\n",
    "However, the precision score is low at 0.22 only. This means the model has been predicting cases as positive more than it should have been. "
   ]
  },
  {
   "cell_type": "markdown",
   "metadata": {
    "cell_id": "00027-c97efd15-b29f-4059-b233-1647a09fcf0c",
    "deepnote_cell_type": "text-cell-h3",
    "tags": []
   },
   "source": [
    "### ROC AUC"
   ]
  },
  {
   "cell_type": "code",
   "execution_count": 22,
   "metadata": {
    "cell_id": "00039-4d4a5733-e692-4356-b1b9-31e959b01327",
    "deepnote_cell_type": "code",
    "deepnote_to_be_reexecuted": false,
    "execution_millis": 5355099,
    "execution_start": 1620111371801,
    "source_hash": "cab1f83a",
    "tags": []
   },
   "outputs": [
    {
     "name": "stdout",
     "output_type": "stream",
     "text": [
      "True Positive Rate:  0.51\n",
      "True Negative Rate (False Positive Rate) 0.09\n"
     ]
    }
   ],
   "source": [
    "TPR = sensitivity\n",
    "print(\"True Positive Rate: \", round(TPR,2))\n",
    "TNR = 1 - specificity\n",
    "print(\"True Negative Rate (False Positive Rate)\", round(TNR,2))"
   ]
  },
  {
   "cell_type": "code",
   "execution_count": 23,
   "metadata": {
    "cell_id": "00024-77953e39-2ec8-4935-95c6-34ad1da7206a",
    "deepnote_cell_type": "code",
    "deepnote_to_be_reexecuted": false,
    "execution_millis": 316,
    "execution_start": 1620111371849,
    "source_hash": "5d04efca",
    "tags": []
   },
   "outputs": [
    {
     "data": {
      "image/png": "[encoded data removed]",
      "text/plain": [
       "<Figure size 720x576 with 1 Axes>"
      ]
     },
     "metadata": {
      "needs_background": "light"
     },
     "output_type": "display_data"
    }
   ],
   "source": [
    "fig, ax = plt.subplots(figsize=(10, 8))\n",
    "plot_roc_curve(best_model,X,y,ax=ax)\n",
    "plt.plot([0,1],[0,1], color='tab:orange', linestyle='--', label='Baseline')\n",
    "\n",
    "plt.title('ROC AUC Curve - Random Forest Model')\n",
    "plt.legend()\n",
    "plt.savefig('../images/ROC_AUC.png')\n",
    "plt.show()"
   ]
  },
  {
   "cell_type": "markdown",
   "metadata": {
    "cell_id": "00044-2594b6ed-a3b7-480c-98d3-35cd371bde3c",
    "deepnote_cell_type": "text-cell-h3",
    "tags": []
   },
   "source": [
    "### Model Threshold Adjustment"
   ]
  },
  {
   "cell_type": "markdown",
   "metadata": {},
   "source": [
    "The model has a huge gap for improvement, in which the existing pipeline only has AUC of 0.87. Hence, we will look into the model prediction to observe the possible threshold changes."
   ]
  },
  {
   "cell_type": "code",
   "execution_count": 24,
   "metadata": {
    "cell_id": "00038-db087641-fdb0-45db-9878-6e108024c74c",
    "deepnote_cell_type": "code",
    "deepnote_to_be_reexecuted": false,
    "execution_millis": 45,
    "execution_start": 1620111372162,
    "source_hash": "73c8f274",
    "tags": []
   },
   "outputs": [
    {
     "data": {
      "text/html": [
       "<div>\n",
       "<style scoped>\n",
       "    .dataframe tbody tr th:only-of-type {\n",
       "        vertical-align: middle;\n",
       "    }\n",
       "\n",
       "    .dataframe tbody tr th {\n",
       "        vertical-align: top;\n",
       "    }\n",
       "\n",
       "    .dataframe thead th {\n",
       "        text-align: right;\n",
       "    }\n",
       "</style>\n",
       "<table border=\"1\" class=\"dataframe\">\n",
       "  <thead>\n",
       "    <tr style=\"text-align: right;\">\n",
       "      <th></th>\n",
       "      <th>true_values</th>\n",
       "      <th>pred_probs</th>\n",
       "    </tr>\n",
       "  </thead>\n",
       "  <tbody>\n",
       "    <tr>\n",
       "      <th>4459</th>\n",
       "      <td>0</td>\n",
       "      <td>0.008365</td>\n",
       "    </tr>\n",
       "    <tr>\n",
       "      <th>4099</th>\n",
       "      <td>0</td>\n",
       "      <td>0.001362</td>\n",
       "    </tr>\n",
       "    <tr>\n",
       "      <th>4423</th>\n",
       "      <td>0</td>\n",
       "      <td>0.005697</td>\n",
       "    </tr>\n",
       "    <tr>\n",
       "      <th>521</th>\n",
       "      <td>0</td>\n",
       "      <td>0.018625</td>\n",
       "    </tr>\n",
       "    <tr>\n",
       "      <th>10393</th>\n",
       "      <td>0</td>\n",
       "      <td>0.376907</td>\n",
       "    </tr>\n",
       "  </tbody>\n",
       "</table>\n",
       "</div>"
      ],
      "text/plain": [
       "       true_values  pred_probs\n",
       "4459             0    0.008365\n",
       "4099             0    0.001362\n",
       "4423             0    0.005697\n",
       "521              0    0.018625\n",
       "10393            0    0.376907"
      ]
     },
     "execution_count": 24,
     "metadata": {},
     "output_type": "execute_result"
    }
   ],
   "source": [
    "#y_test vs predict proba\n",
    "pred_prob_df = pd.DataFrame({'true_values': y_test,\n",
    "                        'pred_probs': best_model.predict_proba(X_test)[:,1]})\n",
    "\n",
    "pred_prob_df.head()"
   ]
  },
  {
   "cell_type": "code",
   "execution_count": 25,
   "metadata": {
    "cell_id": "00038-d332f274-002e-43a4-b704-c81a45bb9898",
    "deepnote_cell_type": "code",
    "deepnote_to_be_reexecuted": false,
    "execution_millis": 1250,
    "execution_start": 1620111372209,
    "source_hash": "71fd5055",
    "tags": []
   },
   "outputs": [
    {
     "data": {
      "image/png": "[encoded data removed]",
      "text/plain": [
       "<Figure size 864x720 with 1 Axes>"
      ]
     },
     "metadata": {
      "needs_background": "light"
     },
     "output_type": "display_data"
    }
   ],
   "source": [
    "plt.figure(figsize = (12, 10))\n",
    "\n",
    "# plot distributions of predicted probabilities by actual values\n",
    "for group in pred_prob_df.groupby('true_values'):\n",
    "    sns.histplot(group[1], kde = False, bins = 100)\n",
    "\n",
    "plt.xlabel('Predicted Probability that Outcome = 1')\n",
    "plt.title('Relationship between Sensitivity and Specificity')\n",
    "plt.ylim(0,200)\n",
    "plt.show()"
   ]
  },
  {
   "cell_type": "markdown",
   "metadata": {},
   "source": [
    "**Observation:** The overlap between the predictions are high and mostly inclined for 0 prediction. "
   ]
  },
  {
   "cell_type": "code",
   "execution_count": 26,
   "metadata": {
    "cell_id": "00038-6b7c73c2-56f0-44b0-a93d-bdea42c5d1b4",
    "deepnote_cell_type": "code",
    "deepnote_to_be_reexecuted": false,
    "execution_millis": 1,
    "execution_start": 1620111373448,
    "source_hash": "e4d72c3e",
    "tags": []
   },
   "outputs": [],
   "source": [
    "def get_predictions(probabilities, threshold):\n",
    "    return [0 if prob < threshold else 1 for prob in probabilities]"
   ]
  },
  {
   "cell_type": "code",
   "execution_count": 27,
   "metadata": {
    "cell_id": "00043-3e2afd47-458a-48f7-b8dc-d015a6f2f7ad",
    "deepnote_cell_type": "code",
    "deepnote_to_be_reexecuted": false,
    "execution_millis": 192,
    "execution_start": 1620111373456,
    "source_hash": "9c0e2dff",
    "tags": []
   },
   "outputs": [
    {
     "name": "stdout",
     "output_type": "stream",
     "text": [
      "Threshold: 0.45, Recall: 0.46, Precision: 0.20, f1 : 0.27\n",
      "Threshold: 0.50, Recall: 0.38, Precision: 0.20, f1 : 0.26\n",
      "Threshold: 0.55, Recall: 0.33, Precision: 0.20, f1 : 0.25\n",
      "Threshold: 0.60, Recall: 0.27, Precision: 0.23, f1 : 0.25\n"
     ]
    }
   ],
   "source": [
    "threshold_list = [0.45, 0.5, 0.55, 0.6]\n",
    "\n",
    "for threshold in threshold_list:\n",
    "    preds = get_predictions(best_model.predict_proba(X_test)[:,1], threshold)\n",
    "    rec = recall_score(y_test, preds)\n",
    "    prec = precision_score(y_test, preds)\n",
    "    f1 = f1_score(y_test, preds)\n",
    "    print(f'Threshold: {threshold:.2f}, Recall: {rec:.2f}, Precision: {prec:.2f}, f1 : {f1:.2f}')"
   ]
  },
  {
   "cell_type": "markdown",
   "metadata": {},
   "source": [
    "The threshold changes does not improve beyond the current model, of 0.22, however take a huge dive in the recall. In this matter, no changes on the threshold will be made on the existing model. "
   ]
  },
  {
   "cell_type": "markdown",
   "metadata": {},
   "source": [
    "### Feature Importance"
   ]
  },
  {
   "cell_type": "code",
   "execution_count": 28,
   "metadata": {
    "cell_id": "00051-93f65323-51ed-4c75-9087-0a36bfd739e6",
    "deepnote_cell_type": "code",
    "deepnote_to_be_reexecuted": false,
    "execution_millis": 12,
    "execution_start": 1620111373650,
    "source_hash": "cbeb1004",
    "tags": []
   },
   "outputs": [
    {
     "data": {
      "text/plain": [
       "Pipeline(steps=[('ss', StandardScaler()),\n",
       "                ('oversample', SMOTE(random_state=42)),\n",
       "                ('rf',\n",
       "                 RandomForestClassifier(max_depth=10, n_estimators=150,\n",
       "                                        random_state=42))])"
      ]
     },
     "execution_count": 28,
     "metadata": {},
     "output_type": "execute_result"
    }
   ],
   "source": [
    "best_rf"
   ]
  },
  {
   "cell_type": "code",
   "execution_count": 29,
   "metadata": {
    "cell_id": "00050-5796a166-a0a3-4f1b-ad51-995be29cda9e",
    "deepnote_cell_type": "code",
    "deepnote_to_be_reexecuted": false,
    "execution_millis": 755,
    "execution_start": 1620111373713,
    "source_hash": "51bf696",
    "tags": []
   },
   "outputs": [
    {
     "data": {
      "text/plain": [
       "RandomForestClassifier(max_depth=15, n_estimators=150)"
      ]
     },
     "execution_count": 29,
     "metadata": {},
     "output_type": "execute_result"
    }
   ],
   "source": [
    "# Extracting feature importances\n",
    "rf = RandomForestClassifier(max_depth=15, n_estimators=150)\n",
    "rf.fit(X_train, y_train)"
   ]
  },
  {
   "cell_type": "code",
   "execution_count": 30,
   "metadata": {
    "cell_id": "00051-3da1865c-f5d3-4085-a498-5a7d675723f2",
    "deepnote_cell_type": "code",
    "deepnote_to_be_reexecuted": false,
    "execution_millis": 24,
    "execution_start": 1620111374465,
    "source_hash": "ff3268ab",
    "tags": []
   },
   "outputs": [
    {
     "data": {
      "text/plain": [
       "array([9.92000093e-02, 1.00049324e-01, 5.28991007e-03, 3.36217051e-03,\n",
       "       8.75322225e-04, 1.28943125e-03, 2.85383486e-03, 6.33827299e-03,\n",
       "       9.08193494e-04, 4.46720109e-03, 3.21552706e-03, 2.71848704e-03,\n",
       "       3.82814095e-06, 2.17264003e-03, 1.00438615e-03, 8.88938426e-04,\n",
       "       2.28545375e-04, 2.10784330e-05, 2.61904895e-03, 4.07087571e-03,\n",
       "       6.49734850e-03, 3.14838161e-03, 5.68898616e-03, 3.46194636e-03,\n",
       "       1.44296151e-03, 8.01505188e-03, 2.04029642e-03, 2.76122882e-03,\n",
       "       1.47197380e-04, 1.39237304e-04, 2.04017427e-03, 1.28123659e-02,\n",
       "       8.40090549e-03, 9.80021518e-03, 1.77205130e-02, 1.16600436e-04,\n",
       "       6.63434466e-03, 7.38483802e-03, 1.00193530e-02, 4.60056714e-05,\n",
       "       8.01027657e-04, 1.60789363e-03, 4.68106615e-03, 1.87234685e-05,\n",
       "       3.23343539e-05, 1.38540764e-05, 6.45967765e-03, 3.83847158e-03,\n",
       "       3.74004752e-03, 1.30108743e-04, 1.97472342e-03, 1.20031245e-03,\n",
       "       2.35081074e-03, 2.56564125e-05, 3.61581653e-03, 4.28036945e-03,\n",
       "       2.53781212e-03, 2.74846437e-03, 2.83379498e-05, 2.77667821e-03,\n",
       "       1.47938463e-03, 5.41481294e-03, 1.64529763e-03, 1.48376611e-03,\n",
       "       0.00000000e+00, 7.19994760e-04, 2.98200988e-03, 1.75787991e-03,\n",
       "       5.45479163e-03, 1.02255661e-02, 8.70267154e-06, 1.62989285e-04,\n",
       "       4.55613822e-05, 1.38792165e-03, 3.05328303e-04, 2.44069525e-03,\n",
       "       1.22615209e-03, 1.82117214e-03, 2.79851862e-06, 1.57954167e-03,\n",
       "       6.80130164e-05, 2.41132440e-03, 2.36174599e-06, 6.91784474e-04,\n",
       "       9.16260912e-03, 2.00158516e-03, 1.66779425e-06, 1.32575777e-05,\n",
       "       4.91370553e-03, 5.08783727e-03, 6.48595615e-03, 3.41475473e-03,\n",
       "       1.91708473e-04, 5.09226772e-04, 4.85813506e-05, 2.88989884e-03,\n",
       "       2.51960695e-03, 6.91893125e-03, 7.57412010e-03, 1.91362972e-04,\n",
       "       1.40633801e-03, 2.74447693e-06, 3.03684911e-06, 6.03642468e-03,\n",
       "       4.19143703e-03, 1.14285291e-03, 1.12567509e-04, 1.28707109e-04,\n",
       "       1.74247329e-03, 9.06158434e-04, 2.56496156e-04, 2.31985882e-03,\n",
       "       1.02732041e-02, 2.82985782e-03, 3.49643078e-04, 1.95246540e-05,\n",
       "       7.80473936e-04, 2.35726780e-03, 4.55583416e-03, 2.63286146e-04,\n",
       "       3.04294634e-04, 6.93043879e-04, 3.56983354e-03, 1.68172002e-02,\n",
       "       4.91938552e-06, 2.77249272e-03, 1.28102320e-03, 3.68168551e-03,\n",
       "       4.66792739e-05, 3.61752851e-04, 5.89117826e-03, 6.61298413e-03,\n",
       "       3.90660987e-03, 4.27062539e-03, 4.48200908e-03, 4.79378078e-03,\n",
       "       5.32076491e-04, 4.94683275e-03, 2.52605049e-03, 5.16347853e-03,\n",
       "       5.32406849e-03, 5.39925707e-03, 5.13290555e-03, 4.89682072e-03,\n",
       "       1.70176020e-02, 6.37252274e-03, 5.78610223e-03, 4.55142172e-03,\n",
       "       4.21535304e-03, 5.77069499e-03, 8.13584375e-04, 4.26827329e-03,\n",
       "       2.27612012e-03, 6.73218891e-03, 4.88704663e-03, 6.17920927e-03,\n",
       "       1.96951873e-02, 9.77007314e-03, 6.32960537e-03, 7.04661435e-03,\n",
       "       7.45923184e-03, 8.04434369e-03, 7.11217656e-03, 1.83908605e-02,\n",
       "       1.53287073e-02, 7.54774018e-03, 7.42871228e-03, 5.71417571e-03,\n",
       "       5.92226830e-03, 7.81994837e-03, 5.65453181e-03, 6.08040338e-04,\n",
       "       2.44909690e-03, 7.03405565e-03, 6.97478541e-03, 1.00475962e-02,\n",
       "       8.77428709e-03, 4.68562517e-02, 5.65138631e-02, 2.78071644e-02,\n",
       "       3.71095068e-03])"
      ]
     },
     "execution_count": 30,
     "metadata": {},
     "output_type": "execute_result"
    }
   ],
   "source": [
    "rf.feature_importances_"
   ]
  },
  {
   "cell_type": "code",
   "execution_count": 31,
   "metadata": {
    "cell_id": "00052-e7d7d5a2-2bc2-4c15-b1c8-5c2185911f87",
    "deepnote_cell_type": "code",
    "deepnote_to_be_reexecuted": false,
    "execution_millis": 18,
    "execution_start": 1620111374485,
    "source_hash": "f00938a8",
    "tags": []
   },
   "outputs": [],
   "source": [
    "df_fi = pd.DataFrame(zip(X.columns, rf.feature_importances_))"
   ]
  },
  {
   "cell_type": "code",
   "execution_count": 32,
   "metadata": {
    "cell_id": "00053-45787256-6bae-4178-8126-c43810fbf830",
    "deepnote_cell_type": "code",
    "deepnote_to_be_reexecuted": false,
    "execution_millis": 11,
    "execution_start": 1620111374515,
    "source_hash": "f2a4091",
    "tags": []
   },
   "outputs": [
    {
     "data": {
      "text/html": [
       "<div>\n",
       "<style scoped>\n",
       "    .dataframe tbody tr th:only-of-type {\n",
       "        vertical-align: middle;\n",
       "    }\n",
       "\n",
       "    .dataframe tbody tr th {\n",
       "        vertical-align: top;\n",
       "    }\n",
       "\n",
       "    .dataframe thead th {\n",
       "        text-align: right;\n",
       "    }\n",
       "</style>\n",
       "<table border=\"1\" class=\"dataframe\">\n",
       "  <thead>\n",
       "    <tr style=\"text-align: right;\">\n",
       "      <th></th>\n",
       "      <th>0</th>\n",
       "      <th>1</th>\n",
       "    </tr>\n",
       "  </thead>\n",
       "  <tbody>\n",
       "    <tr>\n",
       "      <th>0</th>\n",
       "      <td>latitude</td>\n",
       "      <td>0.099200</td>\n",
       "    </tr>\n",
       "    <tr>\n",
       "      <th>1</th>\n",
       "      <td>longitude</td>\n",
       "      <td>0.100049</td>\n",
       "    </tr>\n",
       "    <tr>\n",
       "      <th>2</th>\n",
       "      <td>street_  W ARMITAGE AVENUE</td>\n",
       "      <td>0.005290</td>\n",
       "    </tr>\n",
       "    <tr>\n",
       "      <th>3</th>\n",
       "      <td>street_ E 105TH ST</td>\n",
       "      <td>0.003362</td>\n",
       "    </tr>\n",
       "    <tr>\n",
       "      <th>4</th>\n",
       "      <td>street_ E 111TH ST</td>\n",
       "      <td>0.000875</td>\n",
       "    </tr>\n",
       "  </tbody>\n",
       "</table>\n",
       "</div>"
      ],
      "text/plain": [
       "                            0         1\n",
       "0                    latitude  0.099200\n",
       "1                   longitude  0.100049\n",
       "2  street_  W ARMITAGE AVENUE  0.005290\n",
       "3          street_ E 105TH ST  0.003362\n",
       "4          street_ E 111TH ST  0.000875"
      ]
     },
     "execution_count": 32,
     "metadata": {},
     "output_type": "execute_result"
    }
   ],
   "source": [
    "df_fi.head()"
   ]
  },
  {
   "cell_type": "code",
   "execution_count": 33,
   "metadata": {
    "cell_id": "00054-c82ac32f-7179-4c81-b173-0e340c722815",
    "deepnote_cell_type": "code",
    "deepnote_to_be_reexecuted": false,
    "execution_millis": 22,
    "execution_start": 1620112739522,
    "source_hash": "fe2c4fbe",
    "tags": []
   },
   "outputs": [
    {
     "data": {
      "text/html": [
       "<div>\n",
       "<style scoped>\n",
       "    .dataframe tbody tr th:only-of-type {\n",
       "        vertical-align: middle;\n",
       "    }\n",
       "\n",
       "    .dataframe tbody tr th {\n",
       "        vertical-align: top;\n",
       "    }\n",
       "\n",
       "    .dataframe thead th {\n",
       "        text-align: right;\n",
       "    }\n",
       "</style>\n",
       "<table border=\"1\" class=\"dataframe\">\n",
       "  <thead>\n",
       "    <tr style=\"text-align: right;\">\n",
       "      <th></th>\n",
       "      <th>0</th>\n",
       "      <th>1</th>\n",
       "    </tr>\n",
       "  </thead>\n",
       "  <tbody>\n",
       "    <tr>\n",
       "      <th>1</th>\n",
       "      <td>longitude</td>\n",
       "      <td>0.100049</td>\n",
       "    </tr>\n",
       "    <tr>\n",
       "      <th>0</th>\n",
       "      <td>latitude</td>\n",
       "      <td>0.099200</td>\n",
       "    </tr>\n",
       "    <tr>\n",
       "      <th>178</th>\n",
       "      <td>species_CULEX PIPIENS/RESTUANS</td>\n",
       "      <td>0.056514</td>\n",
       "    </tr>\n",
       "    <tr>\n",
       "      <th>177</th>\n",
       "      <td>species_CULEX PIPIENS</td>\n",
       "      <td>0.046856</td>\n",
       "    </tr>\n",
       "    <tr>\n",
       "      <th>179</th>\n",
       "      <td>species_CULEX RESTUANS</td>\n",
       "      <td>0.027807</td>\n",
       "    </tr>\n",
       "    <tr>\n",
       "      <th>156</th>\n",
       "      <td>daylightminssq</td>\n",
       "      <td>0.019695</td>\n",
       "    </tr>\n",
       "    <tr>\n",
       "      <th>163</th>\n",
       "      <td>daylightmin_sma_3</td>\n",
       "      <td>0.018391</td>\n",
       "    </tr>\n",
       "    <tr>\n",
       "      <th>34</th>\n",
       "      <td>street_ N OAK PARK AVE</td>\n",
       "      <td>0.017721</td>\n",
       "    </tr>\n",
       "    <tr>\n",
       "      <th>144</th>\n",
       "      <td>daylightmins</td>\n",
       "      <td>0.017018</td>\n",
       "    </tr>\n",
       "    <tr>\n",
       "      <th>123</th>\n",
       "      <td>street_ W OHARE AIRPORT</td>\n",
       "      <td>0.016817</td>\n",
       "    </tr>\n",
       "    <tr>\n",
       "      <th>164</th>\n",
       "      <td>daylightmin_sma_7</td>\n",
       "      <td>0.015329</td>\n",
       "    </tr>\n",
       "    <tr>\n",
       "      <th>31</th>\n",
       "      <td>street_ N MILWAUKEE AVE</td>\n",
       "      <td>0.012812</td>\n",
       "    </tr>\n",
       "    <tr>\n",
       "      <th>112</th>\n",
       "      <td>street_ W FULLERTON AVE</td>\n",
       "      <td>0.010273</td>\n",
       "    </tr>\n",
       "    <tr>\n",
       "      <th>69</th>\n",
       "      <td>street_ S KOSTNER AVE</td>\n",
       "      <td>0.010226</td>\n",
       "    </tr>\n",
       "    <tr>\n",
       "      <th>175</th>\n",
       "      <td>wetbulb_sma_3</td>\n",
       "      <td>0.010048</td>\n",
       "    </tr>\n",
       "    <tr>\n",
       "      <th>38</th>\n",
       "      <td>street_ N PULASKI RD</td>\n",
       "      <td>0.010019</td>\n",
       "    </tr>\n",
       "    <tr>\n",
       "      <th>33</th>\n",
       "      <td>street_ N MOSELL AVE</td>\n",
       "      <td>0.009800</td>\n",
       "    </tr>\n",
       "    <tr>\n",
       "      <th>157</th>\n",
       "      <td>tmin_sma_3</td>\n",
       "      <td>0.009770</td>\n",
       "    </tr>\n",
       "    <tr>\n",
       "      <th>84</th>\n",
       "      <td>street_ S UNION AVE</td>\n",
       "      <td>0.009163</td>\n",
       "    </tr>\n",
       "    <tr>\n",
       "      <th>176</th>\n",
       "      <td>wetbulb_sma_7</td>\n",
       "      <td>0.008774</td>\n",
       "    </tr>\n",
       "    <tr>\n",
       "      <th>32</th>\n",
       "      <td>street_ N MONT CLARE AVE</td>\n",
       "      <td>0.008401</td>\n",
       "    </tr>\n",
       "    <tr>\n",
       "      <th>161</th>\n",
       "      <td>tmax_sma_7</td>\n",
       "      <td>0.008044</td>\n",
       "    </tr>\n",
       "    <tr>\n",
       "      <th>25</th>\n",
       "      <td>street_ N LARAMIE AVE</td>\n",
       "      <td>0.008015</td>\n",
       "    </tr>\n",
       "    <tr>\n",
       "      <th>169</th>\n",
       "      <td>stnpressure_sma_3</td>\n",
       "      <td>0.007820</td>\n",
       "    </tr>\n",
       "    <tr>\n",
       "      <th>98</th>\n",
       "      <td>street_ W 65TH ST</td>\n",
       "      <td>0.007574</td>\n",
       "    </tr>\n",
       "    <tr>\n",
       "      <th>165</th>\n",
       "      <td>avgspeed_sma_3</td>\n",
       "      <td>0.007548</td>\n",
       "    </tr>\n",
       "    <tr>\n",
       "      <th>160</th>\n",
       "      <td>tmin_sma_7</td>\n",
       "      <td>0.007459</td>\n",
       "    </tr>\n",
       "    <tr>\n",
       "      <th>166</th>\n",
       "      <td>avgspeed_sma_7</td>\n",
       "      <td>0.007429</td>\n",
       "    </tr>\n",
       "    <tr>\n",
       "      <th>37</th>\n",
       "      <td>street_ N PITTSBURGH AVE</td>\n",
       "      <td>0.007385</td>\n",
       "    </tr>\n",
       "    <tr>\n",
       "      <th>162</th>\n",
       "      <td>tavg_sma_7</td>\n",
       "      <td>0.007112</td>\n",
       "    </tr>\n",
       "    <tr>\n",
       "      <th>159</th>\n",
       "      <td>tavg_sma_3</td>\n",
       "      <td>0.007047</td>\n",
       "    </tr>\n",
       "    <tr>\n",
       "      <th>173</th>\n",
       "      <td>cool_sma_3</td>\n",
       "      <td>0.007034</td>\n",
       "    </tr>\n",
       "    <tr>\n",
       "      <th>174</th>\n",
       "      <td>cool_sma_7</td>\n",
       "      <td>0.006975</td>\n",
       "    </tr>\n",
       "    <tr>\n",
       "      <th>97</th>\n",
       "      <td>street_ W 64TH ST</td>\n",
       "      <td>0.006919</td>\n",
       "    </tr>\n",
       "    <tr>\n",
       "      <th>153</th>\n",
       "      <td>resultspeedsq</td>\n",
       "      <td>0.006732</td>\n",
       "    </tr>\n",
       "    <tr>\n",
       "      <th>36</th>\n",
       "      <td>street_ N OKETO AVE</td>\n",
       "      <td>0.006634</td>\n",
       "    </tr>\n",
       "    <tr>\n",
       "      <th>131</th>\n",
       "      <td>tmin</td>\n",
       "      <td>0.006613</td>\n",
       "    </tr>\n",
       "    <tr>\n",
       "      <th>20</th>\n",
       "      <td>street_ N CENTRAL PARK DR</td>\n",
       "      <td>0.006497</td>\n",
       "    </tr>\n",
       "    <tr>\n",
       "      <th>90</th>\n",
       "      <td>street_ W 116TH ST</td>\n",
       "      <td>0.006486</td>\n",
       "    </tr>\n",
       "    <tr>\n",
       "      <th>46</th>\n",
       "      <td>street_ N WESTERN AVE</td>\n",
       "      <td>0.006460</td>\n",
       "    </tr>\n",
       "  </tbody>\n",
       "</table>\n",
       "</div>"
      ],
      "text/plain": [
       "                                  0         1\n",
       "1                         longitude  0.100049\n",
       "0                          latitude  0.099200\n",
       "178  species_CULEX PIPIENS/RESTUANS  0.056514\n",
       "177           species_CULEX PIPIENS  0.046856\n",
       "179          species_CULEX RESTUANS  0.027807\n",
       "156                  daylightminssq  0.019695\n",
       "163               daylightmin_sma_3  0.018391\n",
       "34           street_ N OAK PARK AVE  0.017721\n",
       "144                    daylightmins  0.017018\n",
       "123         street_ W OHARE AIRPORT  0.016817\n",
       "164               daylightmin_sma_7  0.015329\n",
       "31          street_ N MILWAUKEE AVE  0.012812\n",
       "112         street_ W FULLERTON AVE  0.010273\n",
       "69            street_ S KOSTNER AVE  0.010226\n",
       "175                   wetbulb_sma_3  0.010048\n",
       "38             street_ N PULASKI RD  0.010019\n",
       "33             street_ N MOSELL AVE  0.009800\n",
       "157                      tmin_sma_3  0.009770\n",
       "84              street_ S UNION AVE  0.009163\n",
       "176                   wetbulb_sma_7  0.008774\n",
       "32         street_ N MONT CLARE AVE  0.008401\n",
       "161                      tmax_sma_7  0.008044\n",
       "25            street_ N LARAMIE AVE  0.008015\n",
       "169               stnpressure_sma_3  0.007820\n",
       "98                street_ W 65TH ST  0.007574\n",
       "165                  avgspeed_sma_3  0.007548\n",
       "160                      tmin_sma_7  0.007459\n",
       "166                  avgspeed_sma_7  0.007429\n",
       "37         street_ N PITTSBURGH AVE  0.007385\n",
       "162                      tavg_sma_7  0.007112\n",
       "159                      tavg_sma_3  0.007047\n",
       "173                      cool_sma_3  0.007034\n",
       "174                      cool_sma_7  0.006975\n",
       "97                street_ W 64TH ST  0.006919\n",
       "153                   resultspeedsq  0.006732\n",
       "36              street_ N OKETO AVE  0.006634\n",
       "131                            tmin  0.006613\n",
       "20        street_ N CENTRAL PARK DR  0.006497\n",
       "90               street_ W 116TH ST  0.006486\n",
       "46            street_ N WESTERN AVE  0.006460"
      ]
     },
     "execution_count": 33,
     "metadata": {},
     "output_type": "execute_result"
    }
   ],
   "source": [
    "df_fi.sort_values(by = 1, ascending = False).head(40)"
   ]
  },
  {
   "cell_type": "code",
   "execution_count": 34,
   "metadata": {},
   "outputs": [
    {
     "data": {
      "text/html": [
       "<div>\n",
       "<style scoped>\n",
       "    .dataframe tbody tr th:only-of-type {\n",
       "        vertical-align: middle;\n",
       "    }\n",
       "\n",
       "    .dataframe tbody tr th {\n",
       "        vertical-align: top;\n",
       "    }\n",
       "\n",
       "    .dataframe thead th {\n",
       "        text-align: right;\n",
       "    }\n",
       "</style>\n",
       "<table border=\"1\" class=\"dataframe\">\n",
       "  <thead>\n",
       "    <tr style=\"text-align: right;\">\n",
       "      <th></th>\n",
       "      <th>0</th>\n",
       "      <th>1</th>\n",
       "    </tr>\n",
       "  </thead>\n",
       "  <tbody>\n",
       "    <tr>\n",
       "      <th>64</th>\n",
       "      <td>street_ S HAMLIN AVE</td>\n",
       "      <td>0.000000</td>\n",
       "    </tr>\n",
       "    <tr>\n",
       "      <th>86</th>\n",
       "      <td>street_ S WALLACE ST</td>\n",
       "      <td>0.000002</td>\n",
       "    </tr>\n",
       "    <tr>\n",
       "      <th>82</th>\n",
       "      <td>street_ S THROOP</td>\n",
       "      <td>0.000002</td>\n",
       "    </tr>\n",
       "    <tr>\n",
       "      <th>101</th>\n",
       "      <td>street_ W 77TH ST</td>\n",
       "      <td>0.000003</td>\n",
       "    </tr>\n",
       "    <tr>\n",
       "      <th>78</th>\n",
       "      <td>street_ S RACINE AVE</td>\n",
       "      <td>0.000003</td>\n",
       "    </tr>\n",
       "    <tr>\n",
       "      <th>102</th>\n",
       "      <td>street_ W 85TH ST</td>\n",
       "      <td>0.000003</td>\n",
       "    </tr>\n",
       "    <tr>\n",
       "      <th>12</th>\n",
       "      <td>street_ E RANDOLPH ST</td>\n",
       "      <td>0.000004</td>\n",
       "    </tr>\n",
       "    <tr>\n",
       "      <th>124</th>\n",
       "      <td>street_ W PERSHING RD</td>\n",
       "      <td>0.000005</td>\n",
       "    </tr>\n",
       "    <tr>\n",
       "      <th>70</th>\n",
       "      <td>street_ S LONGWOOD DR</td>\n",
       "      <td>0.000009</td>\n",
       "    </tr>\n",
       "    <tr>\n",
       "      <th>87</th>\n",
       "      <td>street_ S WESTERN AVE</td>\n",
       "      <td>0.000013</td>\n",
       "    </tr>\n",
       "  </tbody>\n",
       "</table>\n",
       "</div>"
      ],
      "text/plain": [
       "                         0         1\n",
       "64    street_ S HAMLIN AVE  0.000000\n",
       "86    street_ S WALLACE ST  0.000002\n",
       "82        street_ S THROOP  0.000002\n",
       "101      street_ W 77TH ST  0.000003\n",
       "78    street_ S RACINE AVE  0.000003\n",
       "102      street_ W 85TH ST  0.000003\n",
       "12   street_ E RANDOLPH ST  0.000004\n",
       "124  street_ W PERSHING RD  0.000005\n",
       "70   street_ S LONGWOOD DR  0.000009\n",
       "87   street_ S WESTERN AVE  0.000013"
      ]
     },
     "execution_count": 34,
     "metadata": {},
     "output_type": "execute_result"
    }
   ],
   "source": [
    "df_fi.sort_values(by = 1, ascending = True).head(10)"
   ]
  },
  {
   "cell_type": "markdown",
   "metadata": {},
   "source": [
    "The direct longitude and lattitude and the species are the critical features affecting the presence of WNV. We also observe the daylightmins also affecs the exposure for the mosquitos as well.\n",
    "\n",
    "Other features like the street, we see top two street, Ohare Airport and Oak Park Avenue at the North area of Chicago streets that has higher odds in the exposure of WNV mosquitos.\n",
    "\n",
    "This proves otherwise for the South area (Hamlin Ave, Wallace St, Racine Ave, 85th St, 77th St, Randolph St, Pershing Road, SunnySide Ave, Longwood Road, and Streeter Drive, making these locations WNV-free."
   ]
  },
  {
   "cell_type": "code",
   "execution_count": 35,
   "metadata": {
    "cell_id": "00055-64f453be-92e2-4a75-a0ea-60b9399551de",
    "deepnote_cell_type": "code",
    "deepnote_to_be_reexecuted": false,
    "execution_millis": 2,
    "execution_start": 1620111928990,
    "source_hash": "c8015492",
    "tags": []
   },
   "outputs": [],
   "source": [
    "X_test = test_merged[X.columns]"
   ]
  },
  {
   "cell_type": "code",
   "execution_count": 36,
   "metadata": {
    "cell_id": "00056-c3562369-9cfe-4178-ac91-cdfee60056dd",
    "deepnote_cell_type": "code",
    "deepnote_to_be_reexecuted": false,
    "execution_millis": 972,
    "execution_start": 1620111987780,
    "source_hash": "ec3f5488",
    "tags": []
   },
   "outputs": [],
   "source": [
    "kaggle_score = pd.DataFrame(zip(test_merged.id, gs.predict(X_test)))"
   ]
  },
  {
   "cell_type": "code",
   "execution_count": 37,
   "metadata": {
    "cell_id": "00058-7fc31b74-23ec-43fd-83da-eb036368ddb6",
    "deepnote_cell_type": "code",
    "deepnote_to_be_reexecuted": false,
    "execution_millis": 0,
    "execution_start": 1620112072555,
    "source_hash": "7cea5714",
    "tags": []
   },
   "outputs": [],
   "source": [
    "kaggle_score.rename(columns = {0:\"Id\", 1: \"WnvPresent\"}, inplace = True)"
   ]
  },
  {
   "cell_type": "code",
   "execution_count": 38,
   "metadata": {
    "cell_id": "00062-5f5dfb07-5bd1-4d78-b312-b6989d7c234e",
    "deepnote_cell_type": "code",
    "deepnote_to_be_reexecuted": false,
    "execution_millis": 229,
    "execution_start": 1620112211163,
    "source_hash": "955bb5dd",
    "tags": []
   },
   "outputs": [],
   "source": [
    "kaggle_score.to_csv('../data/best_submission.csv', index= False)"
   ]
  },
  {
   "cell_type": "markdown",
   "metadata": {},
   "source": [
    "## Conclusion"
   ]
  },
  {
   "cell_type": "code",
   "execution_count": null,
   "metadata": {},
   "outputs": [],
   "source": []
  }
 ],
 "metadata": {
  "deepnote": {
   "is_reactive": false
  },
  "deepnote_execution_queue": [],
  "deepnote_notebook_id": "20647e11-615c-4378-bbee-19b1cc4ab63d",
  "kernelspec": {
   "display_name": "Python 3",
   "language": "python",
   "name": "python3"
  },
  "language_info": {
   "codemirror_mode": {
    "name": "ipython",
    "version": 3
   },
   "file_extension": ".py",
   "mimetype": "text/x-python",
   "name": "python",
   "nbconvert_exporter": "python",
   "pygments_lexer": "ipython3",
   "version": "3.8.5"
  }
 },
 "nbformat": 4,
 "nbformat_minor": 2
}
