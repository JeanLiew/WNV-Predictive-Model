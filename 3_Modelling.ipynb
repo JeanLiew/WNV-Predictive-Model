{
 "cells": [
  {
   "cell_type": "code",
   "execution_count": 1,
   "metadata": {
    "cell_id": "00000-27b12978-dedb-4ff2-a71f-0f5d06daab17",
    "deepnote_cell_type": "code",
    "deepnote_to_be_reexecuted": false,
    "execution_millis": 1852,
    "execution_start": 1620108689233,
    "source_hash": "22e8ecc5",
    "tags": []
   },
   "outputs": [],
   "source": [
    "# Import libs\n",
    "import numpy as np\n",
    "import pandas as pd\n",
    "import matplotlib.pyplot as plt\n",
    "import seaborn as sns\n",
    "\n",
    "#Import ML libs\n",
    "from sklearn.model_selection import train_test_split, GridSearchCV\n",
    "from sklearn.linear_model import LogisticRegression\n",
    "from sklearn.metrics import confusion_matrix, plot_confusion_matrix, plot_roc_curve, f1_score, plot_precision_recall_curve, recall_score, precision_score\n",
    "from sklearn.preprocessing import StandardScaler\n",
    "from sklearn.ensemble import RandomForestClassifier\n",
    "from sklearn.neighbors import KNeighborsClassifier\n",
    "\n",
    "#import bootstrap libs\n",
    "from imblearn.over_sampling import SMOTE\n",
    "from imblearn.pipeline import make_pipeline, Pipeline\n",
    "\n",
    "#dummy classifier\n",
    "from sklearn.model_selection import cross_validate\n",
    "from sklearn.dummy import DummyClassifier"
   ]
  },
  {
   "cell_type": "code",
   "execution_count": 2,
   "metadata": {
    "cell_id": "00001-9a7a9497-2672-4987-91d9-04da3db2ce39",
    "deepnote_cell_type": "code",
    "deepnote_to_be_reexecuted": false,
    "execution_millis": 223,
    "execution_start": 1620111981694,
    "source_hash": "b5552fe9",
    "tags": []
   },
   "outputs": [],
   "source": [
    "# Load data\n",
    "train_merged = pd.read_csv('./data/train_street_merged.csv')\n",
    "test_merged = pd.read_csv('./data/test_street_merged.csv')\n",
    "submission = pd.read_csv('./data/sampleSubmission.csv')"
   ]
  },
  {
   "cell_type": "code",
   "execution_count": 3,
   "metadata": {
    "cell_id": "00003-49ad6762-ef62-436e-88ad-ed593dac356f",
    "deepnote_cell_type": "code",
    "deepnote_to_be_reexecuted": false,
    "execution_millis": 55,
    "execution_start": 1620108691155,
    "source_hash": "d0a76872",
    "tags": []
   },
   "outputs": [
    {
     "data": {
      "text/html": [
       "<div>\n",
       "<style scoped>\n",
       "    .dataframe tbody tr th:only-of-type {\n",
       "        vertical-align: middle;\n",
       "    }\n",
       "\n",
       "    .dataframe tbody tr th {\n",
       "        vertical-align: top;\n",
       "    }\n",
       "\n",
       "    .dataframe thead th {\n",
       "        text-align: right;\n",
       "    }\n",
       "</style>\n",
       "<table border=\"1\" class=\"dataframe\">\n",
       "  <thead>\n",
       "    <tr style=\"text-align: right;\">\n",
       "      <th></th>\n",
       "      <th>date</th>\n",
       "      <th>latitude</th>\n",
       "      <th>longitude</th>\n",
       "      <th>nummosquitos</th>\n",
       "      <th>wnvpresent</th>\n",
       "      <th>street_  W ARMITAGE AVENUE</th>\n",
       "      <th>street_ E 105TH ST</th>\n",
       "      <th>street_ E 111TH ST</th>\n",
       "      <th>street_ E 115TH ST</th>\n",
       "      <th>street_ E 118TH ST</th>\n",
       "      <th>...</th>\n",
       "      <th>coolsq</th>\n",
       "      <th>preciptotalsq</th>\n",
       "      <th>resultspeedsq</th>\n",
       "      <th>resultdirsq</th>\n",
       "      <th>avgspeedsq</th>\n",
       "      <th>daylightminssq</th>\n",
       "      <th>species_CULEX PIPIENS</th>\n",
       "      <th>species_CULEX PIPIENS/RESTUANS</th>\n",
       "      <th>species_CULEX RESTUANS</th>\n",
       "      <th>species_OTHERS</th>\n",
       "    </tr>\n",
       "  </thead>\n",
       "  <tbody>\n",
       "    <tr>\n",
       "      <th>0</th>\n",
       "      <td>2007-05-29</td>\n",
       "      <td>41.95469</td>\n",
       "      <td>-87.800991</td>\n",
       "      <td>1</td>\n",
       "      <td>0</td>\n",
       "      <td>0</td>\n",
       "      <td>0</td>\n",
       "      <td>0</td>\n",
       "      <td>0</td>\n",
       "      <td>0</td>\n",
       "      <td>...</td>\n",
       "      <td>81.0</td>\n",
       "      <td>0.0</td>\n",
       "      <td>33.64</td>\n",
       "      <td>324.0</td>\n",
       "      <td>42.25</td>\n",
       "      <td>802816.0</td>\n",
       "      <td>0</td>\n",
       "      <td>1</td>\n",
       "      <td>0</td>\n",
       "      <td>0</td>\n",
       "    </tr>\n",
       "  </tbody>\n",
       "</table>\n",
       "<p>1 rows × 164 columns</p>\n",
       "</div>"
      ],
      "text/plain": [
       "         date  latitude  longitude  nummosquitos  wnvpresent  \\\n",
       "0  2007-05-29  41.95469 -87.800991             1           0   \n",
       "\n",
       "   street_  W ARMITAGE AVENUE  street_ E 105TH ST  street_ E 111TH ST  \\\n",
       "0                           0                   0                   0   \n",
       "\n",
       "   street_ E 115TH ST  street_ E 118TH ST  ...  coolsq  preciptotalsq  \\\n",
       "0                   0                   0  ...    81.0            0.0   \n",
       "\n",
       "   resultspeedsq  resultdirsq  avgspeedsq  daylightminssq  \\\n",
       "0          33.64        324.0       42.25        802816.0   \n",
       "\n",
       "   species_CULEX PIPIENS  species_CULEX PIPIENS/RESTUANS  \\\n",
       "0                      0                               1   \n",
       "\n",
       "   species_CULEX RESTUANS  species_OTHERS  \n",
       "0                       0               0  \n",
       "\n",
       "[1 rows x 164 columns]"
      ]
     },
     "execution_count": 3,
     "metadata": {},
     "output_type": "execute_result"
    }
   ],
   "source": [
    "train_merged.head(1)"
   ]
  },
  {
   "cell_type": "markdown",
   "metadata": {
    "cell_id": "00007-6f1b7fc9-106c-4b69-85ee-446ae9802797",
    "deepnote_cell_type": "markdown",
    "tags": []
   },
   "source": [
    "## Baseline Model"
   ]
  },
  {
   "cell_type": "code",
   "execution_count": 4,
   "metadata": {
    "cell_id": "00004-0922afc1-2099-4158-8220-7e413dc1d33d",
    "deepnote_cell_type": "code",
    "deepnote_to_be_reexecuted": false,
    "execution_millis": 0,
    "execution_start": 1620108691229,
    "source_hash": "399887ce",
    "tags": []
   },
   "outputs": [],
   "source": [
    "#define X, y\n",
    "X = train_merged.drop(columns = ['wnvpresent','date','nummosquitos'])\n",
    "y = train_merged['wnvpresent']"
   ]
  },
  {
   "cell_type": "code",
   "execution_count": 5,
   "metadata": {
    "cell_id": "00007-5b74ed6f-da2c-4ba3-bb0c-cac61b994436",
    "deepnote_cell_type": "code",
    "deepnote_to_be_reexecuted": false,
    "execution_millis": 0,
    "execution_start": 1620108691260,
    "source_hash": "12d3fd1",
    "tags": []
   },
   "outputs": [],
   "source": [
    "baseline = y.value_counts(normalize=True)"
   ]
  },
  {
   "cell_type": "code",
   "execution_count": 6,
   "metadata": {
    "cell_id": "00008-a5cdb131-92cd-4ced-b07c-ec898f8c7556",
    "deepnote_cell_type": "code",
    "deepnote_to_be_reexecuted": false,
    "execution_millis": 7,
    "execution_start": 1620108691261,
    "source_hash": "72908efd",
    "tags": []
   },
   "outputs": [
    {
     "name": "stdout",
     "output_type": "stream",
     "text": [
      "Imbalanced Data Baseline Accuracy: 0.947%\n"
     ]
    }
   ],
   "source": [
    "print(f'Imbalanced Data Baseline Accuracy: {baseline[0].round(3)}%')"
   ]
  },
  {
   "cell_type": "code",
   "execution_count": 7,
   "metadata": {
    "cell_id": "00009-375defac-f4fa-4a52-a5f7-a2ce8e3cc8df",
    "deepnote_cell_type": "code",
    "deepnote_to_be_reexecuted": false,
    "execution_millis": 7,
    "execution_start": 1620108691261,
    "source_hash": "b0f7d906",
    "tags": []
   },
   "outputs": [
    {
     "name": "stdout",
     "output_type": "stream",
     "text": [
      "Balanced Data Baseline Accuracy: 0.5%\n"
     ]
    }
   ],
   "source": [
    "print(f\"Balanced Data Baseline Accuracy: 0.5%\")"
   ]
  },
  {
   "cell_type": "markdown",
   "metadata": {
    "cell_id": "00008-ba58a2f8-2473-482b-8323-c9b7f71e6cb7",
    "deepnote_cell_type": "markdown",
    "tags": []
   },
   "source": [
    "## Train Test Split"
   ]
  },
  {
   "cell_type": "code",
   "execution_count": 8,
   "metadata": {
    "cell_id": "00004-747ed5fe-c4fe-4ef0-9495-06501bfaaba0",
    "deepnote_cell_type": "code",
    "deepnote_to_be_reexecuted": false,
    "execution_millis": 10,
    "execution_start": 1620108691263,
    "source_hash": "9f4fe7f",
    "tags": []
   },
   "outputs": [],
   "source": [
    "#split train test \n",
    "X_train, X_test, y_train, y_test = train_test_split(X,\n",
    "                                                    y,\n",
    "                                                    random_state=42,\n",
    "                                                    stratify=y)"
   ]
  },
  {
   "cell_type": "markdown",
   "metadata": {
    "cell_id": "00022-5d235958-30ad-45c1-ac19-be199c971cb5",
    "deepnote_cell_type": "markdown",
    "tags": []
   },
   "source": [
    "## Pipeline"
   ]
  },
  {
   "cell_type": "markdown",
   "metadata": {
    "cell_id": "00016-1f2ca7a5-1c41-4140-8797-873b7eaca31f",
    "deepnote_cell_type": "markdown",
    "tags": []
   },
   "source": [
    "Pipeline with oversampling bootstrapping (SMOTE). Metric is using recall as we are trying to identify the true positive rate. \n",
    "\n",
    "In this scenario, the identification of the true cases (WNV Present) to the False Negative (Type II error where predicted to be not present proved to be otherwise) in order to better naviagte resources to the location for pesticide control."
   ]
  },
  {
   "cell_type": "markdown",
   "metadata": {
    "cell_id": "00016-3c1d48e9-ca7f-4112-8c07-28807d1c915c",
    "deepnote_cell_type": "text-cell-h3",
    "tags": []
   },
   "source": [
    "### Logistic Regression"
   ]
  },
  {
   "cell_type": "code",
   "execution_count": 9,
   "metadata": {
    "cell_id": "00023-4e1b5f34-4bcd-4007-b093-22991833bca7",
    "deepnote_cell_type": "code",
    "deepnote_to_be_reexecuted": false,
    "execution_millis": 2916,
    "execution_start": 1620108691278,
    "source_hash": "80f652cd",
    "tags": []
   },
   "outputs": [
    {
     "name": "stdout",
     "output_type": "stream",
     "text": [
      "Training Recall:  0.7401715968754001\n",
      "Testing Recall:  0.7123655913978495\n",
      "\n",
      "\n"
     ]
    },
    {
     "data": {
      "text/plain": [
       "{'logreg__C': 0.01,\n",
       " 'logreg__class_weight': 'balanced',\n",
       " 'logreg__solver': 'liblinear'}"
      ]
     },
     "execution_count": 9,
     "metadata": {},
     "output_type": "execute_result"
    }
   ],
   "source": [
    "#Instantiate pipeline \n",
    "pipe = Pipeline([\n",
    "    ('ss' , StandardScaler()),\n",
    "    ('oversample', SMOTE(random_state=42)),\n",
    "    ('logreg', LogisticRegression(random_state=42, max_iter=10000))\n",
    "])\n",
    "\n",
    "#set pipe params\n",
    "pipe_params = {\n",
    "    'logreg__solver' : ['liblinear','lbfgs'],\n",
    "    'logreg__C': np.logspace(-2, 1, 1),\n",
    "    'logreg__class_weight':[\"balanced\",]\n",
    "}\n",
    "\n",
    "#gridsearch\n",
    "gs = GridSearchCV(pipe, pipe_params,  cv=5,n_jobs=-1, scoring='recall')\n",
    "#fit model\n",
    "gs.fit(X_train, y_train)\n",
    "best_logreg = gs.best_estimator_\n",
    "\n",
    "print('Training Recall: ', best_logreg.score(X_train, y_train))\n",
    "print('Testing Recall: ', best_logreg.score(X_test, y_test))\n",
    "print('\\n')\n",
    "gs.best_params_"
   ]
  },
  {
   "cell_type": "markdown",
   "metadata": {
    "cell_id": "00020-fb0645f7-e74d-45b7-b525-888fabbd66ad",
    "deepnote_cell_type": "text-cell-h3",
    "tags": []
   },
   "source": [
    "### K Nearest Neighbours"
   ]
  },
  {
   "cell_type": "code",
   "execution_count": 10,
   "metadata": {
    "cell_id": "00018-eedcf37e-12c4-456c-8b20-b5edad0b0c7c",
    "deepnote_cell_type": "code",
    "deepnote_to_be_reexecuted": false,
    "execution_millis": 36028,
    "execution_start": 1620108694196,
    "source_hash": "c6398117",
    "tags": []
   },
   "outputs": [
    {
     "name": "stdout",
     "output_type": "stream",
     "text": [
      "Training Recall:  0.851581508515815\n",
      "Testing Recall:  0.7795698924731183\n",
      "\n",
      "\n"
     ]
    },
    {
     "data": {
      "text/plain": [
       "{'knn__n_neighbors': 7, 'knn__p': 2, 'knn__weights': 'uniform'}"
      ]
     },
     "execution_count": 10,
     "metadata": {},
     "output_type": "execute_result"
    }
   ],
   "source": [
    "#Instantiate pipeline\n",
    "pipe = Pipeline([\n",
    "    ('ss' , StandardScaler()),\n",
    "    ('oversample', SMOTE(random_state=42)),\n",
    "    ('knn', KNeighborsClassifier())\n",
    "])\n",
    "\n",
    "#set pipe params\n",
    "pipe_params = {\n",
    "    'knn__n_neighbors' : [3,5,7,10],\n",
    "    'knn__weights' : ['uniform','distance'],\n",
    "    'knn__p': [1,2]\n",
    "}\n",
    "#grid search\n",
    "gs = GridSearchCV(pipe, pipe_params, cv=5 ,n_jobs=-1, scoring='recall')\n",
    "#fit model\n",
    "gs.fit(X_train, y_train)\n",
    "best_knn = gs.best_estimator_\n",
    "\n",
    "print('Training Recall: ', best_knn.score(X_train, y_train))\n",
    "print('Testing Recall: ', best_knn.score(X_test, y_test))\n",
    "print('\\n')\n",
    "gs.best_params_"
   ]
  },
  {
   "cell_type": "markdown",
   "metadata": {
    "cell_id": "00021-46c24b74-a626-4066-93f0-3339749b863d",
    "deepnote_cell_type": "text-cell-h3",
    "tags": []
   },
   "source": [
    "### Random Forest"
   ]
  },
  {
   "cell_type": "code",
   "execution_count": 11,
   "metadata": {
    "cell_id": "00021-fd0a2dc5-478a-4e8c-b8d6-e44a07d80c10",
    "deepnote_cell_type": "code",
    "deepnote_to_be_reexecuted": false,
    "execution_millis": 34219,
    "execution_start": 1620111765755,
    "source_hash": "a1f2b08a",
    "tags": []
   },
   "outputs": [
    {
     "name": "stdout",
     "output_type": "stream",
     "text": [
      "Training Accuracy:  0.86771673709822\n",
      "Testing Accuracy:  0.8640552995391705\n",
      "\n",
      "\n"
     ]
    },
    {
     "data": {
      "text/plain": [
       "{'rf__max_depth': 10, 'rf__n_estimators': 100}"
      ]
     },
     "execution_count": 11,
     "metadata": {},
     "output_type": "execute_result"
    }
   ],
   "source": [
    "#Instantiate pipeline\n",
    "pipe = Pipeline([\n",
    "    ('ss' , StandardScaler()),\n",
    "    ('oversample', SMOTE(random_state=42)),\n",
    "    ('rf', RandomForestClassifier(random_state=42, bootstrap=True))\n",
    "])\n",
    "\n",
    "#set pipe params\n",
    "pipe_params = {\n",
    "    'rf__n_estimators': [100,150,250],\n",
    "    'rf__max_depth': [1,3,9,10]\n",
    "}\n",
    "#grid search\n",
    "gs = GridSearchCV(pipe, pipe_params, cv=5 ,n_jobs=-1, scoring='roc_auc')\n",
    "#fit model\n",
    "gs.fit(X_train, y_train)\n",
    "best_rf = gs.best_estimator_\n",
    "\n",
    "print('Training Accuracy: ', best_rf.score(X_train, y_train))\n",
    "print('Testing Accuracy: ', best_rf.score(X_test, y_test))\n",
    "print('\\n')\n",
    "gs.best_params_"
   ]
  },
  {
   "cell_type": "code",
   "execution_count": 12,
   "metadata": {
    "cell_id": "00019-bc847140-f8a4-4526-93b4-50d7a5a74e04",
    "deepnote_cell_type": "code",
    "deepnote_to_be_reexecuted": false,
    "execution_millis": 3669,
    "execution_start": 1620111364865,
    "source_hash": "b28b0192",
    "tags": []
   },
   "outputs": [
    {
     "data": {
      "text/html": [
       "<div>\n",
       "<style scoped>\n",
       "    .dataframe tbody tr th:only-of-type {\n",
       "        vertical-align: middle;\n",
       "    }\n",
       "\n",
       "    .dataframe tbody tr th {\n",
       "        vertical-align: top;\n",
       "    }\n",
       "\n",
       "    .dataframe thead th {\n",
       "        text-align: right;\n",
       "    }\n",
       "</style>\n",
       "<table border=\"1\" class=\"dataframe\">\n",
       "  <thead>\n",
       "    <tr style=\"text-align: right;\">\n",
       "      <th></th>\n",
       "      <th>Model</th>\n",
       "      <th>Training Recall</th>\n",
       "      <th>Test Recall</th>\n",
       "    </tr>\n",
       "  </thead>\n",
       "  <tbody>\n",
       "    <tr>\n",
       "      <th>0</th>\n",
       "      <td>Balanced Baseline</td>\n",
       "      <td>0.500000</td>\n",
       "      <td>0.500000</td>\n",
       "    </tr>\n",
       "    <tr>\n",
       "      <th>1</th>\n",
       "      <td>Logistic Regression</td>\n",
       "      <td>0.740172</td>\n",
       "      <td>0.712366</td>\n",
       "    </tr>\n",
       "    <tr>\n",
       "      <th>2</th>\n",
       "      <td>K Nearest Neighbors</td>\n",
       "      <td>0.851582</td>\n",
       "      <td>0.779570</td>\n",
       "    </tr>\n",
       "    <tr>\n",
       "      <th>3</th>\n",
       "      <td>Random Forest</td>\n",
       "      <td>0.867717</td>\n",
       "      <td>0.864055</td>\n",
       "    </tr>\n",
       "  </tbody>\n",
       "</table>\n",
       "</div>"
      ],
      "text/plain": [
       "                 Model  Training Recall  Test Recall\n",
       "0    Balanced Baseline         0.500000     0.500000\n",
       "1  Logistic Regression         0.740172     0.712366\n",
       "2  K Nearest Neighbors         0.851582     0.779570\n",
       "3        Random Forest         0.867717     0.864055"
      ]
     },
     "execution_count": 12,
     "metadata": {},
     "output_type": "execute_result"
    }
   ],
   "source": [
    "#display result in dataframe\n",
    "model_df = pd.DataFrame({\n",
    "    'Model' :['Balanced Baseline','Logistic Regression','K Nearest Neighbors','Random Forest'],\n",
    "    'Training Recall' : [0.5, best_logreg.score(X_train, y_train),best_knn.score(X_train, y_train),best_rf.score(X_train, y_train)],\n",
    "    'Test Recall' : [0.5 ,best_logreg.score(X_test, y_test),best_knn.score(X_test, y_test),best_rf.score(X_test, y_test)]\n",
    "})\n",
    "\n",
    "model_df"
   ]
  },
  {
   "cell_type": "markdown",
   "metadata": {
    "cell_id": "00024-fc3362cc-5948-458c-8076-10714c6f7da9",
    "deepnote_cell_type": "text-cell-h2",
    "tags": []
   },
   "source": [
    "## Model Selection"
   ]
  },
  {
   "cell_type": "markdown",
   "metadata": {
    "cell_id": "00025-8e7359c0-a6c4-408e-90b0-38fe39c2f5ce",
    "deepnote_cell_type": "markdown",
    "tags": []
   },
   "source": [
    "Based on the training and test set recall score, the best model with the best score is .... (RF for now)"
   ]
  },
  {
   "cell_type": "code",
   "execution_count": 13,
   "metadata": {
    "cell_id": "00024-ab7576fe-e182-4f91-b3c6-856f6221356b",
    "deepnote_cell_type": "code",
    "deepnote_to_be_reexecuted": false,
    "execution_millis": 2550,
    "execution_start": 1620111368532,
    "source_hash": "3e0f9509",
    "tags": []
   },
   "outputs": [],
   "source": [
    "#model selection and prediction for validation \n",
    "best_model = best_rf\n",
    "best_model.fit(X_train,y_train)\n",
    "\n",
    "#predict all datasets\n",
    "y_preds = best_model.predict(X)"
   ]
  },
  {
   "cell_type": "code",
   "execution_count": 14,
   "metadata": {
    "cell_id": "00027-c53f404c-95f9-4a45-b6b5-bd8e0c2a79c4",
    "deepnote_cell_type": "code",
    "deepnote_to_be_reexecuted": false,
    "execution_millis": 13,
    "execution_start": 1620111371096,
    "source_hash": "d0e570",
    "tags": []
   },
   "outputs": [
    {
     "data": {
      "text/html": [
       "<div>\n",
       "<style scoped>\n",
       "    .dataframe tbody tr th:only-of-type {\n",
       "        vertical-align: middle;\n",
       "    }\n",
       "\n",
       "    .dataframe tbody tr th {\n",
       "        vertical-align: top;\n",
       "    }\n",
       "\n",
       "    .dataframe thead th {\n",
       "        text-align: right;\n",
       "    }\n",
       "</style>\n",
       "<table border=\"1\" class=\"dataframe\">\n",
       "  <thead>\n",
       "    <tr style=\"text-align: right;\">\n",
       "      <th></th>\n",
       "      <th>true_values</th>\n",
       "      <th>preds_values</th>\n",
       "    </tr>\n",
       "  </thead>\n",
       "  <tbody>\n",
       "    <tr>\n",
       "      <th>0</th>\n",
       "      <td>0</td>\n",
       "      <td>0</td>\n",
       "    </tr>\n",
       "    <tr>\n",
       "      <th>1</th>\n",
       "      <td>0</td>\n",
       "      <td>0</td>\n",
       "    </tr>\n",
       "    <tr>\n",
       "      <th>2</th>\n",
       "      <td>0</td>\n",
       "      <td>0</td>\n",
       "    </tr>\n",
       "    <tr>\n",
       "      <th>3</th>\n",
       "      <td>0</td>\n",
       "      <td>0</td>\n",
       "    </tr>\n",
       "    <tr>\n",
       "      <th>4</th>\n",
       "      <td>0</td>\n",
       "      <td>0</td>\n",
       "    </tr>\n",
       "  </tbody>\n",
       "</table>\n",
       "</div>"
      ],
      "text/plain": [
       "   true_values  preds_values\n",
       "0            0             0\n",
       "1            0             0\n",
       "2            0             0\n",
       "3            0             0\n",
       "4            0             0"
      ]
     },
     "execution_count": 14,
     "metadata": {},
     "output_type": "execute_result"
    }
   ],
   "source": [
    "#compare ytest and prediction\n",
    "pred_df = pd.DataFrame({'true_values': y,\n",
    "                        'preds_values': y_preds})\n",
    "\n",
    "pred_df.head()"
   ]
  },
  {
   "cell_type": "markdown",
   "metadata": {
    "cell_id": "00042-4e39325f-908d-4805-bea8-ce272b5248da",
    "deepnote_cell_type": "text-cell-h3",
    "tags": []
   },
   "source": [
    "### F1 Score"
   ]
  },
  {
   "cell_type": "code",
   "execution_count": 15,
   "metadata": {
    "cell_id": "00044-5ed52b71-120b-467d-b867-08d1bd020f04",
    "deepnote_cell_type": "code",
    "deepnote_to_be_reexecuted": false,
    "execution_millis": 11,
    "execution_start": 1620111371106,
    "source_hash": "59555ecf",
    "tags": []
   },
   "outputs": [
    {
     "data": {
      "text/plain": [
       "0.3177570093457944"
      ]
     },
     "execution_count": 15,
     "metadata": {},
     "output_type": "execute_result"
    }
   ],
   "source": [
    "f1_score(y, y_preds)"
   ]
  },
  {
   "cell_type": "code",
   "execution_count": 16,
   "metadata": {
    "cell_id": "00045-44981045-e8e8-4f28-a0b8-2c0bda1dd451",
    "deepnote_cell_type": "code",
    "deepnote_to_be_reexecuted": false,
    "execution_millis": 282,
    "execution_start": 1620111371121,
    "source_hash": "db75917a",
    "tags": []
   },
   "outputs": [
    {
     "data": {
      "image/png": "[encoded data removed]",
      "text/plain": [
       "<Figure size 720x576 with 1 Axes>"
      ]
     },
     "metadata": {
      "needs_background": "light"
     },
     "output_type": "display_data"
    }
   ],
   "source": [
    "fig, ax = plt.subplots(figsize=(10, 8))\n",
    "plot_precision_recall_curve(best_model,X,y,ax=ax)\n",
    "plt.show()"
   ]
  },
  {
   "cell_type": "markdown",
   "metadata": {
    "cell_id": "00026-e43391a1-0249-484e-abf3-6f0c0caccced",
    "deepnote_cell_type": "text-cell-h2",
    "tags": []
   },
   "source": [
    "## Model Evaluation"
   ]
  },
  {
   "cell_type": "markdown",
   "metadata": {
    "cell_id": "00030-e4d71331-91fe-455b-b5e7-3ca66197e7d6",
    "deepnote_cell_type": "text-cell-h3",
    "tags": []
   },
   "source": [
    "### Confusion Matrix"
   ]
  },
  {
   "cell_type": "code",
   "execution_count": 17,
   "metadata": {
    "cell_id": "00025-368da4ae-95f4-4d6f-bf2d-14f6b6faaee0",
    "deepnote_cell_type": "code",
    "deepnote_to_be_reexecuted": false,
    "execution_millis": 8,
    "execution_start": 1620111371400,
    "source_hash": "83bebc64",
    "tags": []
   },
   "outputs": [],
   "source": [
    "#plot cm to check for prediction accuracy\n",
    "cm = confusion_matrix(y,y_preds)"
   ]
  },
  {
   "cell_type": "code",
   "execution_count": 18,
   "metadata": {
    "cell_id": "00034-5f17f6f8-af9d-4f68-97f2-b8b3ac585d9a",
    "deepnote_cell_type": "code",
    "deepnote_to_be_reexecuted": false,
    "execution_millis": 9,
    "execution_start": 1620111371413,
    "source_hash": "79fe093b",
    "tags": []
   },
   "outputs": [],
   "source": [
    "tn,fp,fn,tp = confusion_matrix(y, y_preds).ravel()"
   ]
  },
  {
   "cell_type": "code",
   "execution_count": 19,
   "metadata": {
    "cell_id": "00035-2ae50612-538d-4fcb-8e64-9f60ad7cf12e",
    "deepnote_cell_type": "code",
    "deepnote_to_be_reexecuted": false,
    "execution_millis": 10,
    "execution_start": 1620111371436,
    "source_hash": "4c9d26c4",
    "tags": []
   },
   "outputs": [
    {
     "name": "stdout",
     "output_type": "stream",
     "text": [
      "True Negatives: 8703\n",
      "False Positives: 1159\n",
      "False Negatives: 228\n",
      "True Positives: 323\n"
     ]
    }
   ],
   "source": [
    "print(f'True Negatives: {tn}') #predict absent is absent\n",
    "print(f'False Positives: {fp}') #predict present but absent\n",
    "print(f'False Negatives: {fn}') #predict absent but present\n",
    "print(f'True Positives: {tp}') #predict present is present"
   ]
  },
  {
   "cell_type": "code",
   "execution_count": 20,
   "metadata": {
    "cell_id": "00036-e834b631-6ad2-47c4-a354-b2f22f84e80e",
    "deepnote_cell_type": "code",
    "deepnote_to_be_reexecuted": false,
    "execution_millis": 329,
    "execution_start": 1620111371465,
    "source_hash": "92730000",
    "tags": []
   },
   "outputs": [
    {
     "data": {
      "image/png": "[encoded data removed]",
      "text/plain": [
       "<Figure size 576x576 with 2 Axes>"
      ]
     },
     "metadata": {
      "needs_background": "light"
     },
     "output_type": "display_data"
    }
   ],
   "source": [
    "fig, ax = plt.subplots(figsize=(8, 8))\n",
    "plt.rcParams.update({'font.size': 20})\n",
    "plot_confusion_matrix(best_model, X, y, cmap= 'Blues', \n",
    "                  values_format='d', ax=ax );\n",
    "plt.title('Confusion Matrix')\n",
    "plt.show()"
   ]
  },
  {
   "cell_type": "markdown",
   "metadata": {
    "cell_id": "00032-e089f54a-2fc7-4417-8e21-31497a8e2f45",
    "deepnote_cell_type": "markdown",
    "tags": []
   },
   "source": [
    "*Confusion matrix plotted for Predicted and True Values for Class 1 (WNV Present) to Class 0 (No WNV Present) demonstrates the specificity and sensitivity of the model.*"
   ]
  },
  {
   "cell_type": "code",
   "execution_count": 21,
   "metadata": {
    "cell_id": "00038-ff0aa253-8031-4d49-991a-6bf380173c99",
    "deepnote_cell_type": "code",
    "deepnote_to_be_reexecuted": false,
    "execution_millis": 2,
    "execution_start": 1620111371785,
    "source_hash": "ec147f4",
    "tags": []
   },
   "outputs": [],
   "source": [
    "sensitivity = tp / (tp + fn)\n",
    "specificity = tn / (tn + fp)\n",
    "precision = tp/(fp+tp)"
   ]
  },
  {
   "cell_type": "code",
   "execution_count": 22,
   "metadata": {
    "cell_id": "00038-4f8b73ca-bf78-4271-bc30-38b78e83ef0d",
    "deepnote_cell_type": "code",
    "deepnote_to_be_reexecuted": false,
    "execution_millis": 18,
    "execution_start": 1620111371791,
    "source_hash": "8dc099c6",
    "tags": []
   },
   "outputs": [
    {
     "name": "stdout",
     "output_type": "stream",
     "text": [
      "Sensitivity:  0.59\n",
      "Specificity:  0.88\n",
      "Precision: 0.22\n"
     ]
    }
   ],
   "source": [
    "print(\"Sensitivity: \", round(sensitivity,2))\n",
    "print(\"Specificity: \", round(specificity,2))\n",
    "print(\"Precision:\", round(precision,2))"
   ]
  },
  {
   "cell_type": "markdown",
   "metadata": {
    "cell_id": "00035-5bda7d5e-0413-4e25-8e24-6250c977664f",
    "deepnote_cell_type": "markdown",
    "tags": []
   },
   "source": [
    "In this problem statement, the concern on the model prediction will be the false negative, also known as Type II error. With specificity/ recall at 0.89, and sensitivity at 0.78 the model is able to identify the true positive rate and true negative rate accordingly.\n",
    "\n",
    "However, the precision score is low at 0.29 only. This means the model has been predicting cases as positive more than it should have been. "
   ]
  },
  {
   "cell_type": "markdown",
   "metadata": {
    "cell_id": "00027-c97efd15-b29f-4059-b233-1647a09fcf0c",
    "deepnote_cell_type": "text-cell-h3",
    "tags": []
   },
   "source": [
    "### ROC AUC"
   ]
  },
  {
   "cell_type": "code",
   "execution_count": 23,
   "metadata": {
    "cell_id": "00039-4d4a5733-e692-4356-b1b9-31e959b01327",
    "deepnote_cell_type": "code",
    "deepnote_to_be_reexecuted": false,
    "execution_millis": 5355099,
    "execution_start": 1620111371801,
    "source_hash": "cab1f83a",
    "tags": []
   },
   "outputs": [
    {
     "name": "stdout",
     "output_type": "stream",
     "text": [
      "True Positive Rate:  0.59\n",
      "True Negative Rate (False Positive Rate) 0.12\n"
     ]
    }
   ],
   "source": [
    "TPR = sensitivity\n",
    "print(\"True Positive Rate: \", round(TPR,2))\n",
    "TNR = 1 - specificity\n",
    "print(\"True Negative Rate (False Positive Rate)\", round(TNR,2))"
   ]
  },
  {
   "cell_type": "code",
   "execution_count": 24,
   "metadata": {
    "cell_id": "00024-77953e39-2ec8-4935-95c6-34ad1da7206a",
    "deepnote_cell_type": "code",
    "deepnote_to_be_reexecuted": false,
    "execution_millis": 316,
    "execution_start": 1620111371849,
    "source_hash": "5d04efca",
    "tags": []
   },
   "outputs": [
    {
     "data": {
      "image/png": "[encoded data removed]",
      "text/plain": [
       "<Figure size 720x576 with 1 Axes>"
      ]
     },
     "metadata": {
      "needs_background": "light"
     },
     "output_type": "display_data"
    }
   ],
   "source": [
    "fig, ax = plt.subplots(figsize=(10, 8))\n",
    "plot_roc_curve(best_model,X,y,ax=ax)\n",
    "plt.axvline(0.11, color='k',linestyle='--',alpha=0.6)\n",
    "plt.axhline(0.78, color='k',linestyle='--',alpha=0.6)\n",
    "plt.plot([0,1],[0,1], color='tab:orange', linestyle='--', label='Baseline')\n",
    "\n",
    "plt.title('ROC AUC Curve - Random Forest Model')\n",
    "plt.legend()\n",
    "plt.show()"
   ]
  },
  {
   "cell_type": "markdown",
   "metadata": {
    "cell_id": "00044-2594b6ed-a3b7-480c-98d3-35cd371bde3c",
    "deepnote_cell_type": "text-cell-h3",
    "tags": []
   },
   "source": [
    "### Model Threshold Adjustment"
   ]
  },
  {
   "cell_type": "code",
   "execution_count": 25,
   "metadata": {
    "cell_id": "00038-db087641-fdb0-45db-9878-6e108024c74c",
    "deepnote_cell_type": "code",
    "deepnote_to_be_reexecuted": false,
    "execution_millis": 45,
    "execution_start": 1620111372162,
    "source_hash": "73c8f274",
    "tags": []
   },
   "outputs": [
    {
     "data": {
      "text/html": [
       "<div>\n",
       "<style scoped>\n",
       "    .dataframe tbody tr th:only-of-type {\n",
       "        vertical-align: middle;\n",
       "    }\n",
       "\n",
       "    .dataframe tbody tr th {\n",
       "        vertical-align: top;\n",
       "    }\n",
       "\n",
       "    .dataframe thead th {\n",
       "        text-align: right;\n",
       "    }\n",
       "</style>\n",
       "<table border=\"1\" class=\"dataframe\">\n",
       "  <thead>\n",
       "    <tr style=\"text-align: right;\">\n",
       "      <th></th>\n",
       "      <th>true_values</th>\n",
       "      <th>pred_probs</th>\n",
       "    </tr>\n",
       "  </thead>\n",
       "  <tbody>\n",
       "    <tr>\n",
       "      <th>4459</th>\n",
       "      <td>0</td>\n",
       "      <td>0.073130</td>\n",
       "    </tr>\n",
       "    <tr>\n",
       "      <th>4099</th>\n",
       "      <td>0</td>\n",
       "      <td>0.004542</td>\n",
       "    </tr>\n",
       "    <tr>\n",
       "      <th>4423</th>\n",
       "      <td>0</td>\n",
       "      <td>0.026527</td>\n",
       "    </tr>\n",
       "    <tr>\n",
       "      <th>521</th>\n",
       "      <td>0</td>\n",
       "      <td>0.029682</td>\n",
       "    </tr>\n",
       "    <tr>\n",
       "      <th>10393</th>\n",
       "      <td>0</td>\n",
       "      <td>0.224347</td>\n",
       "    </tr>\n",
       "  </tbody>\n",
       "</table>\n",
       "</div>"
      ],
      "text/plain": [
       "       true_values  pred_probs\n",
       "4459             0    0.073130\n",
       "4099             0    0.004542\n",
       "4423             0    0.026527\n",
       "521              0    0.029682\n",
       "10393            0    0.224347"
      ]
     },
     "execution_count": 25,
     "metadata": {},
     "output_type": "execute_result"
    }
   ],
   "source": [
    "#y_test vs predict proba\n",
    "pred_prob_df = pd.DataFrame({'true_values': y_test,\n",
    "                        'pred_probs': best_model.predict_proba(X_test)[:,1]})\n",
    "\n",
    "pred_prob_df.head()"
   ]
  },
  {
   "cell_type": "code",
   "execution_count": 26,
   "metadata": {
    "cell_id": "00038-d332f274-002e-43a4-b704-c81a45bb9898",
    "deepnote_cell_type": "code",
    "deepnote_to_be_reexecuted": false,
    "execution_millis": 1250,
    "execution_start": 1620111372209,
    "source_hash": "71fd5055",
    "tags": []
   },
   "outputs": [
    {
     "data": {
      "image/png": "[encoded data removed]",
      "text/plain": [
       "<Figure size 864x720 with 1 Axes>"
      ]
     },
     "metadata": {
      "needs_background": "light"
     },
     "output_type": "display_data"
    }
   ],
   "source": [
    "plt.figure(figsize = (12, 10))\n",
    "\n",
    "# plot distributions of predicted probabilities by actual values\n",
    "for group in pred_prob_df.groupby('true_values'):\n",
    "    sns.histplot(group[1], kde = False, bins = 100)\n",
    "\n",
    "plt.xlabel('Predicted Probability that Outcome = 1')\n",
    "plt.title('Relationship between Sensitivity and Specificity')\n",
    "plt.ylim(0,200)\n",
    "plt.show()"
   ]
  },
  {
   "cell_type": "code",
   "execution_count": 27,
   "metadata": {
    "cell_id": "00038-6b7c73c2-56f0-44b0-a93d-bdea42c5d1b4",
    "deepnote_cell_type": "code",
    "deepnote_to_be_reexecuted": false,
    "execution_millis": 1,
    "execution_start": 1620111373448,
    "source_hash": "e4d72c3e",
    "tags": []
   },
   "outputs": [],
   "source": [
    "def get_predictions(probabilities, threshold):\n",
    "    return [0 if prob < threshold else 1 for prob in probabilities]"
   ]
  },
  {
   "cell_type": "code",
   "execution_count": 28,
   "metadata": {
    "cell_id": "00043-3e2afd47-458a-48f7-b8dc-d015a6f2f7ad",
    "deepnote_cell_type": "code",
    "deepnote_to_be_reexecuted": false,
    "execution_millis": 192,
    "execution_start": 1620111373456,
    "source_hash": "9c0e2dff",
    "tags": []
   },
   "outputs": [
    {
     "name": "stdout",
     "output_type": "stream",
     "text": [
      "Threshold: 0.45, Recall: 0.60, Precision: 0.18, f1 : 0.28\n",
      "Threshold: 0.50, Recall: 0.51, Precision: 0.20, f1 : 0.28\n",
      "Threshold: 0.55, Recall: 0.45, Precision: 0.21, f1 : 0.29\n",
      "Threshold: 0.60, Recall: 0.36, Precision: 0.23, f1 : 0.28\n"
     ]
    }
   ],
   "source": [
    "threshold_list = [0.45, 0.5, 0.55, 0.6]\n",
    "\n",
    "for threshold in threshold_list:\n",
    "    preds = get_predictions(best_model.predict_proba(X_test)[:,1], threshold)\n",
    "    rec = recall_score(y_test, preds)\n",
    "    prec = precision_score(y_test, preds)\n",
    "    f1 = f1_score(y_test, preds)\n",
    "    print(f'Threshold: {threshold:.2f}, Recall: {rec:.2f}, Precision: {prec:.2f}, f1 : {f1:.2f}')"
   ]
  },
  {
   "cell_type": "code",
   "execution_count": 29,
   "metadata": {
    "cell_id": "00051-93f65323-51ed-4c75-9087-0a36bfd739e6",
    "deepnote_cell_type": "code",
    "deepnote_to_be_reexecuted": false,
    "execution_millis": 12,
    "execution_start": 1620111373650,
    "source_hash": "cbeb1004",
    "tags": []
   },
   "outputs": [
    {
     "data": {
      "text/plain": [
       "Pipeline(steps=[('ss', StandardScaler()),\n",
       "                ('oversample', SMOTE(random_state=42)),\n",
       "                ('rf', RandomForestClassifier(max_depth=10, random_state=42))])"
      ]
     },
     "execution_count": 29,
     "metadata": {},
     "output_type": "execute_result"
    }
   ],
   "source": [
    "best_rf"
   ]
  },
  {
   "cell_type": "code",
   "execution_count": 30,
   "metadata": {
    "cell_id": "00050-5796a166-a0a3-4f1b-ad51-995be29cda9e",
    "deepnote_cell_type": "code",
    "deepnote_to_be_reexecuted": false,
    "execution_millis": 755,
    "execution_start": 1620111373713,
    "source_hash": "51bf696",
    "tags": []
   },
   "outputs": [
    {
     "data": {
      "text/plain": [
       "RandomForestClassifier(max_depth=15, n_estimators=150)"
      ]
     },
     "execution_count": 30,
     "metadata": {},
     "output_type": "execute_result"
    }
   ],
   "source": [
    "# Extracting feature importances\n",
    "rf = RandomForestClassifier(max_depth=15, n_estimators=150)\n",
    "rf.fit(X_train, y_train)"
   ]
  },
  {
   "cell_type": "code",
   "execution_count": 31,
   "metadata": {
    "cell_id": "00051-3da1865c-f5d3-4085-a498-5a7d675723f2",
    "deepnote_cell_type": "code",
    "deepnote_to_be_reexecuted": false,
    "execution_millis": 24,
    "execution_start": 1620111374465,
    "source_hash": "ff3268ab",
    "tags": []
   },
   "outputs": [
    {
     "data": {
      "text/plain": [
       "array([8.64608965e-02, 9.80327104e-02, 5.27882282e-03, 3.02463741e-03,\n",
       "       7.93591514e-04, 8.63913743e-04, 2.34904259e-03, 6.24914926e-03,\n",
       "       9.42260980e-04, 3.95349767e-03, 3.90430969e-03, 2.74629210e-03,\n",
       "       5.78953056e-06, 1.82166633e-03, 6.46889712e-04, 1.13622326e-03,\n",
       "       3.09984726e-04, 1.99319274e-05, 2.53683363e-03, 4.22695527e-03,\n",
       "       5.64214624e-03, 2.97021756e-03, 5.47198514e-03, 2.86962001e-03,\n",
       "       1.42416491e-03, 8.63762777e-03, 2.17157286e-03, 2.24549127e-03,\n",
       "       9.83896703e-05, 1.69612593e-04, 1.60212155e-03, 1.26032318e-02,\n",
       "       7.87552582e-03, 9.39940737e-03, 1.59992496e-02, 1.47514579e-04,\n",
       "       6.87441660e-03, 7.60213592e-03, 8.48637611e-03, 6.26990171e-05,\n",
       "       5.47665989e-04, 2.01704989e-03, 5.49894592e-03, 3.39879326e-05,\n",
       "       3.84191728e-05, 2.33135008e-05, 6.17974572e-03, 2.92701642e-03,\n",
       "       3.99596458e-03, 1.72488297e-04, 1.59650432e-03, 1.21859657e-03,\n",
       "       2.52821665e-03, 3.39003902e-05, 3.45009662e-03, 3.75225831e-03,\n",
       "       3.09945872e-03, 2.04120343e-03, 6.05959592e-05, 2.55641429e-03,\n",
       "       1.16587065e-03, 4.53758507e-03, 1.84489665e-03, 1.19583740e-03,\n",
       "       0.00000000e+00, 6.99289758e-04, 4.27766882e-03, 1.79917250e-03,\n",
       "       5.14772266e-03, 9.53707244e-03, 7.89534175e-06, 1.56080068e-04,\n",
       "       3.49803306e-05, 1.64684438e-03, 1.62214081e-04, 1.91052267e-03,\n",
       "       9.16880961e-04, 1.77511545e-03, 2.71941786e-07, 1.81489374e-03,\n",
       "       8.72797793e-05, 2.60687848e-03, 7.03313575e-06, 7.32656949e-04,\n",
       "       8.43533998e-03, 1.48427607e-03, 9.31037081e-06, 7.37728243e-06,\n",
       "       3.85180506e-03, 3.97853583e-03, 6.31546711e-03, 2.89368119e-03,\n",
       "       2.59710431e-04, 8.20661305e-04, 4.19040152e-05, 4.61494929e-03,\n",
       "       2.13841347e-03, 5.19919599e-03, 6.17736265e-03, 1.21788154e-04,\n",
       "       1.08791824e-03, 2.45718643e-06, 5.12563656e-06, 5.89608471e-03,\n",
       "       4.79581496e-03, 1.35740296e-03, 1.79515536e-05, 6.34978823e-05,\n",
       "       1.83542006e-03, 9.09203708e-04, 3.09553160e-04, 2.86908822e-03,\n",
       "       9.85500688e-03, 2.26666240e-03, 1.54057839e-04, 6.66806014e-05,\n",
       "       5.89589824e-04, 1.94654349e-03, 5.17755735e-03, 1.94886277e-04,\n",
       "       2.33987757e-04, 7.75992984e-04, 3.50889944e-03, 1.65364648e-02,\n",
       "       1.01366842e-05, 2.68736705e-03, 1.32411773e-03, 3.85790360e-03,\n",
       "       2.05697303e-05, 4.16509358e-04, 1.63538387e-02, 1.20214555e-02,\n",
       "       1.13694389e-02, 1.14497220e-02, 1.19579266e-02, 1.20283109e-02,\n",
       "       1.33891998e-03, 9.92185642e-03, 5.10350407e-03, 1.21768442e-02,\n",
       "       1.21433466e-02, 1.25026978e-02, 1.32757329e-02, 1.52485618e-02,\n",
       "       2.93767386e-02, 1.33594420e-02, 1.54904980e-02, 1.12266979e-02,\n",
       "       9.54093950e-03, 1.15298967e-02, 1.09646922e-03, 1.11061074e-02,\n",
       "       5.65737431e-03, 1.36257807e-02, 1.23556587e-02, 1.45178677e-02,\n",
       "       3.58706619e-02, 4.63329690e-02, 5.22042600e-02, 2.92800479e-02,\n",
       "       3.92079266e-03])"
      ]
     },
     "execution_count": 31,
     "metadata": {},
     "output_type": "execute_result"
    }
   ],
   "source": [
    "rf.feature_importances_"
   ]
  },
  {
   "cell_type": "code",
   "execution_count": 32,
   "metadata": {
    "cell_id": "00052-e7d7d5a2-2bc2-4c15-b1c8-5c2185911f87",
    "deepnote_cell_type": "code",
    "deepnote_to_be_reexecuted": false,
    "execution_millis": 18,
    "execution_start": 1620111374485,
    "source_hash": "f00938a8",
    "tags": []
   },
   "outputs": [],
   "source": [
    "df_fi = pd.DataFrame(zip(X.columns, rf.feature_importances_))"
   ]
  },
  {
   "cell_type": "code",
   "execution_count": 33,
   "metadata": {
    "cell_id": "00053-45787256-6bae-4178-8126-c43810fbf830",
    "deepnote_cell_type": "code",
    "deepnote_to_be_reexecuted": false,
    "execution_millis": 11,
    "execution_start": 1620111374515,
    "source_hash": "f2a4091",
    "tags": []
   },
   "outputs": [
    {
     "data": {
      "text/html": [
       "<div>\n",
       "<style scoped>\n",
       "    .dataframe tbody tr th:only-of-type {\n",
       "        vertical-align: middle;\n",
       "    }\n",
       "\n",
       "    .dataframe tbody tr th {\n",
       "        vertical-align: top;\n",
       "    }\n",
       "\n",
       "    .dataframe thead th {\n",
       "        text-align: right;\n",
       "    }\n",
       "</style>\n",
       "<table border=\"1\" class=\"dataframe\">\n",
       "  <thead>\n",
       "    <tr style=\"text-align: right;\">\n",
       "      <th></th>\n",
       "      <th>0</th>\n",
       "      <th>1</th>\n",
       "    </tr>\n",
       "  </thead>\n",
       "  <tbody>\n",
       "    <tr>\n",
       "      <th>0</th>\n",
       "      <td>latitude</td>\n",
       "      <td>0.086461</td>\n",
       "    </tr>\n",
       "    <tr>\n",
       "      <th>1</th>\n",
       "      <td>longitude</td>\n",
       "      <td>0.098033</td>\n",
       "    </tr>\n",
       "    <tr>\n",
       "      <th>2</th>\n",
       "      <td>street_  W ARMITAGE AVENUE</td>\n",
       "      <td>0.005279</td>\n",
       "    </tr>\n",
       "    <tr>\n",
       "      <th>3</th>\n",
       "      <td>street_ E 105TH ST</td>\n",
       "      <td>0.003025</td>\n",
       "    </tr>\n",
       "    <tr>\n",
       "      <th>4</th>\n",
       "      <td>street_ E 111TH ST</td>\n",
       "      <td>0.000794</td>\n",
       "    </tr>\n",
       "  </tbody>\n",
       "</table>\n",
       "</div>"
      ],
      "text/plain": [
       "                            0         1\n",
       "0                    latitude  0.086461\n",
       "1                   longitude  0.098033\n",
       "2  street_  W ARMITAGE AVENUE  0.005279\n",
       "3          street_ E 105TH ST  0.003025\n",
       "4          street_ E 111TH ST  0.000794"
      ]
     },
     "execution_count": 33,
     "metadata": {},
     "output_type": "execute_result"
    }
   ],
   "source": [
    "df_fi.head()"
   ]
  },
  {
   "cell_type": "code",
   "execution_count": 42,
   "metadata": {
    "cell_id": "00054-c82ac32f-7179-4c81-b173-0e340c722815",
    "deepnote_cell_type": "code",
    "deepnote_to_be_reexecuted": false,
    "execution_millis": 22,
    "execution_start": 1620112739522,
    "source_hash": "fe2c4fbe",
    "tags": []
   },
   "outputs": [
    {
     "data": {
      "text/html": [
       "<div>\n",
       "<style scoped>\n",
       "    .dataframe tbody tr th:only-of-type {\n",
       "        vertical-align: middle;\n",
       "    }\n",
       "\n",
       "    .dataframe tbody tr th {\n",
       "        vertical-align: top;\n",
       "    }\n",
       "\n",
       "    .dataframe thead th {\n",
       "        text-align: right;\n",
       "    }\n",
       "</style>\n",
       "<table border=\"1\" class=\"dataframe\">\n",
       "  <thead>\n",
       "    <tr style=\"text-align: right;\">\n",
       "      <th></th>\n",
       "      <th>0</th>\n",
       "      <th>1</th>\n",
       "    </tr>\n",
       "  </thead>\n",
       "  <tbody>\n",
       "    <tr>\n",
       "      <th>1</th>\n",
       "      <td>longitude</td>\n",
       "      <td>0.098033</td>\n",
       "    </tr>\n",
       "    <tr>\n",
       "      <th>0</th>\n",
       "      <td>latitude</td>\n",
       "      <td>0.086461</td>\n",
       "    </tr>\n",
       "    <tr>\n",
       "      <th>158</th>\n",
       "      <td>species_CULEX PIPIENS/RESTUANS</td>\n",
       "      <td>0.052204</td>\n",
       "    </tr>\n",
       "    <tr>\n",
       "      <th>157</th>\n",
       "      <td>species_CULEX PIPIENS</td>\n",
       "      <td>0.046333</td>\n",
       "    </tr>\n",
       "    <tr>\n",
       "      <th>156</th>\n",
       "      <td>daylightminssq</td>\n",
       "      <td>0.035871</td>\n",
       "    </tr>\n",
       "    <tr>\n",
       "      <th>144</th>\n",
       "      <td>daylightmins</td>\n",
       "      <td>0.029377</td>\n",
       "    </tr>\n",
       "    <tr>\n",
       "      <th>159</th>\n",
       "      <td>species_CULEX RESTUANS</td>\n",
       "      <td>0.029280</td>\n",
       "    </tr>\n",
       "    <tr>\n",
       "      <th>123</th>\n",
       "      <td>street_ W OHARE AIRPORT</td>\n",
       "      <td>0.016536</td>\n",
       "    </tr>\n",
       "    <tr>\n",
       "      <th>130</th>\n",
       "      <td>tmax</td>\n",
       "      <td>0.016354</td>\n",
       "    </tr>\n",
       "    <tr>\n",
       "      <th>34</th>\n",
       "      <td>street_ N OAK PARK AVE</td>\n",
       "      <td>0.015999</td>\n",
       "    </tr>\n",
       "    <tr>\n",
       "      <th>146</th>\n",
       "      <td>tmaxsq</td>\n",
       "      <td>0.015490</td>\n",
       "    </tr>\n",
       "    <tr>\n",
       "      <th>143</th>\n",
       "      <td>avgspeed</td>\n",
       "      <td>0.015249</td>\n",
       "    </tr>\n",
       "    <tr>\n",
       "      <th>155</th>\n",
       "      <td>avgspeedsq</td>\n",
       "      <td>0.014518</td>\n",
       "    </tr>\n",
       "    <tr>\n",
       "      <th>153</th>\n",
       "      <td>resultspeedsq</td>\n",
       "      <td>0.013626</td>\n",
       "    </tr>\n",
       "    <tr>\n",
       "      <th>145</th>\n",
       "      <td>tminsq</td>\n",
       "      <td>0.013359</td>\n",
       "    </tr>\n",
       "    <tr>\n",
       "      <th>142</th>\n",
       "      <td>resultdir</td>\n",
       "      <td>0.013276</td>\n",
       "    </tr>\n",
       "    <tr>\n",
       "      <th>31</th>\n",
       "      <td>street_ N MILWAUKEE AVE</td>\n",
       "      <td>0.012603</td>\n",
       "    </tr>\n",
       "    <tr>\n",
       "      <th>141</th>\n",
       "      <td>resultspeed</td>\n",
       "      <td>0.012503</td>\n",
       "    </tr>\n",
       "    <tr>\n",
       "      <th>154</th>\n",
       "      <td>resultdirsq</td>\n",
       "      <td>0.012356</td>\n",
       "    </tr>\n",
       "    <tr>\n",
       "      <th>139</th>\n",
       "      <td>stnpressure</td>\n",
       "      <td>0.012177</td>\n",
       "    </tr>\n",
       "    <tr>\n",
       "      <th>140</th>\n",
       "      <td>sealevel</td>\n",
       "      <td>0.012143</td>\n",
       "    </tr>\n",
       "    <tr>\n",
       "      <th>135</th>\n",
       "      <td>wetbulb</td>\n",
       "      <td>0.012028</td>\n",
       "    </tr>\n",
       "    <tr>\n",
       "      <th>131</th>\n",
       "      <td>tmin</td>\n",
       "      <td>0.012021</td>\n",
       "    </tr>\n",
       "    <tr>\n",
       "      <th>134</th>\n",
       "      <td>dewpoint</td>\n",
       "      <td>0.011958</td>\n",
       "    </tr>\n",
       "    <tr>\n",
       "      <th>149</th>\n",
       "      <td>wetbulbsq</td>\n",
       "      <td>0.011530</td>\n",
       "    </tr>\n",
       "    <tr>\n",
       "      <th>133</th>\n",
       "      <td>depart</td>\n",
       "      <td>0.011450</td>\n",
       "    </tr>\n",
       "    <tr>\n",
       "      <th>132</th>\n",
       "      <td>tavg</td>\n",
       "      <td>0.011369</td>\n",
       "    </tr>\n",
       "    <tr>\n",
       "      <th>147</th>\n",
       "      <td>tavgsq</td>\n",
       "      <td>0.011227</td>\n",
       "    </tr>\n",
       "    <tr>\n",
       "      <th>151</th>\n",
       "      <td>coolsq</td>\n",
       "      <td>0.011106</td>\n",
       "    </tr>\n",
       "    <tr>\n",
       "      <th>137</th>\n",
       "      <td>cool</td>\n",
       "      <td>0.009922</td>\n",
       "    </tr>\n",
       "    <tr>\n",
       "      <th>112</th>\n",
       "      <td>street_ W FULLERTON AVE</td>\n",
       "      <td>0.009855</td>\n",
       "    </tr>\n",
       "    <tr>\n",
       "      <th>148</th>\n",
       "      <td>departsq</td>\n",
       "      <td>0.009541</td>\n",
       "    </tr>\n",
       "    <tr>\n",
       "      <th>69</th>\n",
       "      <td>street_ S KOSTNER AVE</td>\n",
       "      <td>0.009537</td>\n",
       "    </tr>\n",
       "    <tr>\n",
       "      <th>33</th>\n",
       "      <td>street_ N MOSELL AVE</td>\n",
       "      <td>0.009399</td>\n",
       "    </tr>\n",
       "    <tr>\n",
       "      <th>25</th>\n",
       "      <td>street_ N LARAMIE AVE</td>\n",
       "      <td>0.008638</td>\n",
       "    </tr>\n",
       "    <tr>\n",
       "      <th>38</th>\n",
       "      <td>street_ N PULASKI RD</td>\n",
       "      <td>0.008486</td>\n",
       "    </tr>\n",
       "    <tr>\n",
       "      <th>84</th>\n",
       "      <td>street_ S UNION AVE</td>\n",
       "      <td>0.008435</td>\n",
       "    </tr>\n",
       "    <tr>\n",
       "      <th>32</th>\n",
       "      <td>street_ N MONT CLARE AVE</td>\n",
       "      <td>0.007876</td>\n",
       "    </tr>\n",
       "    <tr>\n",
       "      <th>37</th>\n",
       "      <td>street_ N PITTSBURGH AVE</td>\n",
       "      <td>0.007602</td>\n",
       "    </tr>\n",
       "    <tr>\n",
       "      <th>36</th>\n",
       "      <td>street_ N OKETO AVE</td>\n",
       "      <td>0.006874</td>\n",
       "    </tr>\n",
       "  </tbody>\n",
       "</table>\n",
       "</div>"
      ],
      "text/plain": [
       "                                  0         1\n",
       "1                         longitude  0.098033\n",
       "0                          latitude  0.086461\n",
       "158  species_CULEX PIPIENS/RESTUANS  0.052204\n",
       "157           species_CULEX PIPIENS  0.046333\n",
       "156                  daylightminssq  0.035871\n",
       "144                    daylightmins  0.029377\n",
       "159          species_CULEX RESTUANS  0.029280\n",
       "123         street_ W OHARE AIRPORT  0.016536\n",
       "130                            tmax  0.016354\n",
       "34           street_ N OAK PARK AVE  0.015999\n",
       "146                          tmaxsq  0.015490\n",
       "143                        avgspeed  0.015249\n",
       "155                      avgspeedsq  0.014518\n",
       "153                   resultspeedsq  0.013626\n",
       "145                          tminsq  0.013359\n",
       "142                       resultdir  0.013276\n",
       "31          street_ N MILWAUKEE AVE  0.012603\n",
       "141                     resultspeed  0.012503\n",
       "154                     resultdirsq  0.012356\n",
       "139                     stnpressure  0.012177\n",
       "140                        sealevel  0.012143\n",
       "135                         wetbulb  0.012028\n",
       "131                            tmin  0.012021\n",
       "134                        dewpoint  0.011958\n",
       "149                       wetbulbsq  0.011530\n",
       "133                          depart  0.011450\n",
       "132                            tavg  0.011369\n",
       "147                          tavgsq  0.011227\n",
       "151                          coolsq  0.011106\n",
       "137                            cool  0.009922\n",
       "112         street_ W FULLERTON AVE  0.009855\n",
       "148                        departsq  0.009541\n",
       "69            street_ S KOSTNER AVE  0.009537\n",
       "33             street_ N MOSELL AVE  0.009399\n",
       "25            street_ N LARAMIE AVE  0.008638\n",
       "38             street_ N PULASKI RD  0.008486\n",
       "84              street_ S UNION AVE  0.008435\n",
       "32         street_ N MONT CLARE AVE  0.007876\n",
       "37         street_ N PITTSBURGH AVE  0.007602\n",
       "36              street_ N OKETO AVE  0.006874"
      ]
     },
     "execution_count": 42,
     "metadata": {},
     "output_type": "execute_result"
    }
   ],
   "source": [
    "df_fi.sort_values(by = 1, ascending = False).head(40)"
   ]
  },
  {
   "cell_type": "code",
   "execution_count": 35,
   "metadata": {
    "cell_id": "00055-64f453be-92e2-4a75-a0ea-60b9399551de",
    "deepnote_cell_type": "code",
    "deepnote_to_be_reexecuted": false,
    "execution_millis": 2,
    "execution_start": 1620111928990,
    "source_hash": "c8015492",
    "tags": []
   },
   "outputs": [],
   "source": [
    "X_test = test_merged[X.columns]"
   ]
  },
  {
   "cell_type": "code",
   "execution_count": 36,
   "metadata": {
    "cell_id": "00056-c3562369-9cfe-4178-ac91-cdfee60056dd",
    "deepnote_cell_type": "code",
    "deepnote_to_be_reexecuted": false,
    "execution_millis": 972,
    "execution_start": 1620111987780,
    "source_hash": "ec3f5488",
    "tags": []
   },
   "outputs": [],
   "source": [
    "kaggle_score = pd.DataFrame(zip(test_merged.id, gs.predict(X_test)))"
   ]
  },
  {
   "cell_type": "code",
   "execution_count": 37,
   "metadata": {
    "cell_id": "00058-7fc31b74-23ec-43fd-83da-eb036368ddb6",
    "deepnote_cell_type": "code",
    "deepnote_to_be_reexecuted": false,
    "execution_millis": 0,
    "execution_start": 1620112072555,
    "source_hash": "7cea5714",
    "tags": []
   },
   "outputs": [],
   "source": [
    "kaggle_score.rename(columns = {0:\"Id\", 1: \"WnvPresent\"}, inplace = True)"
   ]
  },
  {
   "cell_type": "code",
   "execution_count": 38,
   "metadata": {
    "cell_id": "00062-5f5dfb07-5bd1-4d78-b312-b6989d7c234e",
    "deepnote_cell_type": "code",
    "deepnote_to_be_reexecuted": false,
    "execution_millis": 229,
    "execution_start": 1620112211163,
    "source_hash": "955bb5dd",
    "tags": []
   },
   "outputs": [],
   "source": [
    "kaggle_score.to_csv('./data/submission_3_street.csv', index= False)"
   ]
  },
  {
   "cell_type": "code",
   "execution_count": null,
   "metadata": {},
   "outputs": [],
   "source": []
  }
 ],
 "metadata": {
  "deepnote": {
   "is_reactive": false
  },
  "deepnote_execution_queue": [],
  "deepnote_notebook_id": "20647e11-615c-4378-bbee-19b1cc4ab63d",
  "kernelspec": {
   "display_name": "Python 3",
   "language": "python",
   "name": "python3"
  },
  "language_info": {
   "codemirror_mode": {
    "name": "ipython",
    "version": 3
   },
   "file_extension": ".py",
   "mimetype": "text/x-python",
   "name": "python",
   "nbconvert_exporter": "python",
   "pygments_lexer": "ipython3",
   "version": "3.8.5"
  }
 },
 "nbformat": 4,
 "nbformat_minor": 2
}
