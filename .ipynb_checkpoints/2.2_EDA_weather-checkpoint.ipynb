{
 "cells": [
  {
   "cell_type": "code",
   "execution_count": 1,
   "metadata": {
    "cell_id": "00000-e8975da9-efd0-48be-baec-59a593cbba77",
    "deepnote_cell_type": "code",
    "deepnote_to_be_reexecuted": false,
    "execution_millis": 604,
    "execution_start": 1620007709493,
    "source_hash": "5b02e761",
    "tags": []
   },
   "outputs": [],
   "source": [
    "import numpy as np\n",
    "import pandas as pd\n",
    "\n",
    "import seaborn as sns\n",
    "import matplotlib.pyplot as plt\n",
    "sns.set_style('whitegrid')\n",
    "plt.style.use('fivethirtyeight')\n",
    "\n",
    "import time\n",
    "import datetime as datetime"
   ]
  },
  {
   "cell_type": "code",
   "execution_count": 2,
   "metadata": {
    "cell_id": "00001-4ccba5ad-8e0d-4513-be88-beb5c6b9a913",
    "deepnote_cell_type": "code",
    "deepnote_to_be_reexecuted": false,
    "execution_millis": 257,
    "execution_start": 1620007710099,
    "source_hash": "699aa6c6",
    "tags": []
   },
   "outputs": [],
   "source": [
    "weather = pd.read_csv('./data/clean_weather.csv')\n",
    "stat1 = pd.read_csv('./data/clean_stat1.csv')\n",
    "stat2 = pd.read_csv('./data/clean_stat2.csv')\n",
    "train = pd.read_csv('./data/clean_train.csv')\n",
    "test = pd.read_csv('./data/clean_test.csv')"
   ]
  },
  {
   "cell_type": "code",
   "execution_count": 3,
   "metadata": {},
   "outputs": [],
   "source": [
    "train.date = pd.to_datetime(train.date, format = '%Y-%m-%d')\n",
    "test.date = pd.to_datetime(test.date, format = '%Y-%m-%d')\n",
    "stat1.date = pd.to_datetime(stat1.date, format = '%Y-%m-%d')\n",
    "stat2.date = pd.to_datetime(stat2.date, format = '%Y-%m-%d')\n",
    "weather.date = pd.to_datetime(weather.date, format = '%Y-%m-%d')"
   ]
  },
  {
   "cell_type": "code",
   "execution_count": 4,
   "metadata": {
    "cell_id": "00002-17a75ea5-ea56-48a1-8a21-80b6de49f787",
    "deepnote_cell_type": "code",
    "deepnote_to_be_reexecuted": false,
    "execution_millis": 8,
    "execution_start": 1620007710369,
    "source_hash": "82fea14f",
    "tags": []
   },
   "outputs": [
    {
     "name": "stdout",
     "output_type": "stream",
     "text": [
      "Year:\n",
      "[2007 2008 2009 2010 2011 2012 2013 2014]\n",
      "Month:\n",
      "[ 5  6  7  8  9 10]\n",
      "Day:\n",
      "[ 1  2  3  4  5  6  7  8  9 10 11 12 13 14 15 16 17 18 19 20 21 22 23 24\n",
      " 25 26 27 28 29 30 31]\n"
     ]
    }
   ],
   "source": [
    "print('Year:')\n",
    "print(weather['year'].unique())\n",
    "print('Month:')\n",
    "print(weather['month'].unique())\n",
    "print('Day:')\n",
    "print(weather['day'].unique())"
   ]
  },
  {
   "cell_type": "markdown",
   "metadata": {
    "cell_id": "00004-78f7ead4-e222-4199-a2da-7b64c98c6696",
    "deepnote_cell_type": "markdown",
    "tags": []
   },
   "source": [
    "Weather data from years 2007-2014.  \n",
    "There is only data for 6 months of the year from May to October, as expected as these are the months where the tests were conducted."
   ]
  },
  {
   "cell_type": "code",
   "execution_count": 5,
   "metadata": {
    "cell_id": "00003-9646c20c-ac5d-4da6-8d95-c77a04d6a8ba",
    "deepnote_cell_type": "code",
    "deepnote_to_be_reexecuted": false,
    "execution_millis": 11,
    "execution_start": 1620007710375,
    "source_hash": "aa989cfa",
    "tags": []
   },
   "outputs": [],
   "source": [
    "weather.date = pd.to_datetime(weather.date, format = '%Y-%m-%d')"
   ]
  },
  {
   "cell_type": "markdown",
   "metadata": {
    "cell_id": "00003-e89e49cd-2383-4dc0-a21d-5e5b70f8f2bf",
    "deepnote_cell_type": "markdown",
    "tags": []
   },
   "source": [
    "Weather data from years 2007-2014.  \n",
    "There is only data for 6 months of the year from May to October"
   ]
  },
  {
   "cell_type": "code",
   "execution_count": 6,
   "metadata": {
    "cell_id": "00003-04da8f84-a667-4401-83b5-e7fcdb8c5039",
    "deepnote_cell_type": "code",
    "deepnote_to_be_reexecuted": false,
    "execution_millis": 42,
    "execution_start": 1620007710388,
    "source_hash": "98e46d20",
    "tags": []
   },
   "outputs": [
    {
     "name": "stderr",
     "output_type": "stream",
     "text": [
      "<ipython-input-6-b5899121dedd>:2: FutureWarning: Indexing with multiple keys (implicitly converted to a tuple of keys) will be deprecated, use a list instead.\n",
      "  year_month_temp = pd.DataFrame(weather.groupby(['month'])['tmax','tmin','tavg'].mean())\n"
     ]
    }
   ],
   "source": [
    "#create dataframe to group temperatures by the year and month as index\n",
    "year_month_temp = pd.DataFrame(weather.groupby(['month'])['tmax','tmin','tavg'].mean())"
   ]
  },
  {
   "cell_type": "code",
   "execution_count": 7,
   "metadata": {
    "cell_id": "00005-1bb31ed9-53bf-4569-bc1f-fa7306dbae76",
    "deepnote_cell_type": "code",
    "deepnote_to_be_reexecuted": false,
    "execution_millis": 8,
    "execution_start": 1620007710422,
    "source_hash": "18491c95",
    "tags": []
   },
   "outputs": [
    {
     "data": {
      "text/html": [
       "<div>\n",
       "<style scoped>\n",
       "    .dataframe tbody tr th:only-of-type {\n",
       "        vertical-align: middle;\n",
       "    }\n",
       "\n",
       "    .dataframe tbody tr th {\n",
       "        vertical-align: top;\n",
       "    }\n",
       "\n",
       "    .dataframe thead th {\n",
       "        text-align: right;\n",
       "    }\n",
       "</style>\n",
       "<table border=\"1\" class=\"dataframe\">\n",
       "  <thead>\n",
       "    <tr style=\"text-align: right;\">\n",
       "      <th></th>\n",
       "      <th>tmax</th>\n",
       "      <th>tmin</th>\n",
       "      <th>tavg</th>\n",
       "    </tr>\n",
       "    <tr>\n",
       "      <th>month</th>\n",
       "      <th></th>\n",
       "      <th></th>\n",
       "      <th></th>\n",
       "    </tr>\n",
       "  </thead>\n",
       "  <tbody>\n",
       "    <tr>\n",
       "      <th>5</th>\n",
       "      <td>71.497984</td>\n",
       "      <td>51.288306</td>\n",
       "      <td>61.363911</td>\n",
       "    </tr>\n",
       "    <tr>\n",
       "      <th>6</th>\n",
       "      <td>80.503132</td>\n",
       "      <td>61.544885</td>\n",
       "      <td>71.281837</td>\n",
       "    </tr>\n",
       "    <tr>\n",
       "      <th>7</th>\n",
       "      <td>84.514113</td>\n",
       "      <td>66.322581</td>\n",
       "      <td>75.438508</td>\n",
       "    </tr>\n",
       "    <tr>\n",
       "      <th>8</th>\n",
       "      <td>82.720081</td>\n",
       "      <td>65.381339</td>\n",
       "      <td>74.059838</td>\n",
       "    </tr>\n",
       "    <tr>\n",
       "      <th>9</th>\n",
       "      <td>75.020833</td>\n",
       "      <td>56.935417</td>\n",
       "      <td>66.000000</td>\n",
       "    </tr>\n",
       "  </tbody>\n",
       "</table>\n",
       "</div>"
      ],
      "text/plain": [
       "            tmax       tmin       tavg\n",
       "month                                 \n",
       "5      71.497984  51.288306  61.363911\n",
       "6      80.503132  61.544885  71.281837\n",
       "7      84.514113  66.322581  75.438508\n",
       "8      82.720081  65.381339  74.059838\n",
       "9      75.020833  56.935417  66.000000"
      ]
     },
     "execution_count": 7,
     "metadata": {},
     "output_type": "execute_result"
    }
   ],
   "source": [
    "year_month_temp.head()"
   ]
  },
  {
   "cell_type": "code",
   "execution_count": 8,
   "metadata": {
    "cell_id": "00006-81574b4a-8c1a-4f3e-bb5b-c0f3a6ab6498",
    "deepnote_cell_type": "code",
    "deepnote_to_be_reexecuted": false,
    "execution_millis": 360,
    "execution_start": 1620007710426,
    "source_hash": "91553eed",
    "tags": []
   },
   "outputs": [
    {
     "data": {
      "text/plain": [
       "Text(0, 0.5, 'Average Temperature (F)')"
      ]
     },
     "execution_count": 8,
     "metadata": {},
     "output_type": "execute_result"
    },
    {
     "data": {
      "image/png": "[encoded data removed]",
      "text/plain": [
       "<Figure size 1080x576 with 1 Axes>"
      ]
     },
     "metadata": {},
     "output_type": "display_data"
    }
   ],
   "source": [
    "# Visually compare differences between temperature by month\n",
    "plt.figure(figsize=(15,8))\n",
    "\n",
    "sns.barplot(data = weather, x = 'month',y='tavg')\n",
    "plt.title('Average Temperature (F) by Month')\n",
    "plt.xlabel('Month')\n",
    "plt.ylabel('Average Temperature (F)')\n"
   ]
  },
  {
   "cell_type": "markdown",
   "metadata": {
    "cell_id": "00010-39cbefca-5211-4fdd-996e-a1a40ed0159b",
    "deepnote_cell_type": "markdown",
    "tags": []
   },
   "source": [
    "__Observation__: The data suggests that July is the hottest month.  As we know that the WNV propogates best in hot and dry conditions, this suggests that the virus may propogate the most easily in July.\n"
   ]
  },
  {
   "cell_type": "code",
   "execution_count": 9,
   "metadata": {
    "cell_id": "00010-0e8ac871-7f87-4ac5-aac6-b14f0f873b9f",
    "deepnote_cell_type": "code",
    "deepnote_to_be_reexecuted": false,
    "execution_millis": 231,
    "execution_start": 1620007710833,
    "source_hash": "6a40c5b8",
    "tags": []
   },
   "outputs": [
    {
     "data": {
      "text/plain": [
       "Text(0, 0.5, 'Average Temperature (F)')"
      ]
     },
     "execution_count": 9,
     "metadata": {},
     "output_type": "execute_result"
    },
    {
     "data": {
      "image/png": "[encoded data removed]",
      "text/plain": [
       "<Figure size 1080x576 with 1 Axes>"
      ]
     },
     "metadata": {},
     "output_type": "display_data"
    }
   ],
   "source": [
    "# Visually compare differences between temperature by year\n",
    "plt.figure(figsize=(15,8))\n",
    "\n",
    "sns.boxplot(data = weather, x = 'year',y='tavg')\n",
    "plt.title('Average Temperature (F) by year')\n",
    "plt.xlabel('Month')\n",
    "plt.ylabel('Average Temperature (F)')"
   ]
  },
  {
   "cell_type": "markdown",
   "metadata": {
    "cell_id": "00011-c076ef7c-70aa-4303-9d34-000eb281fb7b",
    "deepnote_cell_type": "markdown",
    "tags": []
   },
   "source": [
    "__Observation__: \n",
    "The data suggests that 2010 had the highest average temperatures, and that 2009 had the widest variance in temperatures.  As we know that WNV propogates in the heat, it will also be interesting to find out if incidences in 2011 or 2012 was more than normal as these years had the most variance in temperatures above the upper percentile.\n",
    "\n",
    "----\n",
    "\n",
    "Checking daylight hours recorded by stat1.\n"
   ]
  },
  {
   "cell_type": "code",
   "execution_count": 10,
   "metadata": {
    "cell_id": "00013-a59d085a-8f83-4cf2-83aa-cf1af505a246",
    "deepnote_cell_type": "code",
    "deepnote_to_be_reexecuted": false,
    "execution_millis": 228,
    "execution_start": 1620007711069,
    "source_hash": "25c7caf7",
    "tags": []
   },
   "outputs": [
    {
     "data": {
      "text/plain": [
       "Text(0, 0.5, 'Daylight (mins)')"
      ]
     },
     "execution_count": 10,
     "metadata": {},
     "output_type": "execute_result"
    },
    {
     "data": {
      "image/png": "[encoded data removed]",
      "text/plain": [
       "<Figure size 864x576 with 1 Axes>"
      ]
     },
     "metadata": {},
     "output_type": "display_data"
    }
   ],
   "source": [
    "# Visually compare differences in daylight minutes by month\n",
    "plt.figure(figsize=(12,8))\n",
    "\n",
    "sns.boxplot(data = stat1, x = 'month',y='daylightmins')\n",
    "plt.title('Daylight (mins) by Month')\n",
    "plt.xlabel('Month')\n",
    "plt.ylabel('Daylight (mins)')"
   ]
  },
  {
   "cell_type": "markdown",
   "metadata": {
    "cell_id": "00014-11de3e37-9c97-4ec2-b3d7-1e22c0a377b6",
    "deepnote_cell_type": "markdown",
    "tags": []
   },
   "source": [
    "__Observation__: Amount of minutes of daylight is highest in June and least in October.  It would be interesting to see the impact of number of daylight minutes on the propogation of WNV."
   ]
  },
  {
   "cell_type": "code",
   "execution_count": 11,
   "metadata": {
    "cell_id": "00015-1a12cfb6-d0ea-485b-b031-11915dc985e7",
    "deepnote_cell_type": "code",
    "deepnote_to_be_reexecuted": false,
    "execution_millis": 277,
    "execution_start": 1620007711298,
    "source_hash": "d14793c4",
    "tags": []
   },
   "outputs": [
    {
     "data": {
      "text/plain": [
       "Text(0, 0.5, 'Daylight (mins)')"
      ]
     },
     "execution_count": 11,
     "metadata": {},
     "output_type": "execute_result"
    },
    {
     "data": {
      "image/png": "[encoded data removed]",
      "text/plain": [
       "<Figure size 864x576 with 1 Axes>"
      ]
     },
     "metadata": {},
     "output_type": "display_data"
    }
   ],
   "source": [
    "# Visually compare differences in daylight minutes by year\n",
    "plt.figure(figsize=(12,8))\n",
    "\n",
    "sns.boxplot(data = stat1, x = 'year',y='daylightmins')\n",
    "plt.title('Daylight (mins) by Month')\n",
    "plt.xlabel('Month')\n",
    "plt.ylabel('Daylight (mins)')"
   ]
  },
  {
   "cell_type": "markdown",
   "metadata": {
    "cell_id": "00016-3151a11d-987a-4aa2-a07c-b91dfcfed284",
    "deepnote_cell_type": "markdown",
    "tags": []
   },
   "source": [
    "__Observation__: There seems to be no change to the amount of daylight by year."
   ]
  },
  {
   "cell_type": "code",
   "execution_count": 12,
   "metadata": {
    "cell_id": "00015-5db9c3d1-c8ee-4cbe-9129-0e4b5986147e",
    "deepnote_cell_type": "code",
    "deepnote_to_be_reexecuted": false,
    "execution_millis": 246,
    "execution_start": 1620007711621,
    "source_hash": "2c1539bd",
    "tags": []
   },
   "outputs": [
    {
     "data": {
      "text/plain": [
       "Text(0, 0.5, 'Avg Wind speed (mph)')"
      ]
     },
     "execution_count": 12,
     "metadata": {},
     "output_type": "execute_result"
    },
    {
     "data": {
      "image/png": "[encoded data removed]",
      "text/plain": [
       "<Figure size 864x576 with 1 Axes>"
      ]
     },
     "metadata": {},
     "output_type": "display_data"
    }
   ],
   "source": [
    "# Visually compare windspeed by month\n",
    "plt.figure(figsize=(12,8))\n",
    "\n",
    "sns.boxplot(data = weather, x = 'month',y='avgspeed')\n",
    "plt.title('Avg Wind speed (mph) by Month')\n",
    "plt.xlabel('Month')\n",
    "plt.ylabel('Avg Wind speed (mph)')"
   ]
  },
  {
   "cell_type": "markdown",
   "metadata": {
    "cell_id": "00018-88137c15-d2ba-453e-b9db-37f84660367a",
    "deepnote_cell_type": "markdown",
    "tags": []
   },
   "source": [
    "__Observation__:  July and August seems to have the least windspeed.  This might be relevant to spraying cycle as the chemicals might be the least dispersed during these months."
   ]
  },
  {
   "cell_type": "code",
   "execution_count": 13,
   "metadata": {
    "cell_id": "00019-2aa703a0-d9e2-488c-b5be-94a66d3ac39d",
    "deepnote_cell_type": "code",
    "deepnote_to_be_reexecuted": false,
    "execution_millis": 229,
    "execution_start": 1620007711870,
    "source_hash": "1cc94176",
    "tags": []
   },
   "outputs": [
    {
     "data": {
      "text/plain": [
       "Text(0, 0.5, 'Dewpoint(F')"
      ]
     },
     "execution_count": 13,
     "metadata": {},
     "output_type": "execute_result"
    },
    {
     "data": {
      "image/png": "[encoded data removed]",
      "text/plain": [
       "<Figure size 864x576 with 1 Axes>"
      ]
     },
     "metadata": {},
     "output_type": "display_data"
    }
   ],
   "source": [
    "# Visual representation of humidity by month\n",
    "plt.figure(figsize=(12,8))\n",
    "\n",
    "sns.boxplot(data = weather, x = 'month',y='dewpoint')\n",
    "plt.title('Dewpoint(F) by Month')\n",
    "plt.xlabel('Month')\n",
    "plt.ylabel('Dewpoint(F')\n"
   ]
  },
  {
   "cell_type": "markdown",
   "metadata": {
    "cell_id": "00020-686f6367-511a-4df4-8c07-57f88ac8c4cb",
    "deepnote_cell_type": "markdown",
    "tags": []
   },
   "source": [
    "__Observation__:  July seems to have the highest dewpoint temperatures, which again suggest that propagation of WNV is ideal during this month. "
   ]
  },
  {
   "cell_type": "code",
   "execution_count": 14,
   "metadata": {
    "cell_id": "00020-afed7fe0-cd8b-48a9-8b4d-d3434a52f08c",
    "deepnote_cell_type": "code",
    "deepnote_to_be_reexecuted": false,
    "execution_millis": 369,
    "execution_start": 1620007712095,
    "source_hash": "5e86a436",
    "tags": []
   },
   "outputs": [
    {
     "data": {
      "text/plain": [
       "Text(0, 0.5, 'Avg precipitation(in')"
      ]
     },
     "execution_count": 14,
     "metadata": {},
     "output_type": "execute_result"
    },
    {
     "data": {
      "image/png": "[encoded data removed]",
      "text/plain": [
       "<Figure size 864x576 with 1 Axes>"
      ]
     },
     "metadata": {},
     "output_type": "display_data"
    }
   ],
   "source": [
    "# Visual representation of preciptotal by month\n",
    "plt.figure(figsize=(12,8))\n",
    "\n",
    "sns.barplot(data = weather, x = 'month',y='preciptotal')\n",
    "plt.title('Avg precipitation(in) by Month')\n",
    "plt.xlabel('Month')\n",
    "plt.ylabel('Avg precipitation(in')"
   ]
  },
  {
   "cell_type": "markdown",
   "metadata": {
    "cell_id": "00013-de665812-0f22-43b1-a605-512c2fdfcb02",
    "deepnote_cell_type": "markdown",
    "tags": []
   },
   "source": [
    "__Observation__: June has the highest aveage precipitation.  This might not be conducive for the spread of the WNV.\n",
    "\n",
    "----\n",
    "\n",
    "\n",
    "Additionally, from the data dictionary, we know that the data gathered from station 1 is in Chicago O'Hare Itnernational airport and station 2 is in Chicago Midway Int'l Airport.\n",
    "\n",
    "We also know previously from cleaning that station 2 captures less data than station 1.  Hence, we will compare the data gathered by both stations to see if the data gathered is significantly different."
   ]
  },
  {
   "cell_type": "code",
   "execution_count": 15,
   "metadata": {
    "cell_id": "00007-baa25ee1-b6ce-4621-821e-b2e7232821b3",
    "deepnote_cell_type": "code",
    "deepnote_to_be_reexecuted": false,
    "execution_millis": 713,
    "execution_start": 1620007712501,
    "source_hash": "2510b923",
    "tags": []
   },
   "outputs": [
    {
     "data": {
      "image/png": "[encoded data removed]",
      "text/plain": [
       "<Figure size 864x1440 with 6 Axes>"
      ]
     },
     "metadata": {},
     "output_type": "display_data"
    }
   ],
   "source": [
    "# Visually  compare differences\n",
    "\n",
    "fig, ax = plt.subplots(3,2, figsize = (12,20))\n",
    "ax = ax.ravel()\n",
    "for n, col in enumerate(['tmin', 'tavg', 'heat', 'cool', 'stnpressure', 'avgspeed']):\n",
    "    g = sns.boxplot(data = weather, x = 'station', y = col, ax = ax[n])\n",
    "    g.set_title(col)"
   ]
  },
  {
   "cell_type": "markdown",
   "metadata": {
    "cell_id": "00024-92acb241-8201-422f-9358-5c0a15b37b7b",
    "deepnote_cell_type": "markdown",
    "tags": []
   },
   "source": [
    "__Observation__: As the data between the 2 stations do not show much difference, and station 1 has additional features including length of day, sunset and sunrise timing, we will be using data from station 1 instead of averaging both station 1 and station 2 data."
   ]
  },
  {
   "cell_type": "code",
   "execution_count": 16,
   "metadata": {
    "cell_id": "00032-985ec2f8-f4a7-4418-be6f-8abee27984f9",
    "deepnote_cell_type": "code",
    "deepnote_to_be_reexecuted": false,
    "execution_millis": 1,
    "execution_start": 1620007738321,
    "source_hash": "fdac0509",
    "tags": []
   },
   "outputs": [],
   "source": [
    "# Drop unnecessary columns from stat1\n",
    "stat1.drop(columns = ['station', 'sunset', 'sunrise','year','month','day'], inplace = True)"
   ]
  },
  {
   "cell_type": "code",
   "execution_count": 17,
   "metadata": {},
   "outputs": [],
   "source": [
    "train.drop(columns = ['day','month','year'], inplace = True)"
   ]
  },
  {
   "cell_type": "code",
   "execution_count": 18,
   "metadata": {
    "cell_id": "00034-119af2b5-7a3f-47b9-bd92-f408381ec391",
    "deepnote_cell_type": "code",
    "deepnote_to_be_reexecuted": false,
    "execution_millis": 63,
    "execution_start": 1620007739099,
    "source_hash": "70b453",
    "tags": []
   },
   "outputs": [],
   "source": [
    "# Merge weather data to train and test set\n",
    "train_merged = train.merge(stat1, on = 'date', how = 'left')\n",
    "test_merged = test.merge(stat1, on = 'date', how = 'left')"
   ]
  },
  {
   "cell_type": "code",
   "execution_count": 19,
   "metadata": {},
   "outputs": [
    {
     "data": {
      "text/html": [
       "<div>\n",
       "<style scoped>\n",
       "    .dataframe tbody tr th:only-of-type {\n",
       "        vertical-align: middle;\n",
       "    }\n",
       "\n",
       "    .dataframe tbody tr th {\n",
       "        vertical-align: top;\n",
       "    }\n",
       "\n",
       "    .dataframe thead th {\n",
       "        text-align: right;\n",
       "    }\n",
       "</style>\n",
       "<table border=\"1\" class=\"dataframe\">\n",
       "  <thead>\n",
       "    <tr style=\"text-align: right;\">\n",
       "      <th></th>\n",
       "      <th>date</th>\n",
       "      <th>species</th>\n",
       "      <th>street</th>\n",
       "      <th>latitude</th>\n",
       "      <th>longitude</th>\n",
       "      <th>nummosquitos</th>\n",
       "      <th>wnvpresent</th>\n",
       "      <th>tmax</th>\n",
       "      <th>tmin</th>\n",
       "      <th>tavg</th>\n",
       "      <th>...</th>\n",
       "      <th>tavgsq</th>\n",
       "      <th>departsq</th>\n",
       "      <th>wetbulbsq</th>\n",
       "      <th>heatsq</th>\n",
       "      <th>coolsq</th>\n",
       "      <th>preciptotalsq</th>\n",
       "      <th>resultspeedsq</th>\n",
       "      <th>resultdirsq</th>\n",
       "      <th>avgspeedsq</th>\n",
       "      <th>daylightminssq</th>\n",
       "    </tr>\n",
       "  </thead>\n",
       "  <tbody>\n",
       "    <tr>\n",
       "      <th>0</th>\n",
       "      <td>2007-05-29</td>\n",
       "      <td>CULEX PIPIENS/RESTUANS</td>\n",
       "      <td>N OAK PARK AVE</td>\n",
       "      <td>41.954690</td>\n",
       "      <td>-87.800991</td>\n",
       "      <td>1</td>\n",
       "      <td>0</td>\n",
       "      <td>88.0</td>\n",
       "      <td>60.0</td>\n",
       "      <td>74.0</td>\n",
       "      <td>...</td>\n",
       "      <td>5476.0</td>\n",
       "      <td>100.0</td>\n",
       "      <td>4225.0</td>\n",
       "      <td>0.0</td>\n",
       "      <td>81.0</td>\n",
       "      <td>0.0</td>\n",
       "      <td>33.64</td>\n",
       "      <td>324.0</td>\n",
       "      <td>42.25</td>\n",
       "      <td>802816.0</td>\n",
       "    </tr>\n",
       "    <tr>\n",
       "      <th>1</th>\n",
       "      <td>2007-05-29</td>\n",
       "      <td>CULEX RESTUANS</td>\n",
       "      <td>N OAK PARK AVE</td>\n",
       "      <td>41.954690</td>\n",
       "      <td>-87.800991</td>\n",
       "      <td>1</td>\n",
       "      <td>0</td>\n",
       "      <td>88.0</td>\n",
       "      <td>60.0</td>\n",
       "      <td>74.0</td>\n",
       "      <td>...</td>\n",
       "      <td>5476.0</td>\n",
       "      <td>100.0</td>\n",
       "      <td>4225.0</td>\n",
       "      <td>0.0</td>\n",
       "      <td>81.0</td>\n",
       "      <td>0.0</td>\n",
       "      <td>33.64</td>\n",
       "      <td>324.0</td>\n",
       "      <td>42.25</td>\n",
       "      <td>802816.0</td>\n",
       "    </tr>\n",
       "    <tr>\n",
       "      <th>2</th>\n",
       "      <td>2007-05-29</td>\n",
       "      <td>CULEX RESTUANS</td>\n",
       "      <td>N MANDELL AVE</td>\n",
       "      <td>41.994991</td>\n",
       "      <td>-87.769279</td>\n",
       "      <td>1</td>\n",
       "      <td>0</td>\n",
       "      <td>88.0</td>\n",
       "      <td>60.0</td>\n",
       "      <td>74.0</td>\n",
       "      <td>...</td>\n",
       "      <td>5476.0</td>\n",
       "      <td>100.0</td>\n",
       "      <td>4225.0</td>\n",
       "      <td>0.0</td>\n",
       "      <td>81.0</td>\n",
       "      <td>0.0</td>\n",
       "      <td>33.64</td>\n",
       "      <td>324.0</td>\n",
       "      <td>42.25</td>\n",
       "      <td>802816.0</td>\n",
       "    </tr>\n",
       "    <tr>\n",
       "      <th>3</th>\n",
       "      <td>2007-05-29</td>\n",
       "      <td>CULEX PIPIENS/RESTUANS</td>\n",
       "      <td>W FOSTER AVE</td>\n",
       "      <td>41.974089</td>\n",
       "      <td>-87.824812</td>\n",
       "      <td>1</td>\n",
       "      <td>0</td>\n",
       "      <td>88.0</td>\n",
       "      <td>60.0</td>\n",
       "      <td>74.0</td>\n",
       "      <td>...</td>\n",
       "      <td>5476.0</td>\n",
       "      <td>100.0</td>\n",
       "      <td>4225.0</td>\n",
       "      <td>0.0</td>\n",
       "      <td>81.0</td>\n",
       "      <td>0.0</td>\n",
       "      <td>33.64</td>\n",
       "      <td>324.0</td>\n",
       "      <td>42.25</td>\n",
       "      <td>802816.0</td>\n",
       "    </tr>\n",
       "    <tr>\n",
       "      <th>4</th>\n",
       "      <td>2007-05-29</td>\n",
       "      <td>CULEX RESTUANS</td>\n",
       "      <td>W FOSTER AVE</td>\n",
       "      <td>41.974089</td>\n",
       "      <td>-87.824812</td>\n",
       "      <td>4</td>\n",
       "      <td>0</td>\n",
       "      <td>88.0</td>\n",
       "      <td>60.0</td>\n",
       "      <td>74.0</td>\n",
       "      <td>...</td>\n",
       "      <td>5476.0</td>\n",
       "      <td>100.0</td>\n",
       "      <td>4225.0</td>\n",
       "      <td>0.0</td>\n",
       "      <td>81.0</td>\n",
       "      <td>0.0</td>\n",
       "      <td>33.64</td>\n",
       "      <td>324.0</td>\n",
       "      <td>42.25</td>\n",
       "      <td>802816.0</td>\n",
       "    </tr>\n",
       "    <tr>\n",
       "      <th>...</th>\n",
       "      <td>...</td>\n",
       "      <td>...</td>\n",
       "      <td>...</td>\n",
       "      <td>...</td>\n",
       "      <td>...</td>\n",
       "      <td>...</td>\n",
       "      <td>...</td>\n",
       "      <td>...</td>\n",
       "      <td>...</td>\n",
       "      <td>...</td>\n",
       "      <td>...</td>\n",
       "      <td>...</td>\n",
       "      <td>...</td>\n",
       "      <td>...</td>\n",
       "      <td>...</td>\n",
       "      <td>...</td>\n",
       "      <td>...</td>\n",
       "      <td>...</td>\n",
       "      <td>...</td>\n",
       "      <td>...</td>\n",
       "      <td>...</td>\n",
       "    </tr>\n",
       "    <tr>\n",
       "      <th>10501</th>\n",
       "      <td>2013-09-26</td>\n",
       "      <td>CULEX PIPIENS/RESTUANS</td>\n",
       "      <td>W 72ND ST</td>\n",
       "      <td>41.763733</td>\n",
       "      <td>-87.742302</td>\n",
       "      <td>6</td>\n",
       "      <td>1</td>\n",
       "      <td>75.0</td>\n",
       "      <td>50.0</td>\n",
       "      <td>63.0</td>\n",
       "      <td>...</td>\n",
       "      <td>3969.0</td>\n",
       "      <td>9.0</td>\n",
       "      <td>3364.0</td>\n",
       "      <td>4.0</td>\n",
       "      <td>0.0</td>\n",
       "      <td>0.0</td>\n",
       "      <td>14.44</td>\n",
       "      <td>64.0</td>\n",
       "      <td>17.64</td>\n",
       "      <td>516961.0</td>\n",
       "    </tr>\n",
       "    <tr>\n",
       "      <th>10502</th>\n",
       "      <td>2013-09-26</td>\n",
       "      <td>CULEX PIPIENS/RESTUANS</td>\n",
       "      <td>N RIDGE AVE</td>\n",
       "      <td>41.987280</td>\n",
       "      <td>-87.666066</td>\n",
       "      <td>5</td>\n",
       "      <td>0</td>\n",
       "      <td>75.0</td>\n",
       "      <td>50.0</td>\n",
       "      <td>63.0</td>\n",
       "      <td>...</td>\n",
       "      <td>3969.0</td>\n",
       "      <td>9.0</td>\n",
       "      <td>3364.0</td>\n",
       "      <td>4.0</td>\n",
       "      <td>0.0</td>\n",
       "      <td>0.0</td>\n",
       "      <td>14.44</td>\n",
       "      <td>64.0</td>\n",
       "      <td>17.64</td>\n",
       "      <td>516961.0</td>\n",
       "    </tr>\n",
       "    <tr>\n",
       "      <th>10503</th>\n",
       "      <td>2013-09-26</td>\n",
       "      <td>CULEX PIPIENS/RESTUANS</td>\n",
       "      <td>N ASHLAND AVE</td>\n",
       "      <td>41.912563</td>\n",
       "      <td>-87.668055</td>\n",
       "      <td>1</td>\n",
       "      <td>0</td>\n",
       "      <td>75.0</td>\n",
       "      <td>50.0</td>\n",
       "      <td>63.0</td>\n",
       "      <td>...</td>\n",
       "      <td>3969.0</td>\n",
       "      <td>9.0</td>\n",
       "      <td>3364.0</td>\n",
       "      <td>4.0</td>\n",
       "      <td>0.0</td>\n",
       "      <td>0.0</td>\n",
       "      <td>14.44</td>\n",
       "      <td>64.0</td>\n",
       "      <td>17.64</td>\n",
       "      <td>516961.0</td>\n",
       "    </tr>\n",
       "    <tr>\n",
       "      <th>10504</th>\n",
       "      <td>2013-09-26</td>\n",
       "      <td>CULEX PIPIENS/RESTUANS</td>\n",
       "      <td>N HARLEM AVE</td>\n",
       "      <td>42.009876</td>\n",
       "      <td>-87.807277</td>\n",
       "      <td>5</td>\n",
       "      <td>0</td>\n",
       "      <td>75.0</td>\n",
       "      <td>50.0</td>\n",
       "      <td>63.0</td>\n",
       "      <td>...</td>\n",
       "      <td>3969.0</td>\n",
       "      <td>9.0</td>\n",
       "      <td>3364.0</td>\n",
       "      <td>4.0</td>\n",
       "      <td>0.0</td>\n",
       "      <td>0.0</td>\n",
       "      <td>14.44</td>\n",
       "      <td>64.0</td>\n",
       "      <td>17.64</td>\n",
       "      <td>516961.0</td>\n",
       "    </tr>\n",
       "    <tr>\n",
       "      <th>10505</th>\n",
       "      <td>2013-09-26</td>\n",
       "      <td>CULEX PIPIENS/RESTUANS</td>\n",
       "      <td>W 65TH ST</td>\n",
       "      <td>41.776428</td>\n",
       "      <td>-87.627096</td>\n",
       "      <td>1</td>\n",
       "      <td>0</td>\n",
       "      <td>75.0</td>\n",
       "      <td>50.0</td>\n",
       "      <td>63.0</td>\n",
       "      <td>...</td>\n",
       "      <td>3969.0</td>\n",
       "      <td>9.0</td>\n",
       "      <td>3364.0</td>\n",
       "      <td>4.0</td>\n",
       "      <td>0.0</td>\n",
       "      <td>0.0</td>\n",
       "      <td>14.44</td>\n",
       "      <td>64.0</td>\n",
       "      <td>17.64</td>\n",
       "      <td>516961.0</td>\n",
       "    </tr>\n",
       "  </tbody>\n",
       "</table>\n",
       "<p>10506 rows × 34 columns</p>\n",
       "</div>"
      ],
      "text/plain": [
       "            date                 species           street   latitude  \\\n",
       "0     2007-05-29  CULEX PIPIENS/RESTUANS   N OAK PARK AVE  41.954690   \n",
       "1     2007-05-29          CULEX RESTUANS   N OAK PARK AVE  41.954690   \n",
       "2     2007-05-29          CULEX RESTUANS    N MANDELL AVE  41.994991   \n",
       "3     2007-05-29  CULEX PIPIENS/RESTUANS     W FOSTER AVE  41.974089   \n",
       "4     2007-05-29          CULEX RESTUANS     W FOSTER AVE  41.974089   \n",
       "...          ...                     ...              ...        ...   \n",
       "10501 2013-09-26  CULEX PIPIENS/RESTUANS        W 72ND ST  41.763733   \n",
       "10502 2013-09-26  CULEX PIPIENS/RESTUANS      N RIDGE AVE  41.987280   \n",
       "10503 2013-09-26  CULEX PIPIENS/RESTUANS    N ASHLAND AVE  41.912563   \n",
       "10504 2013-09-26  CULEX PIPIENS/RESTUANS     N HARLEM AVE  42.009876   \n",
       "10505 2013-09-26  CULEX PIPIENS/RESTUANS        W 65TH ST  41.776428   \n",
       "\n",
       "       longitude  nummosquitos  wnvpresent  tmax  tmin  tavg  ...  tavgsq  \\\n",
       "0     -87.800991             1           0  88.0  60.0  74.0  ...  5476.0   \n",
       "1     -87.800991             1           0  88.0  60.0  74.0  ...  5476.0   \n",
       "2     -87.769279             1           0  88.0  60.0  74.0  ...  5476.0   \n",
       "3     -87.824812             1           0  88.0  60.0  74.0  ...  5476.0   \n",
       "4     -87.824812             4           0  88.0  60.0  74.0  ...  5476.0   \n",
       "...          ...           ...         ...   ...   ...   ...  ...     ...   \n",
       "10501 -87.742302             6           1  75.0  50.0  63.0  ...  3969.0   \n",
       "10502 -87.666066             5           0  75.0  50.0  63.0  ...  3969.0   \n",
       "10503 -87.668055             1           0  75.0  50.0  63.0  ...  3969.0   \n",
       "10504 -87.807277             5           0  75.0  50.0  63.0  ...  3969.0   \n",
       "10505 -87.627096             1           0  75.0  50.0  63.0  ...  3969.0   \n",
       "\n",
       "       departsq  wetbulbsq  heatsq  coolsq  preciptotalsq  resultspeedsq  \\\n",
       "0         100.0     4225.0     0.0    81.0            0.0          33.64   \n",
       "1         100.0     4225.0     0.0    81.0            0.0          33.64   \n",
       "2         100.0     4225.0     0.0    81.0            0.0          33.64   \n",
       "3         100.0     4225.0     0.0    81.0            0.0          33.64   \n",
       "4         100.0     4225.0     0.0    81.0            0.0          33.64   \n",
       "...         ...        ...     ...     ...            ...            ...   \n",
       "10501       9.0     3364.0     4.0     0.0            0.0          14.44   \n",
       "10502       9.0     3364.0     4.0     0.0            0.0          14.44   \n",
       "10503       9.0     3364.0     4.0     0.0            0.0          14.44   \n",
       "10504       9.0     3364.0     4.0     0.0            0.0          14.44   \n",
       "10505       9.0     3364.0     4.0     0.0            0.0          14.44   \n",
       "\n",
       "       resultdirsq  avgspeedsq  daylightminssq  \n",
       "0            324.0       42.25        802816.0  \n",
       "1            324.0       42.25        802816.0  \n",
       "2            324.0       42.25        802816.0  \n",
       "3            324.0       42.25        802816.0  \n",
       "4            324.0       42.25        802816.0  \n",
       "...            ...         ...             ...  \n",
       "10501         64.0       17.64        516961.0  \n",
       "10502         64.0       17.64        516961.0  \n",
       "10503         64.0       17.64        516961.0  \n",
       "10504         64.0       17.64        516961.0  \n",
       "10505         64.0       17.64        516961.0  \n",
       "\n",
       "[10506 rows x 34 columns]"
      ]
     },
     "execution_count": 19,
     "metadata": {},
     "output_type": "execute_result"
    }
   ],
   "source": [
    "train_merged"
   ]
  },
  {
   "cell_type": "code",
   "execution_count": 20,
   "metadata": {
    "cell_id": "00037-74cc2fec-3ef8-4b34-a550-1693464cf19a",
    "deepnote_cell_type": "code",
    "deepnote_to_be_reexecuted": false,
    "execution_millis": 1,
    "execution_start": 1620007739878,
    "source_hash": "6137f485",
    "tags": []
   },
   "outputs": [],
   "source": [
    "# OHE Species\n",
    "bad_moz = ['CULEX PIPIENS/RESTUANS', 'CULEX RESTUANS', 'CULEX PIPIENS']"
   ]
  },
  {
   "cell_type": "code",
   "execution_count": 21,
   "metadata": {
    "cell_id": "00039-cb90cfa4-74f1-4934-92c5-b9b4d269ece5",
    "deepnote_cell_type": "code",
    "deepnote_to_be_reexecuted": false,
    "execution_millis": 0,
    "execution_start": 1620007740649,
    "source_hash": "9859f633",
    "tags": []
   },
   "outputs": [],
   "source": [
    "good_moz = [x for x in train_merged.species.unique() if x not in bad_moz]"
   ]
  },
  {
   "cell_type": "code",
   "execution_count": 22,
   "metadata": {
    "cell_id": "00039-540a45fa-5b55-44b3-af0e-bb924d77821f",
    "deepnote_cell_type": "code",
    "deepnote_to_be_reexecuted": false,
    "execution_millis": 13,
    "execution_start": 1620007741245,
    "source_hash": "b9daafe0",
    "tags": []
   },
   "outputs": [],
   "source": [
    "train_merged.species.replace(to_replace = good_moz, value = \"OTHERS\", inplace = True)\n",
    "test_merged.species.replace(to_replace = good_moz, value = \"OTHERS\", inplace = True)"
   ]
  },
  {
   "cell_type": "code",
   "execution_count": 23,
   "metadata": {
    "cell_id": "00043-0395bc1a-6ed4-4e8d-896a-8b5c0e6d7fe0",
    "deepnote_cell_type": "code",
    "deepnote_to_be_reexecuted": false,
    "execution_millis": 3,
    "execution_start": 1620007741853,
    "source_hash": "66747611",
    "tags": []
   },
   "outputs": [],
   "source": [
    "# Dropping object cols\n",
    "drop_cols = [x for x in train_merged.select_dtypes('O').columns.to_list() if x not in ['species']]"
   ]
  },
  {
   "cell_type": "code",
   "execution_count": 24,
   "metadata": {
    "cell_id": "00041-3e65646f-7af3-4e68-9de5-b09e4bdb3f89",
    "deepnote_cell_type": "code",
    "deepnote_to_be_reexecuted": false,
    "execution_millis": 1,
    "execution_start": 1620007742568,
    "source_hash": "c1cdfb16",
    "tags": []
   },
   "outputs": [],
   "source": [
    "#drop object columns for test and train merged dataset\n",
    "train_merged.drop(columns = drop_cols, inplace = True)\n",
    "test_merged.drop(columns = drop_cols, inplace = True)"
   ]
  },
  {
   "cell_type": "code",
   "execution_count": 25,
   "metadata": {
    "cell_id": "00041-e504bc6f-eb6e-45e6-9f7b-996d6d4c7581",
    "deepnote_cell_type": "code",
    "deepnote_to_be_reexecuted": false,
    "execution_millis": 28,
    "execution_start": 1620007744094,
    "source_hash": "e2f33f23",
    "tags": []
   },
   "outputs": [],
   "source": [
    "#get dummy variables for species in train/test merged dataset\n",
    "train_merged = pd.get_dummies(data = train_merged, columns = ['species'])\n",
    "test_merged = pd.get_dummies(data = test_merged, columns = ['species'])"
   ]
  },
  {
   "cell_type": "code",
   "execution_count": null,
   "metadata": {},
   "outputs": [],
   "source": [
    "#get dummy variables for street in train/test merged dataset\n",
    "train_merged = pd.get_dummies(data = train_merged, columns = ['species'])\n",
    "test_merged = pd.get_dummies(data = test_merged, columns = ['species'])"
   ]
  },
  {
   "cell_type": "code",
   "execution_count": 26,
   "metadata": {},
   "outputs": [
    {
     "data": {
      "text/plain": [
       "(10506, 36)"
      ]
     },
     "execution_count": 26,
     "metadata": {},
     "output_type": "execute_result"
    }
   ],
   "source": [
    "train_merged.shape"
   ]
  },
  {
   "cell_type": "code",
   "execution_count": 27,
   "metadata": {
    "cell_id": "00042-33740c00-ce42-4caa-b0e3-2d77424bf889",
    "deepnote_cell_type": "code",
    "deepnote_to_be_reexecuted": false,
    "execution_millis": 40,
    "execution_start": 1620007747569,
    "source_hash": "bc087c5f",
    "tags": []
   },
   "outputs": [],
   "source": [
    "# Dropping rows with missing weather data\n",
    "train_merged.dropna(inplace = True)\n",
    "test_merged.dropna(inplace = True)"
   ]
  },
  {
   "cell_type": "code",
   "execution_count": 28,
   "metadata": {},
   "outputs": [
    {
     "data": {
      "text/plain": [
       "(10413, 36)"
      ]
     },
     "execution_count": 28,
     "metadata": {},
     "output_type": "execute_result"
    }
   ],
   "source": [
    "train_merged.shape"
   ]
  },
  {
   "cell_type": "code",
   "execution_count": 29,
   "metadata": {
    "cell_id": "00049-e81abd72-8837-429c-8cc3-1032e93729e6",
    "deepnote_cell_type": "code",
    "deepnote_to_be_reexecuted": false,
    "execution_millis": 0,
    "execution_start": 1620008117383,
    "source_hash": "60913200",
    "tags": []
   },
   "outputs": [],
   "source": [
    "# Extracting columns in test not in train dataset\n",
    "miscol_test = [x for x in test_merged.columns.to_list() if x not in train_merged.columns.to_list()]"
   ]
  },
  {
   "cell_type": "code",
   "execution_count": 30,
   "metadata": {
    "cell_id": "00050-615c405d-8963-43a6-8cec-baffe8bc178b",
    "deepnote_cell_type": "code",
    "deepnote_to_be_reexecuted": false,
    "execution_millis": 7,
    "execution_start": 1620009256605,
    "source_hash": "cd1cf524",
    "tags": []
   },
   "outputs": [
    {
     "data": {
      "text/plain": [
       "'id'"
      ]
     },
     "execution_count": 30,
     "metadata": {},
     "output_type": "execute_result"
    }
   ],
   "source": [
    "miscol_test[0]"
   ]
  },
  {
   "cell_type": "code",
   "execution_count": 31,
   "metadata": {
    "cell_id": "00042-b1d6964a-85e9-4b1f-b406-fae330b491f1",
    "deepnote_cell_type": "code",
    "deepnote_to_be_reexecuted": false,
    "execution_millis": 8,
    "execution_start": 1620009316493,
    "source_hash": "138b8e51",
    "tags": []
   },
   "outputs": [
    {
     "data": {
      "text/plain": [
       "0    101948\n",
       "1     14345\n",
       "Name: species_UNSPECIFIED CULEX, dtype: int64"
      ]
     },
     "execution_count": 31,
     "metadata": {},
     "output_type": "execute_result"
    }
   ],
   "source": [
    "test_merged['species_UNSPECIFIED CULEX'].value_counts()"
   ]
  },
  {
   "cell_type": "code",
   "execution_count": 32,
   "metadata": {},
   "outputs": [
    {
     "data": {
      "text/html": [
       "<div>\n",
       "<style scoped>\n",
       "    .dataframe tbody tr th:only-of-type {\n",
       "        vertical-align: middle;\n",
       "    }\n",
       "\n",
       "    .dataframe tbody tr th {\n",
       "        vertical-align: top;\n",
       "    }\n",
       "\n",
       "    .dataframe thead th {\n",
       "        text-align: right;\n",
       "    }\n",
       "</style>\n",
       "<table border=\"1\" class=\"dataframe\">\n",
       "  <thead>\n",
       "    <tr style=\"text-align: right;\">\n",
       "      <th></th>\n",
       "      <th>date</th>\n",
       "      <th>latitude</th>\n",
       "      <th>longitude</th>\n",
       "      <th>nummosquitos</th>\n",
       "      <th>wnvpresent</th>\n",
       "      <th>tmax</th>\n",
       "      <th>tmin</th>\n",
       "      <th>tavg</th>\n",
       "      <th>depart</th>\n",
       "      <th>dewpoint</th>\n",
       "      <th>...</th>\n",
       "      <th>coolsq</th>\n",
       "      <th>preciptotalsq</th>\n",
       "      <th>resultspeedsq</th>\n",
       "      <th>resultdirsq</th>\n",
       "      <th>avgspeedsq</th>\n",
       "      <th>daylightminssq</th>\n",
       "      <th>species_CULEX PIPIENS</th>\n",
       "      <th>species_CULEX PIPIENS/RESTUANS</th>\n",
       "      <th>species_CULEX RESTUANS</th>\n",
       "      <th>species_OTHERS</th>\n",
       "    </tr>\n",
       "  </thead>\n",
       "  <tbody>\n",
       "    <tr>\n",
       "      <th>0</th>\n",
       "      <td>2007-05-29</td>\n",
       "      <td>41.954690</td>\n",
       "      <td>-87.800991</td>\n",
       "      <td>1</td>\n",
       "      <td>0</td>\n",
       "      <td>88.0</td>\n",
       "      <td>60.0</td>\n",
       "      <td>74.0</td>\n",
       "      <td>10.0</td>\n",
       "      <td>58.0</td>\n",
       "      <td>...</td>\n",
       "      <td>81.0</td>\n",
       "      <td>0.0</td>\n",
       "      <td>33.64</td>\n",
       "      <td>324.0</td>\n",
       "      <td>42.25</td>\n",
       "      <td>802816.0</td>\n",
       "      <td>0</td>\n",
       "      <td>1</td>\n",
       "      <td>0</td>\n",
       "      <td>0</td>\n",
       "    </tr>\n",
       "    <tr>\n",
       "      <th>1</th>\n",
       "      <td>2007-05-29</td>\n",
       "      <td>41.954690</td>\n",
       "      <td>-87.800991</td>\n",
       "      <td>1</td>\n",
       "      <td>0</td>\n",
       "      <td>88.0</td>\n",
       "      <td>60.0</td>\n",
       "      <td>74.0</td>\n",
       "      <td>10.0</td>\n",
       "      <td>58.0</td>\n",
       "      <td>...</td>\n",
       "      <td>81.0</td>\n",
       "      <td>0.0</td>\n",
       "      <td>33.64</td>\n",
       "      <td>324.0</td>\n",
       "      <td>42.25</td>\n",
       "      <td>802816.0</td>\n",
       "      <td>0</td>\n",
       "      <td>0</td>\n",
       "      <td>1</td>\n",
       "      <td>0</td>\n",
       "    </tr>\n",
       "    <tr>\n",
       "      <th>2</th>\n",
       "      <td>2007-05-29</td>\n",
       "      <td>41.994991</td>\n",
       "      <td>-87.769279</td>\n",
       "      <td>1</td>\n",
       "      <td>0</td>\n",
       "      <td>88.0</td>\n",
       "      <td>60.0</td>\n",
       "      <td>74.0</td>\n",
       "      <td>10.0</td>\n",
       "      <td>58.0</td>\n",
       "      <td>...</td>\n",
       "      <td>81.0</td>\n",
       "      <td>0.0</td>\n",
       "      <td>33.64</td>\n",
       "      <td>324.0</td>\n",
       "      <td>42.25</td>\n",
       "      <td>802816.0</td>\n",
       "      <td>0</td>\n",
       "      <td>0</td>\n",
       "      <td>1</td>\n",
       "      <td>0</td>\n",
       "    </tr>\n",
       "    <tr>\n",
       "      <th>3</th>\n",
       "      <td>2007-05-29</td>\n",
       "      <td>41.974089</td>\n",
       "      <td>-87.824812</td>\n",
       "      <td>1</td>\n",
       "      <td>0</td>\n",
       "      <td>88.0</td>\n",
       "      <td>60.0</td>\n",
       "      <td>74.0</td>\n",
       "      <td>10.0</td>\n",
       "      <td>58.0</td>\n",
       "      <td>...</td>\n",
       "      <td>81.0</td>\n",
       "      <td>0.0</td>\n",
       "      <td>33.64</td>\n",
       "      <td>324.0</td>\n",
       "      <td>42.25</td>\n",
       "      <td>802816.0</td>\n",
       "      <td>0</td>\n",
       "      <td>1</td>\n",
       "      <td>0</td>\n",
       "      <td>0</td>\n",
       "    </tr>\n",
       "    <tr>\n",
       "      <th>4</th>\n",
       "      <td>2007-05-29</td>\n",
       "      <td>41.974089</td>\n",
       "      <td>-87.824812</td>\n",
       "      <td>4</td>\n",
       "      <td>0</td>\n",
       "      <td>88.0</td>\n",
       "      <td>60.0</td>\n",
       "      <td>74.0</td>\n",
       "      <td>10.0</td>\n",
       "      <td>58.0</td>\n",
       "      <td>...</td>\n",
       "      <td>81.0</td>\n",
       "      <td>0.0</td>\n",
       "      <td>33.64</td>\n",
       "      <td>324.0</td>\n",
       "      <td>42.25</td>\n",
       "      <td>802816.0</td>\n",
       "      <td>0</td>\n",
       "      <td>0</td>\n",
       "      <td>1</td>\n",
       "      <td>0</td>\n",
       "    </tr>\n",
       "  </tbody>\n",
       "</table>\n",
       "<p>5 rows × 36 columns</p>\n",
       "</div>"
      ],
      "text/plain": [
       "        date   latitude  longitude  nummosquitos  wnvpresent  tmax  tmin  \\\n",
       "0 2007-05-29  41.954690 -87.800991             1           0  88.0  60.0   \n",
       "1 2007-05-29  41.954690 -87.800991             1           0  88.0  60.0   \n",
       "2 2007-05-29  41.994991 -87.769279             1           0  88.0  60.0   \n",
       "3 2007-05-29  41.974089 -87.824812             1           0  88.0  60.0   \n",
       "4 2007-05-29  41.974089 -87.824812             4           0  88.0  60.0   \n",
       "\n",
       "   tavg  depart  dewpoint  ...  coolsq  preciptotalsq  resultspeedsq  \\\n",
       "0  74.0    10.0      58.0  ...    81.0            0.0          33.64   \n",
       "1  74.0    10.0      58.0  ...    81.0            0.0          33.64   \n",
       "2  74.0    10.0      58.0  ...    81.0            0.0          33.64   \n",
       "3  74.0    10.0      58.0  ...    81.0            0.0          33.64   \n",
       "4  74.0    10.0      58.0  ...    81.0            0.0          33.64   \n",
       "\n",
       "   resultdirsq  avgspeedsq  daylightminssq  species_CULEX PIPIENS  \\\n",
       "0        324.0       42.25        802816.0                      0   \n",
       "1        324.0       42.25        802816.0                      0   \n",
       "2        324.0       42.25        802816.0                      0   \n",
       "3        324.0       42.25        802816.0                      0   \n",
       "4        324.0       42.25        802816.0                      0   \n",
       "\n",
       "   species_CULEX PIPIENS/RESTUANS  species_CULEX RESTUANS  species_OTHERS  \n",
       "0                               1                       0               0  \n",
       "1                               0                       1               0  \n",
       "2                               0                       1               0  \n",
       "3                               1                       0               0  \n",
       "4                               0                       1               0  \n",
       "\n",
       "[5 rows x 36 columns]"
      ]
     },
     "execution_count": 32,
     "metadata": {},
     "output_type": "execute_result"
    }
   ],
   "source": [
    "train_merged.head()"
   ]
  },
  {
   "cell_type": "code",
   "execution_count": 33,
   "metadata": {
    "cell_id": "00051-f3b8d920-b019-4ae6-b108-144a150a8e33",
    "deepnote_cell_type": "code",
    "tags": []
   },
   "outputs": [],
   "source": [
    "# Export to CSV\n",
    "train_merged.to_csv('./data/train_merged.csv', index = False)\n",
    "test_merged.to_csv('./data/test_merged.csv', index = False)"
   ]
  }
 ],
 "metadata": {
  "deepnote": {
   "is_reactive": false
  },
  "deepnote_execution_queue": [],
  "deepnote_notebook_id": "1ad60ced-6cda-426f-827d-ddfc62002582",
  "kernelspec": {
   "display_name": "Python 3",
   "language": "python",
   "name": "python3"
  },
  "language_info": {
   "codemirror_mode": {
    "name": "ipython",
    "version": 3
   },
   "file_extension": ".py",
   "mimetype": "text/x-python",
   "name": "python",
   "nbconvert_exporter": "python",
   "pygments_lexer": "ipython3",
   "version": "3.8.5"
  }
 },
 "nbformat": 4,
 "nbformat_minor": 2
}
