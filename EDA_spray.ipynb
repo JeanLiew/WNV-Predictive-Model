{
  "cells": [
    {
      "cell_type": "code",
      "source": "# !pip install descartes\n# !pip install geopandas\n# !pip install pyreadr==0.4.1",
      "metadata": {
        "tags": [],
        "cell_id": "00000-b5def3f4-dd9b-44fa-a1fd-af40b425bef5",
        "deepnote_to_be_reexecuted": false,
        "source_hash": "94fc52e5",
        "execution_start": 1620100061400,
        "execution_millis": 1,
        "deepnote_cell_type": "code"
      },
      "outputs": [],
      "execution_count": 9
    },
    {
      "cell_type": "code",
      "source": "",
      "metadata": {
        "tags": [],
        "cell_id": "00001-0802185a-c49b-44e8-b3f2-0a66af736bfe",
        "deepnote_to_be_reexecuted": false,
        "source_hash": "eeef0880",
        "execution_start": 1620100042420,
        "execution_millis": 2981,
        "deepnote_cell_type": "code"
      },
      "outputs": [
        {
          "name": "stdout",
          "text": "Collecting pyreadr==0.4.1\n  Downloading pyreadr-0.4.1-cp37-cp37m-manylinux2014_x86_64.whl (410 kB)\n\u001b[K     |████████████████████████████████| 410 kB 24.2 MB/s \n\u001b[?25hRequirement already satisfied: pandas>0.24.0 in /shared-libs/python3.7/py/lib/python3.7/site-packages (from pyreadr==0.4.1) (1.2.4)\nRequirement already satisfied: numpy>=1.16.5 in /shared-libs/python3.7/py/lib/python3.7/site-packages (from pandas>0.24.0->pyreadr==0.4.1) (1.19.5)\nRequirement already satisfied: python-dateutil>=2.7.3 in /shared-libs/python3.7/py-core/lib/python3.7/site-packages (from pandas>0.24.0->pyreadr==0.4.1) (2.8.1)\nRequirement already satisfied: pytz>=2017.3 in /shared-libs/python3.7/py/lib/python3.7/site-packages (from pandas>0.24.0->pyreadr==0.4.1) (2021.1)\nRequirement already satisfied: six>=1.5 in /shared-libs/python3.7/py-core/lib/python3.7/site-packages (from python-dateutil>=2.7.3->pandas>0.24.0->pyreadr==0.4.1) (1.15.0)\nInstalling collected packages: pyreadr\nSuccessfully installed pyreadr-0.4.1\n\u001b[33mWARNING: You are using pip version 21.0.1; however, version 21.1.1 is available.\nYou should consider upgrading via the '/root/venv/bin/python -m pip install --upgrade pip' command.\u001b[0m\n",
          "output_type": "stream"
        }
      ],
      "execution_count": 7
    },
    {
      "cell_type": "code",
      "metadata": {
        "tags": [],
        "cell_id": "00000-9e8f2efc-9bb5-4201-9ccc-8626e5ed8696",
        "deepnote_to_be_reexecuted": false,
        "source_hash": "23bd635f",
        "execution_start": 1620100049635,
        "execution_millis": 11,
        "deepnote_cell_type": "code"
      },
      "source": "# Load libs\nimport pandas as pd\nimport numpy as np\nimport matplotlib.pyplot as plt\n\nimport descartes\nimport geopandas as gpd\nfrom shapely.geometry import Point, Polygon\nimport pyreadr",
      "execution_count": 8,
      "outputs": []
    },
    {
      "cell_type": "code",
      "metadata": {
        "tags": [],
        "cell_id": "00001-dd33ead2-53db-435f-bf23-c01096268703",
        "deepnote_to_be_reexecuted": false,
        "source_hash": "16fb07f5",
        "execution_start": 1620100063656,
        "execution_millis": 109,
        "deepnote_cell_type": "code"
      },
      "source": "chicago_map = gpd.read_file('./data/chicago/chicago.shp')",
      "execution_count": 10,
      "outputs": []
    },
    {
      "cell_type": "code",
      "metadata": {
        "tags": [],
        "cell_id": "00001-b482a92d-f7c3-4a91-a5ec-f3623eab59e3",
        "deepnote_to_be_reexecuted": false,
        "source_hash": "7090a0db",
        "execution_start": 1620102826221,
        "execution_millis": 7,
        "deepnote_cell_type": "code"
      },
      "source": "# Load spray.csv\nspray = pd.read_csv('./data/clean_spray.csv')\ntrain = pd.read_csv('./data/clean_train.csv')",
      "execution_count": 100,
      "outputs": []
    },
    {
      "cell_type": "code",
      "metadata": {
        "tags": [],
        "cell_id": "00003-644ba8cb-8d08-40d1-bd11-0d4b217c8262",
        "deepnote_to_be_reexecuted": false,
        "source_hash": "b623e53d",
        "execution_start": 1620102827263,
        "execution_millis": 2,
        "deepnote_cell_type": "code"
      },
      "source": "",
      "execution_count": 100,
      "outputs": []
    },
    {
      "cell_type": "code",
      "metadata": {
        "tags": [],
        "cell_id": "00004-7c5a8862-08c5-45dc-b879-67612118ddce",
        "deepnote_to_be_reexecuted": false,
        "source_hash": "9813b833",
        "execution_start": 1620102827755,
        "execution_millis": 35,
        "deepnote_cell_type": "code"
      },
      "source": "spray['year'] = spray['year'].apply(str)\nspray['month'] = spray['month'].apply(str)\nspray['day'] = spray['day'].apply(str)\nspray['month'] = spray['month'].replace(['5','6','7','8','9','10'],['05','06','07','08','09','10'])",
      "execution_count": 101,
      "outputs": []
    },
    {
      "cell_type": "code",
      "metadata": {
        "tags": [],
        "cell_id": "00005-43e9681a-337b-4ad4-98ef-c0eb65fd5334",
        "deepnote_to_be_reexecuted": false,
        "source_hash": "4daa6e30",
        "execution_start": 1620102829442,
        "execution_millis": 11,
        "deepnote_cell_type": "code"
      },
      "source": "def make_year(date):\n    return date.split('-')[0]\n#split the month of a date input\ndef make_month(date):\n    return date.split('-')[1]\n#split the day of a date input\ndef make_day(date):\n    return date.split('-')[2]\n\ndef lowercase_cols(columns):\n    return [column.lower() for column in columns]\n\n# Make time column\ndef set_time(time):\n    return \n\n\ndef clean_dates(df):\n    df['year'] = df.Date.apply(make_year)\n    df['month'] = df.Date.apply(make_month)\n    df['day'] = df.Date.apply(make_day)\n    df.drop(['Date',], axis = 1, inplace = True)\n    df.columns = lowercase_cols(df.columns)\n    return df\n",
      "execution_count": 102,
      "outputs": []
    },
    {
      "cell_type": "code",
      "metadata": {
        "tags": [],
        "cell_id": "00002-e0e11b00-52e6-4e1e-8217-08f89272c541",
        "deepnote_to_be_reexecuted": false,
        "source_hash": "fbccf448",
        "execution_start": 1620102830939,
        "execution_millis": 186,
        "deepnote_cell_type": "code"
      },
      "source": "clean_dates(train)",
      "execution_count": 103,
      "outputs": [
        {
          "output_type": "execute_result",
          "execution_count": 103,
          "data": {
            "application/vnd.deepnote.dataframe.v2+json": {
              "row_count": 10506,
              "column_count": 14,
              "columns": [
                {
                  "name": "address",
                  "dtype": "object",
                  "stats": {
                    "unique_count": 138,
                    "nan_count": 0,
                    "categories": [
                      {
                        "name": "ORD Terminal 5, O'Hare International Airport, Chicago, IL 60666, USA",
                        "count": 750
                      },
                      {
                        "name": "South Doty Avenue, Chicago, IL, USA",
                        "count": 542
                      },
                      {
                        "name": "136 others",
                        "count": 9214
                      }
                    ]
                  }
                },
                {
                  "name": "species",
                  "dtype": "object",
                  "stats": {
                    "unique_count": 7,
                    "nan_count": 0,
                    "categories": [
                      {
                        "name": "CULEX PIPIENS/RESTUANS",
                        "count": 4752
                      },
                      {
                        "name": "CULEX RESTUANS",
                        "count": 2740
                      },
                      {
                        "name": "5 others",
                        "count": 3014
                      }
                    ]
                  }
                },
                {
                  "name": "block",
                  "dtype": "int64",
                  "stats": {
                    "unique_count": 64,
                    "nan_count": 0,
                    "min": "10",
                    "max": "98",
                    "histogram": [
                      {
                        "bin_start": 10,
                        "bin_end": 18.8,
                        "count": 3943
                      },
                      {
                        "bin_start": 18.8,
                        "bin_end": 27.6,
                        "count": 969
                      },
                      {
                        "bin_start": 27.6,
                        "bin_end": 36.400000000000006,
                        "count": 739
                      },
                      {
                        "bin_start": 36.400000000000006,
                        "bin_end": 45.2,
                        "count": 1438
                      },
                      {
                        "bin_start": 45.2,
                        "bin_end": 54,
                        "count": 945
                      },
                      {
                        "bin_start": 54,
                        "bin_end": 62.800000000000004,
                        "count": 657
                      },
                      {
                        "bin_start": 62.800000000000004,
                        "bin_end": 71.60000000000001,
                        "count": 860
                      },
                      {
                        "bin_start": 71.60000000000001,
                        "bin_end": 80.4,
                        "count": 379
                      },
                      {
                        "bin_start": 80.4,
                        "bin_end": 89.2,
                        "count": 313
                      },
                      {
                        "bin_start": 89.2,
                        "bin_end": 98,
                        "count": 263
                      }
                    ]
                  }
                },
                {
                  "name": "street",
                  "dtype": "object",
                  "stats": {
                    "unique_count": 128,
                    "nan_count": 0,
                    "categories": [
                      {
                        "name": " W OHARE AIRPORT",
                        "count": 750
                      },
                      {
                        "name": " S DOTY AVE",
                        "count": 542
                      },
                      {
                        "name": "126 others",
                        "count": 9214
                      }
                    ]
                  }
                },
                {
                  "name": "trap",
                  "dtype": "object",
                  "stats": {
                    "unique_count": 136,
                    "nan_count": 0,
                    "categories": [
                      {
                        "name": "T900",
                        "count": 750
                      },
                      {
                        "name": "T115",
                        "count": 542
                      },
                      {
                        "name": "134 others",
                        "count": 9214
                      }
                    ]
                  }
                },
                {
                  "name": "addressnumberandstreet",
                  "dtype": "object",
                  "stats": {
                    "unique_count": 138,
                    "nan_count": 0,
                    "categories": [
                      {
                        "name": "1000  W OHARE AIRPORT, Chicago, IL",
                        "count": 750
                      },
                      {
                        "name": "1200  S DOTY AVE, Chicago, IL",
                        "count": 542
                      },
                      {
                        "name": "136 others",
                        "count": 9214
                      }
                    ]
                  }
                },
                {
                  "name": "latitude",
                  "dtype": "float64",
                  "stats": {
                    "unique_count": 138,
                    "nan_count": 0,
                    "min": "41.644612",
                    "max": "42.01743",
                    "histogram": [
                      {
                        "bin_start": 41.644612,
                        "bin_end": 41.681893800000005,
                        "count": 1135
                      },
                      {
                        "bin_start": 41.681893800000005,
                        "bin_end": 41.7191756,
                        "count": 690
                      },
                      {
                        "bin_start": 41.7191756,
                        "bin_end": 41.7564574,
                        "count": 1450
                      },
                      {
                        "bin_start": 41.7564574,
                        "bin_end": 41.7937392,
                        "count": 823
                      },
                      {
                        "bin_start": 41.7937392,
                        "bin_end": 41.831021,
                        "count": 991
                      },
                      {
                        "bin_start": 41.831021,
                        "bin_end": 41.8683028,
                        "count": 684
                      },
                      {
                        "bin_start": 41.8683028,
                        "bin_end": 41.9055846,
                        "count": 666
                      },
                      {
                        "bin_start": 41.9055846,
                        "bin_end": 41.9428664,
                        "count": 1048
                      },
                      {
                        "bin_start": 41.9428664,
                        "bin_end": 41.980148199999995,
                        "count": 2017
                      },
                      {
                        "bin_start": 41.980148199999995,
                        "bin_end": 42.01743,
                        "count": 1002
                      }
                    ]
                  }
                },
                {
                  "name": "longitude",
                  "dtype": "float64",
                  "stats": {
                    "unique_count": 138,
                    "nan_count": 0,
                    "min": "-87.930995",
                    "max": "-87.531635",
                    "histogram": [
                      {
                        "bin_start": -87.930995,
                        "bin_end": -87.891059,
                        "count": 140
                      },
                      {
                        "bin_start": -87.891059,
                        "bin_end": -87.851123,
                        "count": 830
                      },
                      {
                        "bin_start": -87.851123,
                        "bin_end": -87.81118699999999,
                        "count": 265
                      },
                      {
                        "bin_start": -87.81118699999999,
                        "bin_end": -87.77125099999999,
                        "count": 1144
                      },
                      {
                        "bin_start": -87.77125099999999,
                        "bin_end": -87.731315,
                        "count": 1148
                      },
                      {
                        "bin_start": -87.731315,
                        "bin_end": -87.691379,
                        "count": 1883
                      },
                      {
                        "bin_start": -87.691379,
                        "bin_end": -87.651443,
                        "count": 1832
                      },
                      {
                        "bin_start": -87.651443,
                        "bin_end": -87.61150699999999,
                        "count": 915
                      },
                      {
                        "bin_start": -87.61150699999999,
                        "bin_end": -87.57157099999999,
                        "count": 1365
                      },
                      {
                        "bin_start": -87.57157099999999,
                        "bin_end": -87.531635,
                        "count": 984
                      }
                    ]
                  }
                },
                {
                  "name": "addressaccuracy",
                  "dtype": "int64",
                  "stats": {
                    "unique_count": 4,
                    "nan_count": 0,
                    "min": "3",
                    "max": "9",
                    "histogram": [
                      {
                        "bin_start": 3,
                        "bin_end": 3.6,
                        "count": 91
                      },
                      {
                        "bin_start": 3.6,
                        "bin_end": 4.2,
                        "count": 0
                      },
                      {
                        "bin_start": 4.2,
                        "bin_end": 4.8,
                        "count": 0
                      },
                      {
                        "bin_start": 4.8,
                        "bin_end": 5.4,
                        "count": 1807
                      },
                      {
                        "bin_start": 5.4,
                        "bin_end": 6,
                        "count": 0
                      },
                      {
                        "bin_start": 6,
                        "bin_end": 6.6,
                        "count": 0
                      },
                      {
                        "bin_start": 6.6,
                        "bin_end": 7.2,
                        "count": 0
                      },
                      {
                        "bin_start": 7.2,
                        "bin_end": 7.8,
                        "count": 0
                      },
                      {
                        "bin_start": 7.8,
                        "bin_end": 8.399999999999999,
                        "count": 4628
                      },
                      {
                        "bin_start": 8.399999999999999,
                        "bin_end": 9,
                        "count": 3980
                      }
                    ]
                  }
                },
                {
                  "name": "nummosquitos",
                  "dtype": "int64"
                },
                {
                  "name": "wnvpresent",
                  "dtype": "int64"
                },
                {
                  "name": "year",
                  "dtype": "object"
                },
                {
                  "name": "month",
                  "dtype": "object"
                },
                {
                  "name": "day",
                  "dtype": "object"
                },
                {
                  "name": "_deepnote_index_column",
                  "dtype": "int64"
                }
              ],
              "rows_top": [
                {
                  "address": "4100 North Oak Park Avenue, Chicago, IL 60634, USA",
                  "species": "CULEX PIPIENS/RESTUANS",
                  "block": 41,
                  "street": " N OAK PARK AVE",
                  "trap": "T002",
                  "addressnumberandstreet": "4100  N OAK PARK AVE, Chicago, IL",
                  "latitude": 41.95469,
                  "longitude": -87.800991,
                  "addressaccuracy": 9,
                  "nummosquitos": 1,
                  "wnvpresent": 0,
                  "year": "2007",
                  "month": "05",
                  "day": "29",
                  "_deepnote_index_column": 0
                },
                {
                  "address": "4100 North Oak Park Avenue, Chicago, IL 60634, USA",
                  "species": "CULEX RESTUANS",
                  "block": 41,
                  "street": " N OAK PARK AVE",
                  "trap": "T002",
                  "addressnumberandstreet": "4100  N OAK PARK AVE, Chicago, IL",
                  "latitude": 41.95469,
                  "longitude": -87.800991,
                  "addressaccuracy": 9,
                  "nummosquitos": 1,
                  "wnvpresent": 0,
                  "year": "2007",
                  "month": "05",
                  "day": "29",
                  "_deepnote_index_column": 1
                },
                {
                  "address": "6200 North Mandell Avenue, Chicago, IL 60646, USA",
                  "species": "CULEX RESTUANS",
                  "block": 62,
                  "street": " N MANDELL AVE",
                  "trap": "T007",
                  "addressnumberandstreet": "6200  N MANDELL AVE, Chicago, IL",
                  "latitude": 41.994991,
                  "longitude": -87.769279,
                  "addressaccuracy": 9,
                  "nummosquitos": 1,
                  "wnvpresent": 0,
                  "year": "2007",
                  "month": "05",
                  "day": "29",
                  "_deepnote_index_column": 2
                },
                {
                  "address": "7900 West Foster Avenue, Chicago, IL 60656, USA",
                  "species": "CULEX PIPIENS/RESTUANS",
                  "block": 79,
                  "street": " W FOSTER AVE",
                  "trap": "T015",
                  "addressnumberandstreet": "7900  W FOSTER AVE, Chicago, IL",
                  "latitude": 41.974089,
                  "longitude": -87.824812,
                  "addressaccuracy": 8,
                  "nummosquitos": 1,
                  "wnvpresent": 0,
                  "year": "2007",
                  "month": "05",
                  "day": "29",
                  "_deepnote_index_column": 3
                },
                {
                  "address": "7900 West Foster Avenue, Chicago, IL 60656, USA",
                  "species": "CULEX RESTUANS",
                  "block": 79,
                  "street": " W FOSTER AVE",
                  "trap": "T015",
                  "addressnumberandstreet": "7900  W FOSTER AVE, Chicago, IL",
                  "latitude": 41.974089,
                  "longitude": -87.824812,
                  "addressaccuracy": 8,
                  "nummosquitos": 4,
                  "wnvpresent": 0,
                  "year": "2007",
                  "month": "05",
                  "day": "29",
                  "_deepnote_index_column": 4
                },
                {
                  "address": "1500 West Webster Avenue, Chicago, IL 60614, USA",
                  "species": "CULEX RESTUANS",
                  "block": 15,
                  "street": " W WEBSTER AVE",
                  "trap": "T045",
                  "addressnumberandstreet": "1500  W WEBSTER AVE, Chicago, IL",
                  "latitude": 41.9216,
                  "longitude": -87.666455,
                  "addressaccuracy": 8,
                  "nummosquitos": 2,
                  "wnvpresent": 0,
                  "year": "2007",
                  "month": "05",
                  "day": "29",
                  "_deepnote_index_column": 5
                },
                {
                  "address": "2500 West Grand Avenue, Chicago, IL 60654, USA",
                  "species": "CULEX RESTUANS",
                  "block": 25,
                  "street": " W GRAND AVE",
                  "trap": "T046",
                  "addressnumberandstreet": "2500  W GRAND AVE, Chicago, IL",
                  "latitude": 41.891118,
                  "longitude": -87.654491,
                  "addressaccuracy": 8,
                  "nummosquitos": 1,
                  "wnvpresent": 0,
                  "year": "2007",
                  "month": "05",
                  "day": "29",
                  "_deepnote_index_column": 6
                },
                {
                  "address": "1100 Roosevelt Road, Chicago, IL 60608, USA",
                  "species": "CULEX PIPIENS/RESTUANS",
                  "block": 11,
                  "street": " W ROOSEVELT",
                  "trap": "T048",
                  "addressnumberandstreet": "1100  W ROOSEVELT, Chicago, IL",
                  "latitude": 41.867108,
                  "longitude": -87.654224,
                  "addressaccuracy": 8,
                  "nummosquitos": 1,
                  "wnvpresent": 0,
                  "year": "2007",
                  "month": "05",
                  "day": "29",
                  "_deepnote_index_column": 7
                },
                {
                  "address": "1100 Roosevelt Road, Chicago, IL 60608, USA",
                  "species": "CULEX RESTUANS",
                  "block": 11,
                  "street": " W ROOSEVELT",
                  "trap": "T048",
                  "addressnumberandstreet": "1100  W ROOSEVELT, Chicago, IL",
                  "latitude": 41.867108,
                  "longitude": -87.654224,
                  "addressaccuracy": 8,
                  "nummosquitos": 2,
                  "wnvpresent": 0,
                  "year": "2007",
                  "month": "05",
                  "day": "29",
                  "_deepnote_index_column": 8
                },
                {
                  "address": "1100 West Chicago Avenue, Chicago, IL 60642, USA",
                  "species": "CULEX RESTUANS",
                  "block": 11,
                  "street": " W CHICAGO",
                  "trap": "T049",
                  "addressnumberandstreet": "1100  W CHICAGO, Chicago, IL",
                  "latitude": 41.896282,
                  "longitude": -87.655232,
                  "addressaccuracy": 8,
                  "nummosquitos": 1,
                  "wnvpresent": 0,
                  "year": "2007",
                  "month": "05",
                  "day": "29",
                  "_deepnote_index_column": 9
                },
                {
                  "address": "2100 North Stave Street, Chicago, IL 60647, USA",
                  "species": "CULEX PIPIENS/RESTUANS",
                  "block": 21,
                  "street": " N STAVE ST",
                  "trap": "T050",
                  "addressnumberandstreet": "2100  N STAVE ST, Chicago, IL",
                  "latitude": 41.919343,
                  "longitude": -87.694259,
                  "addressaccuracy": 8,
                  "nummosquitos": 1,
                  "wnvpresent": 0,
                  "year": "2007",
                  "month": "05",
                  "day": "29",
                  "_deepnote_index_column": 10
                },
                {
                  "address": "2200 North Cannon Drive, Chicago, IL 60614, USA",
                  "species": "CULEX PIPIENS/RESTUANS",
                  "block": 22,
                  "street": " N CANNON DR",
                  "trap": "T054",
                  "addressnumberandstreet": "2200  N CANNON DR, Chicago, IL",
                  "latitude": 41.921965,
                  "longitude": -87.632085,
                  "addressaccuracy": 8,
                  "nummosquitos": 2,
                  "wnvpresent": 0,
                  "year": "2007",
                  "month": "05",
                  "day": "29",
                  "_deepnote_index_column": 11
                },
                {
                  "address": "2200 North Cannon Drive, Chicago, IL 60614, USA",
                  "species": "CULEX RESTUANS",
                  "block": 22,
                  "street": " N CANNON DR",
                  "trap": "T054",
                  "addressnumberandstreet": "2200  N CANNON DR, Chicago, IL",
                  "latitude": 41.921965,
                  "longitude": -87.632085,
                  "addressaccuracy": 8,
                  "nummosquitos": 3,
                  "wnvpresent": 0,
                  "year": "2007",
                  "month": "05",
                  "day": "29",
                  "_deepnote_index_column": 12
                },
                {
                  "address": "2200 West 113th Street, Chicago, IL 60643, USA",
                  "species": "CULEX PIPIENS/RESTUANS",
                  "block": 22,
                  "street": " W 113TH ST",
                  "trap": "T086",
                  "addressnumberandstreet": "2200  W 113TH ST, Chicago, IL",
                  "latitude": 41.688324,
                  "longitude": -87.676709,
                  "addressaccuracy": 8,
                  "nummosquitos": 1,
                  "wnvpresent": 0,
                  "year": "2007",
                  "month": "05",
                  "day": "29",
                  "_deepnote_index_column": 13
                },
                {
                  "address": "2200 West 113th Street, Chicago, IL 60643, USA",
                  "species": "CULEX RESTUANS",
                  "block": 22,
                  "street": " W 113TH ST",
                  "trap": "T086",
                  "addressnumberandstreet": "2200  W 113TH ST, Chicago, IL",
                  "latitude": 41.688324,
                  "longitude": -87.676709,
                  "addressaccuracy": 8,
                  "nummosquitos": 1,
                  "wnvpresent": 0,
                  "year": "2007",
                  "month": "05",
                  "day": "29",
                  "_deepnote_index_column": 14
                },
                {
                  "address": "1100 South Peoria Street, Chicago, IL 60608, USA",
                  "species": "CULEX RESTUANS",
                  "block": 11,
                  "street": " S PEORIA ST",
                  "trap": "T091",
                  "addressnumberandstreet": "1100  S PEORIA ST, Chicago, IL",
                  "latitude": 41.862292,
                  "longitude": -87.64886,
                  "addressaccuracy": 8,
                  "nummosquitos": 1,
                  "wnvpresent": 0,
                  "year": "2007",
                  "month": "05",
                  "day": "29",
                  "_deepnote_index_column": 15
                },
                {
                  "address": "1700 West 95th Street, Chicago, IL 60643, USA",
                  "species": "CULEX RESTUANS",
                  "block": 17,
                  "street": " W 95TH ST",
                  "trap": "T094",
                  "addressnumberandstreet": "1700  W 95TH ST, Chicago, IL",
                  "latitude": 41.720848,
                  "longitude": -87.666014,
                  "addressaccuracy": 9,
                  "nummosquitos": 3,
                  "wnvpresent": 0,
                  "year": "2007",
                  "month": "05",
                  "day": "29",
                  "_deepnote_index_column": 16
                },
                {
                  "address": "2200 West 89th Street, Chicago, IL 60643, USA",
                  "species": "CULEX RESTUANS",
                  "block": 22,
                  "street": " W 89TH ST",
                  "trap": "T096",
                  "addressnumberandstreet": "2200  W 89TH ST, Chicago, IL",
                  "latitude": 41.731922,
                  "longitude": -87.677512,
                  "addressaccuracy": 8,
                  "nummosquitos": 5,
                  "wnvpresent": 0,
                  "year": "2007",
                  "month": "05",
                  "day": "29",
                  "_deepnote_index_column": 17
                },
                {
                  "address": "2200 West 89th Street, Chicago, IL 60643, USA",
                  "species": "CULEX PIPIENS",
                  "block": 22,
                  "street": " W 89TH ST",
                  "trap": "T096",
                  "addressnumberandstreet": "2200  W 89TH ST, Chicago, IL",
                  "latitude": 41.731922,
                  "longitude": -87.677512,
                  "addressaccuracy": 8,
                  "nummosquitos": 1,
                  "wnvpresent": 0,
                  "year": "2007",
                  "month": "05",
                  "day": "29",
                  "_deepnote_index_column": 18
                },
                {
                  "address": "North Streeter Drive, Chicago, IL 60611, USA",
                  "species": "CULEX PIPIENS/RESTUANS",
                  "block": 53,
                  "street": " N STREETER DR",
                  "trap": "T129",
                  "addressnumberandstreet": "5300  N STREETER DR, Chicago, IL",
                  "latitude": 41.891126,
                  "longitude": -87.61156,
                  "addressaccuracy": 5,
                  "nummosquitos": 1,
                  "wnvpresent": 0,
                  "year": "2007",
                  "month": "05",
                  "day": "29",
                  "_deepnote_index_column": 19
                },
                {
                  "address": "North Streeter Drive, Chicago, IL 60611, USA",
                  "species": "CULEX RESTUANS",
                  "block": 53,
                  "street": " N STREETER DR",
                  "trap": "T129",
                  "addressnumberandstreet": "5300  N STREETER DR, Chicago, IL",
                  "latitude": 41.891126,
                  "longitude": -87.61156,
                  "addressaccuracy": 5,
                  "nummosquitos": 2,
                  "wnvpresent": 0,
                  "year": "2007",
                  "month": "05",
                  "day": "29",
                  "_deepnote_index_column": 20
                },
                {
                  "address": "6500 North Oak Park Avenue, Chicago, IL 60631, USA",
                  "species": "CULEX PIPIENS/RESTUANS",
                  "block": 65,
                  "street": " N OAK PARK AVE",
                  "trap": "T143",
                  "addressnumberandstreet": "6500  N OAK PARK AVE, Chicago, IL",
                  "latitude": 41.999129,
                  "longitude": -87.795585,
                  "addressaccuracy": 8,
                  "nummosquitos": 1,
                  "wnvpresent": 0,
                  "year": "2007",
                  "month": "05",
                  "day": "29",
                  "_deepnote_index_column": 21
                },
                {
                  "address": "7500 North Oakley Avenue, Chicago, IL 60645, USA",
                  "species": "CULEX PIPIENS/RESTUANS",
                  "block": 75,
                  "street": " N OAKLEY AVE",
                  "trap": "T148",
                  "addressnumberandstreet": "7500  N OAKLEY AVE, Chicago, IL",
                  "latitude": 42.01743,
                  "longitude": -87.687769,
                  "addressaccuracy": 8,
                  "nummosquitos": 1,
                  "wnvpresent": 0,
                  "year": "2007",
                  "month": "05",
                  "day": "29",
                  "_deepnote_index_column": 22
                },
                {
                  "address": "1500 North Long Avenue, Chicago, IL 60651, USA",
                  "species": "CULEX RESTUANS",
                  "block": 15,
                  "street": " N LONG AVE",
                  "trap": "T153",
                  "addressnumberandstreet": "1500  N LONG AVE, Chicago, IL",
                  "latitude": 41.907645,
                  "longitude": -87.760886,
                  "addressaccuracy": 8,
                  "nummosquitos": 1,
                  "wnvpresent": 0,
                  "year": "2007",
                  "month": "05",
                  "day": "29",
                  "_deepnote_index_column": 23
                },
                {
                  "address": "8900 South Carpenter Street, Chicago, IL 60620, USA",
                  "species": "CULEX RESTUANS",
                  "block": 89,
                  "street": " S CARPENTER ST",
                  "trap": "T159",
                  "addressnumberandstreet": "8900  S CARPENTER ST, Chicago, IL",
                  "latitude": 41.732984,
                  "longitude": -87.649642,
                  "addressaccuracy": 8,
                  "nummosquitos": 1,
                  "wnvpresent": 0,
                  "year": "2007",
                  "month": "05",
                  "day": "29",
                  "_deepnote_index_column": 24
                },
                {
                  "address": "4100 North Oak Park Avenue, Chicago, IL 60634, USA",
                  "species": "CULEX PIPIENS/RESTUANS",
                  "block": 41,
                  "street": " N OAK PARK AVE",
                  "trap": "T002",
                  "addressnumberandstreet": "4100  N OAK PARK AVE, Chicago, IL",
                  "latitude": 41.95469,
                  "longitude": -87.800991,
                  "addressaccuracy": 9,
                  "nummosquitos": 3,
                  "wnvpresent": 0,
                  "year": "2007",
                  "month": "06",
                  "day": "05",
                  "_deepnote_index_column": 25
                },
                {
                  "address": "4100 North Oak Park Avenue, Chicago, IL 60634, USA",
                  "species": "CULEX RESTUANS",
                  "block": 41,
                  "street": " N OAK PARK AVE",
                  "trap": "T002",
                  "addressnumberandstreet": "4100  N OAK PARK AVE, Chicago, IL",
                  "latitude": 41.95469,
                  "longitude": -87.800991,
                  "addressaccuracy": 9,
                  "nummosquitos": 5,
                  "wnvpresent": 0,
                  "year": "2007",
                  "month": "06",
                  "day": "05",
                  "_deepnote_index_column": 26
                },
                {
                  "address": "4100 North Oak Park Avenue, Chicago, IL 60634, USA",
                  "species": "CULEX PIPIENS",
                  "block": 41,
                  "street": " N OAK PARK AVE",
                  "trap": "T002",
                  "addressnumberandstreet": "4100  N OAK PARK AVE, Chicago, IL",
                  "latitude": 41.95469,
                  "longitude": -87.800991,
                  "addressaccuracy": 9,
                  "nummosquitos": 1,
                  "wnvpresent": 0,
                  "year": "2007",
                  "month": "06",
                  "day": "05",
                  "_deepnote_index_column": 27
                },
                {
                  "address": "7900 West Foster Avenue, Chicago, IL 60656, USA",
                  "species": "CULEX PIPIENS/RESTUANS",
                  "block": 79,
                  "street": " W FOSTER AVE",
                  "trap": "T015",
                  "addressnumberandstreet": "7900  W FOSTER AVE, Chicago, IL",
                  "latitude": 41.974089,
                  "longitude": -87.824812,
                  "addressaccuracy": 8,
                  "nummosquitos": 1,
                  "wnvpresent": 0,
                  "year": "2007",
                  "month": "06",
                  "day": "05",
                  "_deepnote_index_column": 28
                },
                {
                  "address": "7900 West Foster Avenue, Chicago, IL 60656, USA",
                  "species": "CULEX RESTUANS",
                  "block": 79,
                  "street": " W FOSTER AVE",
                  "trap": "T015",
                  "addressnumberandstreet": "7900  W FOSTER AVE, Chicago, IL",
                  "latitude": 41.974089,
                  "longitude": -87.824812,
                  "addressaccuracy": 8,
                  "nummosquitos": 2,
                  "wnvpresent": 0,
                  "year": "2007",
                  "month": "06",
                  "day": "05",
                  "_deepnote_index_column": 29
                },
                {
                  "address": "1500 West Webster Avenue, Chicago, IL 60614, USA",
                  "species": "CULEX PIPIENS/RESTUANS",
                  "block": 15,
                  "street": " W WEBSTER AVE",
                  "trap": "T045",
                  "addressnumberandstreet": "1500  W WEBSTER AVE, Chicago, IL",
                  "latitude": 41.9216,
                  "longitude": -87.666455,
                  "addressaccuracy": 8,
                  "nummosquitos": 1,
                  "wnvpresent": 0,
                  "year": "2007",
                  "month": "06",
                  "day": "05",
                  "_deepnote_index_column": 30
                },
                {
                  "address": "1500 West Webster Avenue, Chicago, IL 60614, USA",
                  "species": "CULEX RESTUANS",
                  "block": 15,
                  "street": " W WEBSTER AVE",
                  "trap": "T045",
                  "addressnumberandstreet": "1500  W WEBSTER AVE, Chicago, IL",
                  "latitude": 41.9216,
                  "longitude": -87.666455,
                  "addressaccuracy": 8,
                  "nummosquitos": 2,
                  "wnvpresent": 0,
                  "year": "2007",
                  "month": "06",
                  "day": "05",
                  "_deepnote_index_column": 31
                },
                {
                  "address": "1500 West Webster Avenue, Chicago, IL 60614, USA",
                  "species": "CULEX PIPIENS",
                  "block": 15,
                  "street": " W WEBSTER AVE",
                  "trap": "T045",
                  "addressnumberandstreet": "1500  W WEBSTER AVE, Chicago, IL",
                  "latitude": 41.9216,
                  "longitude": -87.666455,
                  "addressaccuracy": 8,
                  "nummosquitos": 1,
                  "wnvpresent": 0,
                  "year": "2007",
                  "month": "06",
                  "day": "05",
                  "_deepnote_index_column": 32
                },
                {
                  "address": "2500 West Grand Avenue, Chicago, IL 60654, USA",
                  "species": "CULEX RESTUANS",
                  "block": 25,
                  "street": " W GRAND AVE",
                  "trap": "T046",
                  "addressnumberandstreet": "2500  W GRAND AVE, Chicago, IL",
                  "latitude": 41.891118,
                  "longitude": -87.654491,
                  "addressaccuracy": 8,
                  "nummosquitos": 1,
                  "wnvpresent": 0,
                  "year": "2007",
                  "month": "06",
                  "day": "05",
                  "_deepnote_index_column": 33
                },
                {
                  "address": "1100 Roosevelt Road, Chicago, IL 60608, USA",
                  "species": "CULEX PIPIENS/RESTUANS",
                  "block": 11,
                  "street": " W ROOSEVELT",
                  "trap": "T048",
                  "addressnumberandstreet": "1100  W ROOSEVELT, Chicago, IL",
                  "latitude": 41.867108,
                  "longitude": -87.654224,
                  "addressaccuracy": 8,
                  "nummosquitos": 1,
                  "wnvpresent": 0,
                  "year": "2007",
                  "month": "06",
                  "day": "05",
                  "_deepnote_index_column": 34
                }
              ],
              "rows_bottom": [
                {
                  "address": "South Brandon Avenue, Chicago, IL 60617, USA",
                  "species": "CULEX PIPIENS",
                  "block": 13,
                  "street": " S BRANDON",
                  "trap": "T209",
                  "addressnumberandstreet": "1300  S BRANDON, Chicago, IL",
                  "latitude": 41.740641,
                  "longitude": -87.546587,
                  "addressaccuracy": 5,
                  "nummosquitos": 6,
                  "wnvpresent": 0,
                  "year": "2013",
                  "month": "09",
                  "day": "26",
                  "_deepnote_index_column": 10470
                },
                {
                  "address": "3700 118th Street, Chicago, IL 60617, USA",
                  "species": "CULEX PIPIENS/RESTUANS",
                  "block": 37,
                  "street": " E 118TH ST",
                  "trap": "T212",
                  "addressnumberandstreet": "3700  E 118TH ST, Chicago, IL",
                  "latitude": 41.680946,
                  "longitude": -87.535198,
                  "addressaccuracy": 8,
                  "nummosquitos": 1,
                  "wnvpresent": 0,
                  "year": "2013",
                  "month": "09",
                  "day": "26",
                  "_deepnote_index_column": 10471
                },
                {
                  "address": "3700 118th Street, Chicago, IL 60617, USA",
                  "species": "CULEX PIPIENS",
                  "block": 37,
                  "street": " E 118TH ST",
                  "trap": "T212",
                  "addressnumberandstreet": "3700  E 118TH ST, Chicago, IL",
                  "latitude": 41.680946,
                  "longitude": -87.535198,
                  "addressaccuracy": 8,
                  "nummosquitos": 2,
                  "wnvpresent": 0,
                  "year": "2013",
                  "month": "09",
                  "day": "26",
                  "_deepnote_index_column": 10472
                },
                {
                  "address": "2400 East 105th Street, Chicago, IL 60617, USA",
                  "species": "CULEX PIPIENS/RESTUANS",
                  "block": 24,
                  "street": " E 105TH ST",
                  "trap": "T128",
                  "addressnumberandstreet": "2400  E 105TH ST, Chicago, IL",
                  "latitude": 41.704572,
                  "longitude": -87.565666,
                  "addressaccuracy": 8,
                  "nummosquitos": 5,
                  "wnvpresent": 0,
                  "year": "2013",
                  "month": "09",
                  "day": "26",
                  "_deepnote_index_column": 10473
                },
                {
                  "address": "2400 East 105th Street, Chicago, IL 60617, USA",
                  "species": "CULEX PIPIENS",
                  "block": 24,
                  "street": " E 105TH ST",
                  "trap": "T128",
                  "addressnumberandstreet": "2400  E 105TH ST, Chicago, IL",
                  "latitude": 41.704572,
                  "longitude": -87.565666,
                  "addressaccuracy": 8,
                  "nummosquitos": 6,
                  "wnvpresent": 0,
                  "year": "2013",
                  "month": "09",
                  "day": "26",
                  "_deepnote_index_column": 10474
                },
                {
                  "address": "8900 South Muskegon Avenue, Chicago, IL 60617, USA",
                  "species": "CULEX PIPIENS/RESTUANS",
                  "block": 89,
                  "street": " S MUSKEGON AVE",
                  "trap": "T099",
                  "addressnumberandstreet": "8900  S MUSKEGON AVE, Chicago, IL",
                  "latitude": 41.733643,
                  "longitude": -87.55551,
                  "addressaccuracy": 8,
                  "nummosquitos": 5,
                  "wnvpresent": 0,
                  "year": "2013",
                  "month": "09",
                  "day": "26",
                  "_deepnote_index_column": 10475
                },
                {
                  "address": "South Cottage Grove Avenue, Chicago, IL, USA",
                  "species": "CULEX PIPIENS/RESTUANS",
                  "block": 10,
                  "street": " S COTTAGE GROVE",
                  "trap": "T102",
                  "addressnumberandstreet": "1000  S COTTAGE GROVE, Chicago, IL",
                  "latitude": 41.750498,
                  "longitude": -87.605294,
                  "addressaccuracy": 5,
                  "nummosquitos": 2,
                  "wnvpresent": 0,
                  "year": "2013",
                  "month": "09",
                  "day": "26",
                  "_deepnote_index_column": 10476
                },
                {
                  "address": "South Cottage Grove Avenue, Chicago, IL, USA",
                  "species": "CULEX RESTUANS",
                  "block": 10,
                  "street": " S COTTAGE GROVE",
                  "trap": "T102",
                  "addressnumberandstreet": "1000  S COTTAGE GROVE, Chicago, IL",
                  "latitude": 41.750498,
                  "longitude": -87.605294,
                  "addressaccuracy": 5,
                  "nummosquitos": 1,
                  "wnvpresent": 0,
                  "year": "2013",
                  "month": "09",
                  "day": "26",
                  "_deepnote_index_column": 10477
                },
                {
                  "address": "South Cottage Grove Avenue, Chicago, IL, USA",
                  "species": "CULEX PIPIENS",
                  "block": 10,
                  "street": " S COTTAGE GROVE",
                  "trap": "T102",
                  "addressnumberandstreet": "1000  S COTTAGE GROVE, Chicago, IL",
                  "latitude": 41.750498,
                  "longitude": -87.605294,
                  "addressaccuracy": 5,
                  "nummosquitos": 1,
                  "wnvpresent": 0,
                  "year": "2013",
                  "month": "09",
                  "day": "26",
                  "_deepnote_index_column": 10478
                },
                {
                  "address": "5800 North Pulaski Road, Chicago, IL 60646, USA",
                  "species": "CULEX PIPIENS",
                  "block": 58,
                  "street": " N PULASKI RD",
                  "trap": "T027",
                  "addressnumberandstreet": "5800  N PULASKI RD, Chicago, IL",
                  "latitude": 41.984809,
                  "longitude": -87.728492,
                  "addressaccuracy": 8,
                  "nummosquitos": 5,
                  "wnvpresent": 0,
                  "year": "2013",
                  "month": "09",
                  "day": "26",
                  "_deepnote_index_column": 10479
                },
                {
                  "address": "4000 East 130th Street, Chicago, IL 60633, USA",
                  "species": "CULEX PIPIENS/RESTUANS",
                  "block": 40,
                  "street": " E 130TH ST",
                  "trap": "T221",
                  "addressnumberandstreet": "4000  E 130TH ST, Chicago, IL",
                  "latitude": 41.659112,
                  "longitude": -87.538693,
                  "addressaccuracy": 8,
                  "nummosquitos": 5,
                  "wnvpresent": 0,
                  "year": "2013",
                  "month": "09",
                  "day": "26",
                  "_deepnote_index_column": 10480
                },
                {
                  "address": "4000 East 130th Street, Chicago, IL 60633, USA",
                  "species": "CULEX RESTUANS",
                  "block": 40,
                  "street": " E 130TH ST",
                  "trap": "T221",
                  "addressnumberandstreet": "4000  E 130TH ST, Chicago, IL",
                  "latitude": 41.659112,
                  "longitude": -87.538693,
                  "addressaccuracy": 8,
                  "nummosquitos": 5,
                  "wnvpresent": 0,
                  "year": "2013",
                  "month": "09",
                  "day": "26",
                  "_deepnote_index_column": 10481
                },
                {
                  "address": "4000 East 130th Street, Chicago, IL 60633, USA",
                  "species": "CULEX PIPIENS",
                  "block": 40,
                  "street": " E 130TH ST",
                  "trap": "T221",
                  "addressnumberandstreet": "4000  E 130TH ST, Chicago, IL",
                  "latitude": 41.659112,
                  "longitude": -87.538693,
                  "addressaccuracy": 8,
                  "nummosquitos": 4,
                  "wnvpresent": 0,
                  "year": "2013",
                  "month": "09",
                  "day": "26",
                  "_deepnote_index_column": 10482
                },
                {
                  "address": "9100 West Higgins Road, Rosemont, IL 60018, USA",
                  "species": "CULEX RESTUANS",
                  "block": 91,
                  "street": " W HIGGINS RD",
                  "trap": "T009",
                  "addressnumberandstreet": "9100  W HIGGINS RD, Chicago, IL",
                  "latitude": 41.992478,
                  "longitude": -87.862995,
                  "addressaccuracy": 8,
                  "nummosquitos": 1,
                  "wnvpresent": 0,
                  "year": "2013",
                  "month": "09",
                  "day": "26",
                  "_deepnote_index_column": 10483
                },
                {
                  "address": "ORD Terminal 5, O'Hare International Airport, Chicago, IL 60666, USA",
                  "species": "CULEX PIPIENS/RESTUANS",
                  "block": 10,
                  "street": " W OHARE AIRPORT",
                  "trap": "T900",
                  "addressnumberandstreet": "1000  W OHARE AIRPORT, Chicago, IL",
                  "latitude": 41.974689,
                  "longitude": -87.890615,
                  "addressaccuracy": 9,
                  "nummosquitos": 39,
                  "wnvpresent": 1,
                  "year": "2013",
                  "month": "09",
                  "day": "26",
                  "_deepnote_index_column": 10484
                },
                {
                  "address": "ORD Terminal 5, O'Hare International Airport, Chicago, IL 60666, USA",
                  "species": "CULEX PIPIENS/RESTUANS",
                  "block": 10,
                  "street": " W OHARE AIRPORT",
                  "trap": "T900",
                  "addressnumberandstreet": "1000  W OHARE AIRPORT, Chicago, IL",
                  "latitude": 41.974689,
                  "longitude": -87.890615,
                  "addressaccuracy": 9,
                  "nummosquitos": 4,
                  "wnvpresent": 0,
                  "year": "2013",
                  "month": "09",
                  "day": "26",
                  "_deepnote_index_column": 10485
                },
                {
                  "address": "ORD Terminal 5, O'Hare International Airport, Chicago, IL 60666, USA",
                  "species": "CULEX PIPIENS",
                  "block": 10,
                  "street": " W OHARE AIRPORT",
                  "trap": "T900",
                  "addressnumberandstreet": "1000  W OHARE AIRPORT, Chicago, IL",
                  "latitude": 41.974689,
                  "longitude": -87.890615,
                  "addressaccuracy": 9,
                  "nummosquitos": 16,
                  "wnvpresent": 0,
                  "year": "2013",
                  "month": "09",
                  "day": "26",
                  "_deepnote_index_column": 10486
                },
                {
                  "address": "ORD Terminal 5, O'Hare International Airport, Chicago, IL 60666, USA",
                  "species": "CULEX PIPIENS",
                  "block": 10,
                  "street": " W OHARE AIRPORT",
                  "trap": "T900",
                  "addressnumberandstreet": "1000  W OHARE AIRPORT, Chicago, IL",
                  "latitude": 41.974689,
                  "longitude": -87.890615,
                  "addressaccuracy": 9,
                  "nummosquitos": 9,
                  "wnvpresent": 0,
                  "year": "2013",
                  "month": "09",
                  "day": "26",
                  "_deepnote_index_column": 10487
                },
                {
                  "address": "ORD Terminal 5, O'Hare International Airport, Chicago, IL 60666, USA",
                  "species": "CULEX PIPIENS",
                  "block": 10,
                  "street": " W OHARE AIRPORT",
                  "trap": "T900",
                  "addressnumberandstreet": "1000  W OHARE AIRPORT, Chicago, IL",
                  "latitude": 41.974689,
                  "longitude": -87.890615,
                  "addressaccuracy": 9,
                  "nummosquitos": 11,
                  "wnvpresent": 0,
                  "year": "2013",
                  "month": "09",
                  "day": "26",
                  "_deepnote_index_column": 10488
                },
                {
                  "address": "ORD Terminal 5, O'Hare International Airport, Chicago, IL 60666, USA",
                  "species": "CULEX PIPIENS",
                  "block": 10,
                  "street": " W OHARE AIRPORT",
                  "trap": "T900",
                  "addressnumberandstreet": "1000  W OHARE AIRPORT, Chicago, IL",
                  "latitude": 41.974689,
                  "longitude": -87.890615,
                  "addressaccuracy": 9,
                  "nummosquitos": 1,
                  "wnvpresent": 0,
                  "year": "2013",
                  "month": "09",
                  "day": "26",
                  "_deepnote_index_column": 10489
                },
                {
                  "address": "4800 West Montana Street, Chicago, IL 60639, USA",
                  "species": "CULEX PIPIENS/RESTUANS",
                  "block": 48,
                  "street": " W MONTANA ST",
                  "trap": "T222",
                  "addressnumberandstreet": "4800  W MONTANA ST, Chicago, IL",
                  "latitude": 41.925198,
                  "longitude": -87.746381,
                  "addressaccuracy": 8,
                  "nummosquitos": 1,
                  "wnvpresent": 0,
                  "year": "2013",
                  "month": "09",
                  "day": "26",
                  "_deepnote_index_column": 10490
                },
                {
                  "address": "5100 North Mont Clare Avenue, Chicago, IL 60656, USA",
                  "species": "CULEX PIPIENS/RESTUANS",
                  "block": 51,
                  "street": " N MONT CLARE AVE",
                  "trap": "T223",
                  "addressnumberandstreet": "5100  N MONT CLARE AVE, Chicago, IL",
                  "latitude": 41.973845,
                  "longitude": -87.805059,
                  "addressaccuracy": 9,
                  "nummosquitos": 11,
                  "wnvpresent": 0,
                  "year": "2013",
                  "month": "09",
                  "day": "26",
                  "_deepnote_index_column": 10491
                },
                {
                  "address": "5100 North Mont Clare Avenue, Chicago, IL 60656, USA",
                  "species": "CULEX PIPIENS",
                  "block": 51,
                  "street": " N MONT CLARE AVE",
                  "trap": "T223",
                  "addressnumberandstreet": "5100  N MONT CLARE AVE, Chicago, IL",
                  "latitude": 41.973845,
                  "longitude": -87.805059,
                  "addressaccuracy": 9,
                  "nummosquitos": 1,
                  "wnvpresent": 0,
                  "year": "2013",
                  "month": "09",
                  "day": "26",
                  "_deepnote_index_column": 10492
                },
                {
                  "address": "8200 South Kostner Avenue, Chicago, IL 60652, USA",
                  "species": "CULEX PIPIENS/RESTUANS",
                  "block": 82,
                  "street": " S KOSTNER AVE",
                  "trap": "T225",
                  "addressnumberandstreet": "8200  S KOSTNER AVE, Chicago, IL",
                  "latitude": 41.743402,
                  "longitude": -87.731435,
                  "addressaccuracy": 8,
                  "nummosquitos": 3,
                  "wnvpresent": 0,
                  "year": "2013",
                  "month": "09",
                  "day": "26",
                  "_deepnote_index_column": 10493
                },
                {
                  "address": "East 91st Place, Chicago, IL, USA",
                  "species": "CULEX PIPIENS/RESTUANS",
                  "block": 65,
                  "street": " E 91ST PL",
                  "trap": "T227",
                  "addressnumberandstreet": "6500  E 91ST PL, Chicago, IL",
                  "latitude": 41.728495,
                  "longitude": -87.600963,
                  "addressaccuracy": 5,
                  "nummosquitos": 7,
                  "wnvpresent": 0,
                  "year": "2013",
                  "month": "09",
                  "day": "26",
                  "_deepnote_index_column": 10494
                },
                {
                  "address": "East 91st Place, Chicago, IL, USA",
                  "species": "CULEX PIPIENS",
                  "block": 65,
                  "street": " E 91ST PL",
                  "trap": "T227",
                  "addressnumberandstreet": "6500  E 91ST PL, Chicago, IL",
                  "latitude": 41.728495,
                  "longitude": -87.600963,
                  "addressaccuracy": 5,
                  "nummosquitos": 1,
                  "wnvpresent": 0,
                  "year": "2013",
                  "month": "09",
                  "day": "26",
                  "_deepnote_index_column": 10495
                },
                {
                  "address": "1700 West Addison Street, Chicago, IL 60613, USA",
                  "species": "CULEX PIPIENS/RESTUANS",
                  "block": 17,
                  "street": " W ADDISON ST",
                  "trap": "T224",
                  "addressnumberandstreet": "1700  W ADDISON ST, Chicago, IL",
                  "latitude": 41.947227,
                  "longitude": -87.671457,
                  "addressaccuracy": 9,
                  "nummosquitos": 3,
                  "wnvpresent": 0,
                  "year": "2013",
                  "month": "09",
                  "day": "26",
                  "_deepnote_index_column": 10496
                },
                {
                  "address": "West Garfield Boulevard, Chicago, IL, USA",
                  "species": "CULEX PIPIENS/RESTUANS",
                  "block": 90,
                  "street": " W GARFIELD BLVD",
                  "trap": "T226",
                  "addressnumberandstreet": "9000  W GARFIELD BLVD, Chicago, IL",
                  "latitude": 41.793818,
                  "longitude": -87.654234,
                  "addressaccuracy": 5,
                  "nummosquitos": 8,
                  "wnvpresent": 0,
                  "year": "2013",
                  "month": "09",
                  "day": "26",
                  "_deepnote_index_column": 10497
                },
                {
                  "address": "1300 North Laramie Avenue, Chicago, IL 60651, USA",
                  "species": "CULEX PIPIENS/RESTUANS",
                  "block": 13,
                  "street": " N LARAMIE AVE",
                  "trap": "T230",
                  "addressnumberandstreet": "1300  N LARAMIE AVE, Chicago, IL",
                  "latitude": 41.904194,
                  "longitude": -87.756155,
                  "addressaccuracy": 9,
                  "nummosquitos": 13,
                  "wnvpresent": 0,
                  "year": "2013",
                  "month": "09",
                  "day": "26",
                  "_deepnote_index_column": 10498
                },
                {
                  "address": "1300 North Laramie Avenue, Chicago, IL 60651, USA",
                  "species": "CULEX PIPIENS",
                  "block": 13,
                  "street": " N LARAMIE AVE",
                  "trap": "T230",
                  "addressnumberandstreet": "1300  N LARAMIE AVE, Chicago, IL",
                  "latitude": 41.904194,
                  "longitude": -87.756155,
                  "addressaccuracy": 9,
                  "nummosquitos": 5,
                  "wnvpresent": 0,
                  "year": "2013",
                  "month": "09",
                  "day": "26",
                  "_deepnote_index_column": 10499
                },
                {
                  "address": "3900 North Springfield Avenue, Chicago, IL 60618, USA",
                  "species": "CULEX PIPIENS/RESTUANS",
                  "block": 39,
                  "street": " N SPRINGFIELD AVE",
                  "trap": "T228",
                  "addressnumberandstreet": "3900  N SPRINGFIELD AVE, Chicago, IL",
                  "latitude": 41.951866,
                  "longitude": -87.725057,
                  "addressaccuracy": 8,
                  "nummosquitos": 3,
                  "wnvpresent": 0,
                  "year": "2013",
                  "month": "09",
                  "day": "26",
                  "_deepnote_index_column": 10500
                },
                {
                  "address": "5100 West 72nd Street, Chicago, IL 60638, USA",
                  "species": "CULEX PIPIENS/RESTUANS",
                  "block": 51,
                  "street": " W 72ND ST",
                  "trap": "T035",
                  "addressnumberandstreet": "5100  W 72ND ST, Chicago, IL",
                  "latitude": 41.763733,
                  "longitude": -87.742302,
                  "addressaccuracy": 8,
                  "nummosquitos": 6,
                  "wnvpresent": 1,
                  "year": "2013",
                  "month": "09",
                  "day": "26",
                  "_deepnote_index_column": 10501
                },
                {
                  "address": "5800 North Ridge Avenue, Chicago, IL 60660, USA",
                  "species": "CULEX PIPIENS/RESTUANS",
                  "block": 58,
                  "street": " N RIDGE AVE",
                  "trap": "T231",
                  "addressnumberandstreet": "5800  N RIDGE AVE, Chicago, IL",
                  "latitude": 41.98728,
                  "longitude": -87.666066,
                  "addressaccuracy": 8,
                  "nummosquitos": 5,
                  "wnvpresent": 0,
                  "year": "2013",
                  "month": "09",
                  "day": "26",
                  "_deepnote_index_column": 10502
                },
                {
                  "address": "1700 North Ashland Avenue, Chicago, IL 60622, USA",
                  "species": "CULEX PIPIENS/RESTUANS",
                  "block": 17,
                  "street": " N ASHLAND AVE",
                  "trap": "T232",
                  "addressnumberandstreet": "1700  N ASHLAND AVE, Chicago, IL",
                  "latitude": 41.912563,
                  "longitude": -87.668055,
                  "addressaccuracy": 9,
                  "nummosquitos": 1,
                  "wnvpresent": 0,
                  "year": "2013",
                  "month": "09",
                  "day": "26",
                  "_deepnote_index_column": 10503
                },
                {
                  "address": "7100 North Harlem Avenue, Chicago, IL 60631, USA",
                  "species": "CULEX PIPIENS/RESTUANS",
                  "block": 71,
                  "street": " N HARLEM AVE",
                  "trap": "T233",
                  "addressnumberandstreet": "7100  N HARLEM AVE, Chicago, IL",
                  "latitude": 42.009876,
                  "longitude": -87.807277,
                  "addressaccuracy": 9,
                  "nummosquitos": 5,
                  "wnvpresent": 0,
                  "year": "2013",
                  "month": "09",
                  "day": "26",
                  "_deepnote_index_column": 10504
                },
                {
                  "address": "4200 West 65th Street, Chicago, IL 60621, USA",
                  "species": "CULEX PIPIENS/RESTUANS",
                  "block": 42,
                  "street": " W 65TH ST",
                  "trap": "T235",
                  "addressnumberandstreet": "4200  W 65TH ST, Chicago, IL",
                  "latitude": 41.776428,
                  "longitude": -87.627096,
                  "addressaccuracy": 8,
                  "nummosquitos": 1,
                  "wnvpresent": 0,
                  "year": "2013",
                  "month": "09",
                  "day": "26",
                  "_deepnote_index_column": 10505
                }
              ]
            },
            "text/plain": "                                                 address  \\\n0      4100 North Oak Park Avenue, Chicago, IL 60634,...   \n1      4100 North Oak Park Avenue, Chicago, IL 60634,...   \n2      6200 North Mandell Avenue, Chicago, IL 60646, USA   \n3        7900 West Foster Avenue, Chicago, IL 60656, USA   \n4        7900 West Foster Avenue, Chicago, IL 60656, USA   \n...                                                  ...   \n10501      5100 West 72nd Street, Chicago, IL 60638, USA   \n10502    5800 North Ridge Avenue, Chicago, IL 60660, USA   \n10503  1700 North Ashland Avenue, Chicago, IL 60622, USA   \n10504   7100 North Harlem Avenue, Chicago, IL 60631, USA   \n10505      4200 West 65th Street, Chicago, IL 60621, USA   \n\n                      species  block           street  trap  \\\n0      CULEX PIPIENS/RESTUANS     41   N OAK PARK AVE  T002   \n1              CULEX RESTUANS     41   N OAK PARK AVE  T002   \n2              CULEX RESTUANS     62    N MANDELL AVE  T007   \n3      CULEX PIPIENS/RESTUANS     79     W FOSTER AVE  T015   \n4              CULEX RESTUANS     79     W FOSTER AVE  T015   \n...                       ...    ...              ...   ...   \n10501  CULEX PIPIENS/RESTUANS     51        W 72ND ST  T035   \n10502  CULEX PIPIENS/RESTUANS     58      N RIDGE AVE  T231   \n10503  CULEX PIPIENS/RESTUANS     17    N ASHLAND AVE  T232   \n10504  CULEX PIPIENS/RESTUANS     71     N HARLEM AVE  T233   \n10505  CULEX PIPIENS/RESTUANS     42        W 65TH ST  T235   \n\n                  addressnumberandstreet   latitude  longitude  \\\n0      4100  N OAK PARK AVE, Chicago, IL  41.954690 -87.800991   \n1      4100  N OAK PARK AVE, Chicago, IL  41.954690 -87.800991   \n2       6200  N MANDELL AVE, Chicago, IL  41.994991 -87.769279   \n3        7900  W FOSTER AVE, Chicago, IL  41.974089 -87.824812   \n4        7900  W FOSTER AVE, Chicago, IL  41.974089 -87.824812   \n...                                  ...        ...        ...   \n10501       5100  W 72ND ST, Chicago, IL  41.763733 -87.742302   \n10502     5800  N RIDGE AVE, Chicago, IL  41.987280 -87.666066   \n10503   1700  N ASHLAND AVE, Chicago, IL  41.912563 -87.668055   \n10504    7100  N HARLEM AVE, Chicago, IL  42.009876 -87.807277   \n10505       4200  W 65TH ST, Chicago, IL  41.776428 -87.627096   \n\n       addressaccuracy  nummosquitos  wnvpresent  year month day  \n0                    9             1           0  2007    05  29  \n1                    9             1           0  2007    05  29  \n2                    9             1           0  2007    05  29  \n3                    8             1           0  2007    05  29  \n4                    8             4           0  2007    05  29  \n...                ...           ...         ...   ...   ...  ..  \n10501                8             6           1  2013    09  26  \n10502                8             5           0  2013    09  26  \n10503                9             1           0  2013    09  26  \n10504                9             5           0  2013    09  26  \n10505                8             1           0  2013    09  26  \n\n[10506 rows x 14 columns]",
            "text/html": "<div>\n<style scoped>\n    .dataframe tbody tr th:only-of-type {\n        vertical-align: middle;\n    }\n\n    .dataframe tbody tr th {\n        vertical-align: top;\n    }\n\n    .dataframe thead th {\n        text-align: right;\n    }\n</style>\n<table border=\"1\" class=\"dataframe\">\n  <thead>\n    <tr style=\"text-align: right;\">\n      <th></th>\n      <th>address</th>\n      <th>species</th>\n      <th>block</th>\n      <th>street</th>\n      <th>trap</th>\n      <th>addressnumberandstreet</th>\n      <th>latitude</th>\n      <th>longitude</th>\n      <th>addressaccuracy</th>\n      <th>nummosquitos</th>\n      <th>wnvpresent</th>\n      <th>year</th>\n      <th>month</th>\n      <th>day</th>\n    </tr>\n  </thead>\n  <tbody>\n    <tr>\n      <th>0</th>\n      <td>4100 North Oak Park Avenue, Chicago, IL 60634,...</td>\n      <td>CULEX PIPIENS/RESTUANS</td>\n      <td>41</td>\n      <td>N OAK PARK AVE</td>\n      <td>T002</td>\n      <td>4100  N OAK PARK AVE, Chicago, IL</td>\n      <td>41.954690</td>\n      <td>-87.800991</td>\n      <td>9</td>\n      <td>1</td>\n      <td>0</td>\n      <td>2007</td>\n      <td>05</td>\n      <td>29</td>\n    </tr>\n    <tr>\n      <th>1</th>\n      <td>4100 North Oak Park Avenue, Chicago, IL 60634,...</td>\n      <td>CULEX RESTUANS</td>\n      <td>41</td>\n      <td>N OAK PARK AVE</td>\n      <td>T002</td>\n      <td>4100  N OAK PARK AVE, Chicago, IL</td>\n      <td>41.954690</td>\n      <td>-87.800991</td>\n      <td>9</td>\n      <td>1</td>\n      <td>0</td>\n      <td>2007</td>\n      <td>05</td>\n      <td>29</td>\n    </tr>\n    <tr>\n      <th>2</th>\n      <td>6200 North Mandell Avenue, Chicago, IL 60646, USA</td>\n      <td>CULEX RESTUANS</td>\n      <td>62</td>\n      <td>N MANDELL AVE</td>\n      <td>T007</td>\n      <td>6200  N MANDELL AVE, Chicago, IL</td>\n      <td>41.994991</td>\n      <td>-87.769279</td>\n      <td>9</td>\n      <td>1</td>\n      <td>0</td>\n      <td>2007</td>\n      <td>05</td>\n      <td>29</td>\n    </tr>\n    <tr>\n      <th>3</th>\n      <td>7900 West Foster Avenue, Chicago, IL 60656, USA</td>\n      <td>CULEX PIPIENS/RESTUANS</td>\n      <td>79</td>\n      <td>W FOSTER AVE</td>\n      <td>T015</td>\n      <td>7900  W FOSTER AVE, Chicago, IL</td>\n      <td>41.974089</td>\n      <td>-87.824812</td>\n      <td>8</td>\n      <td>1</td>\n      <td>0</td>\n      <td>2007</td>\n      <td>05</td>\n      <td>29</td>\n    </tr>\n    <tr>\n      <th>4</th>\n      <td>7900 West Foster Avenue, Chicago, IL 60656, USA</td>\n      <td>CULEX RESTUANS</td>\n      <td>79</td>\n      <td>W FOSTER AVE</td>\n      <td>T015</td>\n      <td>7900  W FOSTER AVE, Chicago, IL</td>\n      <td>41.974089</td>\n      <td>-87.824812</td>\n      <td>8</td>\n      <td>4</td>\n      <td>0</td>\n      <td>2007</td>\n      <td>05</td>\n      <td>29</td>\n    </tr>\n    <tr>\n      <th>...</th>\n      <td>...</td>\n      <td>...</td>\n      <td>...</td>\n      <td>...</td>\n      <td>...</td>\n      <td>...</td>\n      <td>...</td>\n      <td>...</td>\n      <td>...</td>\n      <td>...</td>\n      <td>...</td>\n      <td>...</td>\n      <td>...</td>\n      <td>...</td>\n    </tr>\n    <tr>\n      <th>10501</th>\n      <td>5100 West 72nd Street, Chicago, IL 60638, USA</td>\n      <td>CULEX PIPIENS/RESTUANS</td>\n      <td>51</td>\n      <td>W 72ND ST</td>\n      <td>T035</td>\n      <td>5100  W 72ND ST, Chicago, IL</td>\n      <td>41.763733</td>\n      <td>-87.742302</td>\n      <td>8</td>\n      <td>6</td>\n      <td>1</td>\n      <td>2013</td>\n      <td>09</td>\n      <td>26</td>\n    </tr>\n    <tr>\n      <th>10502</th>\n      <td>5800 North Ridge Avenue, Chicago, IL 60660, USA</td>\n      <td>CULEX PIPIENS/RESTUANS</td>\n      <td>58</td>\n      <td>N RIDGE AVE</td>\n      <td>T231</td>\n      <td>5800  N RIDGE AVE, Chicago, IL</td>\n      <td>41.987280</td>\n      <td>-87.666066</td>\n      <td>8</td>\n      <td>5</td>\n      <td>0</td>\n      <td>2013</td>\n      <td>09</td>\n      <td>26</td>\n    </tr>\n    <tr>\n      <th>10503</th>\n      <td>1700 North Ashland Avenue, Chicago, IL 60622, USA</td>\n      <td>CULEX PIPIENS/RESTUANS</td>\n      <td>17</td>\n      <td>N ASHLAND AVE</td>\n      <td>T232</td>\n      <td>1700  N ASHLAND AVE, Chicago, IL</td>\n      <td>41.912563</td>\n      <td>-87.668055</td>\n      <td>9</td>\n      <td>1</td>\n      <td>0</td>\n      <td>2013</td>\n      <td>09</td>\n      <td>26</td>\n    </tr>\n    <tr>\n      <th>10504</th>\n      <td>7100 North Harlem Avenue, Chicago, IL 60631, USA</td>\n      <td>CULEX PIPIENS/RESTUANS</td>\n      <td>71</td>\n      <td>N HARLEM AVE</td>\n      <td>T233</td>\n      <td>7100  N HARLEM AVE, Chicago, IL</td>\n      <td>42.009876</td>\n      <td>-87.807277</td>\n      <td>9</td>\n      <td>5</td>\n      <td>0</td>\n      <td>2013</td>\n      <td>09</td>\n      <td>26</td>\n    </tr>\n    <tr>\n      <th>10505</th>\n      <td>4200 West 65th Street, Chicago, IL 60621, USA</td>\n      <td>CULEX PIPIENS/RESTUANS</td>\n      <td>42</td>\n      <td>W 65TH ST</td>\n      <td>T235</td>\n      <td>4200  W 65TH ST, Chicago, IL</td>\n      <td>41.776428</td>\n      <td>-87.627096</td>\n      <td>8</td>\n      <td>1</td>\n      <td>0</td>\n      <td>2013</td>\n      <td>09</td>\n      <td>26</td>\n    </tr>\n  </tbody>\n</table>\n<p>10506 rows × 14 columns</p>\n</div>"
          },
          "metadata": {}
        }
      ]
    },
    {
      "cell_type": "code",
      "metadata": {
        "tags": [],
        "cell_id": "00003-3da37f51-b429-4b21-b17d-25267f7c3157",
        "deepnote_to_be_reexecuted": false,
        "source_hash": "fde65f07",
        "execution_start": 1620102863254,
        "execution_millis": 6,
        "deepnote_cell_type": "code"
      },
      "source": "spray.info()",
      "execution_count": 104,
      "outputs": [
        {
          "name": "stdout",
          "text": "<class 'pandas.core.frame.DataFrame'>\nRangeIndex: 13710 entries, 0 to 13709\nData columns (total 7 columns):\n #   Column      Non-Null Count  Dtype  \n---  ------      --------------  -----  \n 0   Unnamed: 0  13710 non-null  int64  \n 1   time        13710 non-null  object \n 2   latitude    13710 non-null  float64\n 3   longitude   13710 non-null  float64\n 4   year        13710 non-null  object \n 5   month       13710 non-null  object \n 6   day         13710 non-null  object \ndtypes: float64(2), int64(1), object(4)\nmemory usage: 749.9+ KB\n",
          "output_type": "stream"
        }
      ]
    },
    {
      "cell_type": "code",
      "metadata": {
        "tags": [],
        "cell_id": "00005-c1ed3844-3d80-4a91-812e-f1d8eb3b4452",
        "deepnote_to_be_reexecuted": false,
        "source_hash": "8c84a11d",
        "execution_start": 1620102863580,
        "execution_millis": 22,
        "deepnote_cell_type": "code"
      },
      "source": "spray.head()",
      "execution_count": 105,
      "outputs": [
        {
          "output_type": "execute_result",
          "execution_count": 105,
          "data": {
            "application/vnd.deepnote.dataframe.v2+json": {
              "row_count": 5,
              "column_count": 7,
              "columns": [
                {
                  "name": "Unnamed: 0",
                  "dtype": "int64",
                  "stats": {
                    "unique_count": 5,
                    "nan_count": 0,
                    "min": "0",
                    "max": "4",
                    "histogram": [
                      {
                        "bin_start": 0,
                        "bin_end": 0.4,
                        "count": 1
                      },
                      {
                        "bin_start": 0.4,
                        "bin_end": 0.8,
                        "count": 0
                      },
                      {
                        "bin_start": 0.8,
                        "bin_end": 1.2000000000000002,
                        "count": 1
                      },
                      {
                        "bin_start": 1.2000000000000002,
                        "bin_end": 1.6,
                        "count": 0
                      },
                      {
                        "bin_start": 1.6,
                        "bin_end": 2,
                        "count": 0
                      },
                      {
                        "bin_start": 2,
                        "bin_end": 2.4000000000000004,
                        "count": 1
                      },
                      {
                        "bin_start": 2.4000000000000004,
                        "bin_end": 2.8000000000000003,
                        "count": 0
                      },
                      {
                        "bin_start": 2.8000000000000003,
                        "bin_end": 3.2,
                        "count": 1
                      },
                      {
                        "bin_start": 3.2,
                        "bin_end": 3.6,
                        "count": 0
                      },
                      {
                        "bin_start": 3.6,
                        "bin_end": 4,
                        "count": 1
                      }
                    ]
                  }
                },
                {
                  "name": "time",
                  "dtype": "object",
                  "stats": {
                    "unique_count": 5,
                    "nan_count": 0,
                    "categories": [
                      {
                        "name": "6:56:58 PM",
                        "count": 1
                      },
                      {
                        "name": "6:57:08 PM",
                        "count": 1
                      },
                      {
                        "name": "3 others",
                        "count": 3
                      }
                    ]
                  }
                },
                {
                  "name": "latitude",
                  "dtype": "float64",
                  "stats": {
                    "unique_count": 5,
                    "nan_count": 0,
                    "min": "42.39041",
                    "max": "42.3916233333333",
                    "histogram": [
                      {
                        "bin_start": 42.39041,
                        "bin_end": 42.390531333333335,
                        "count": 1
                      },
                      {
                        "bin_start": 42.390531333333335,
                        "bin_end": 42.39065266666666,
                        "count": 1
                      },
                      {
                        "bin_start": 42.39065266666666,
                        "bin_end": 42.39077399999999,
                        "count": 0
                      },
                      {
                        "bin_start": 42.39077399999999,
                        "bin_end": 42.39089533333332,
                        "count": 0
                      },
                      {
                        "bin_start": 42.39089533333332,
                        "bin_end": 42.39101666666665,
                        "count": 0
                      },
                      {
                        "bin_start": 42.39101666666665,
                        "bin_end": 42.391137999999984,
                        "count": 1
                      },
                      {
                        "bin_start": 42.391137999999984,
                        "bin_end": 42.39125933333331,
                        "count": 0
                      },
                      {
                        "bin_start": 42.39125933333331,
                        "bin_end": 42.39138066666664,
                        "count": 1
                      },
                      {
                        "bin_start": 42.39138066666664,
                        "bin_end": 42.39150199999997,
                        "count": 0
                      },
                      {
                        "bin_start": 42.39150199999997,
                        "bin_end": 42.3916233333333,
                        "count": 1
                      }
                    ]
                  }
                },
                {
                  "name": "longitude",
                  "dtype": "float64",
                  "stats": {
                    "unique_count": 4,
                    "nan_count": 0,
                    "min": "-88.0891633333333",
                    "max": "-88.0888583333333",
                    "histogram": [
                      {
                        "bin_start": -88.0891633333333,
                        "bin_end": -88.08913283333331,
                        "count": 4
                      },
                      {
                        "bin_start": -88.08913283333331,
                        "bin_end": -88.0891023333333,
                        "count": 0
                      },
                      {
                        "bin_start": -88.0891023333333,
                        "bin_end": -88.0890718333333,
                        "count": 0
                      },
                      {
                        "bin_start": -88.0890718333333,
                        "bin_end": -88.0890413333333,
                        "count": 0
                      },
                      {
                        "bin_start": -88.0890413333333,
                        "bin_end": -88.0890108333333,
                        "count": 0
                      },
                      {
                        "bin_start": -88.0890108333333,
                        "bin_end": -88.08898033333331,
                        "count": 0
                      },
                      {
                        "bin_start": -88.08898033333331,
                        "bin_end": -88.0889498333333,
                        "count": 0
                      },
                      {
                        "bin_start": -88.0889498333333,
                        "bin_end": -88.08891933333331,
                        "count": 0
                      },
                      {
                        "bin_start": -88.08891933333331,
                        "bin_end": -88.0888888333333,
                        "count": 0
                      },
                      {
                        "bin_start": -88.0888888333333,
                        "bin_end": -88.0888583333333,
                        "count": 1
                      }
                    ]
                  }
                },
                {
                  "name": "year",
                  "dtype": "object",
                  "stats": {
                    "unique_count": 1,
                    "nan_count": 0,
                    "categories": [
                      {
                        "name": "2011",
                        "count": 5
                      }
                    ]
                  }
                },
                {
                  "name": "month",
                  "dtype": "object",
                  "stats": {
                    "unique_count": 1,
                    "nan_count": 0,
                    "categories": [
                      {
                        "name": "08",
                        "count": 5
                      }
                    ]
                  }
                },
                {
                  "name": "day",
                  "dtype": "object",
                  "stats": {
                    "unique_count": 1,
                    "nan_count": 0,
                    "categories": [
                      {
                        "name": "29",
                        "count": 5
                      }
                    ]
                  }
                },
                {
                  "name": "_deepnote_index_column",
                  "dtype": "int64"
                }
              ],
              "rows_top": [
                {
                  "Unnamed: 0": 0,
                  "time": "6:56:58 PM",
                  "latitude": 42.3916233333333,
                  "longitude": -88.0891633333333,
                  "year": "2011",
                  "month": "08",
                  "day": "29",
                  "_deepnote_index_column": 0
                },
                {
                  "Unnamed: 0": 1,
                  "time": "6:57:08 PM",
                  "latitude": 42.3913483333333,
                  "longitude": -88.0891633333333,
                  "year": "2011",
                  "month": "08",
                  "day": "29",
                  "_deepnote_index_column": 1
                },
                {
                  "Unnamed: 0": 2,
                  "time": "6:57:18 PM",
                  "latitude": 42.3910216666667,
                  "longitude": -88.0891566666667,
                  "year": "2011",
                  "month": "08",
                  "day": "29",
                  "_deepnote_index_column": 2
                },
                {
                  "Unnamed: 0": 3,
                  "time": "6:57:28 PM",
                  "latitude": 42.3906366666667,
                  "longitude": -88.0891583333333,
                  "year": "2011",
                  "month": "08",
                  "day": "29",
                  "_deepnote_index_column": 3
                },
                {
                  "Unnamed: 0": 4,
                  "time": "6:57:38 PM",
                  "latitude": 42.39041,
                  "longitude": -88.0888583333333,
                  "year": "2011",
                  "month": "08",
                  "day": "29",
                  "_deepnote_index_column": 4
                }
              ],
              "rows_bottom": null
            },
            "text/plain": "   Unnamed: 0        time   latitude  longitude  year month day\n0           0  6:56:58 PM  42.391623 -88.089163  2011    08  29\n1           1  6:57:08 PM  42.391348 -88.089163  2011    08  29\n2           2  6:57:18 PM  42.391022 -88.089157  2011    08  29\n3           3  6:57:28 PM  42.390637 -88.089158  2011    08  29\n4           4  6:57:38 PM  42.390410 -88.088858  2011    08  29",
            "text/html": "<div>\n<style scoped>\n    .dataframe tbody tr th:only-of-type {\n        vertical-align: middle;\n    }\n\n    .dataframe tbody tr th {\n        vertical-align: top;\n    }\n\n    .dataframe thead th {\n        text-align: right;\n    }\n</style>\n<table border=\"1\" class=\"dataframe\">\n  <thead>\n    <tr style=\"text-align: right;\">\n      <th></th>\n      <th>Unnamed: 0</th>\n      <th>time</th>\n      <th>latitude</th>\n      <th>longitude</th>\n      <th>year</th>\n      <th>month</th>\n      <th>day</th>\n    </tr>\n  </thead>\n  <tbody>\n    <tr>\n      <th>0</th>\n      <td>0</td>\n      <td>6:56:58 PM</td>\n      <td>42.391623</td>\n      <td>-88.089163</td>\n      <td>2011</td>\n      <td>08</td>\n      <td>29</td>\n    </tr>\n    <tr>\n      <th>1</th>\n      <td>1</td>\n      <td>6:57:08 PM</td>\n      <td>42.391348</td>\n      <td>-88.089163</td>\n      <td>2011</td>\n      <td>08</td>\n      <td>29</td>\n    </tr>\n    <tr>\n      <th>2</th>\n      <td>2</td>\n      <td>6:57:18 PM</td>\n      <td>42.391022</td>\n      <td>-88.089157</td>\n      <td>2011</td>\n      <td>08</td>\n      <td>29</td>\n    </tr>\n    <tr>\n      <th>3</th>\n      <td>3</td>\n      <td>6:57:28 PM</td>\n      <td>42.390637</td>\n      <td>-88.089158</td>\n      <td>2011</td>\n      <td>08</td>\n      <td>29</td>\n    </tr>\n    <tr>\n      <th>4</th>\n      <td>4</td>\n      <td>6:57:38 PM</td>\n      <td>42.390410</td>\n      <td>-88.088858</td>\n      <td>2011</td>\n      <td>08</td>\n      <td>29</td>\n    </tr>\n  </tbody>\n</table>\n</div>"
          },
          "metadata": {}
        }
      ]
    },
    {
      "cell_type": "code",
      "metadata": {
        "tags": [],
        "cell_id": "00007-a4fac2f4-1102-4bd4-9a57-87967cb778d4",
        "deepnote_to_be_reexecuted": false,
        "source_hash": "f62a36ee",
        "execution_start": 1620102863816,
        "execution_millis": 234,
        "deepnote_cell_type": "code"
      },
      "source": "crs = {'init':'epsg:4326'}\n\ngeometry_train = [Point(xy) for xy in zip(train['longitude'], train ['latitude'])]\ngeo_train_df = gpd.GeoDataFrame(train,crs=crs, geometry = geometry_train)\n\n\ngeometry_spray =[Point(xy) for xy in zip(spray['longitude'],spray['latitude'])]\ngeo_spray_df = gpd.GeoDataFrame(spray, crs=crs, geometry = geometry_spray)\n\n",
      "execution_count": 106,
      "outputs": [
        {
          "name": "stderr",
          "text": "/root/venv/lib/python3.7/site-packages/pyproj/crs/crs.py:53: FutureWarning: '+init=<authority>:<code>' syntax is deprecated. '<authority>:<code>' is the preferred initialization method. When making the change, be mindful of axis order changes: https://pyproj4.github.io/pyproj/stable/gotchas.html#axis-order-changes-in-proj-6\n  return _prepare_from_string(\" \".join(pjargs))\n",
          "output_type": "stream"
        }
      ]
    },
    {
      "cell_type": "code",
      "metadata": {
        "tags": [],
        "cell_id": "00008-f4a8307b-5820-4635-85f9-760e55bc4ca2",
        "deepnote_to_be_reexecuted": false,
        "source_hash": "78ab1825",
        "execution_start": 1620102864951,
        "execution_millis": 89,
        "deepnote_cell_type": "code"
      },
      "source": "##Station 1: CHICAGO O'HARE INTERNATIONAL AIRPORT Lat: 41.995 Lon: -87.933 Elev: 662 ft. above sea level\n##Station 2: CHICAGO MIDWAY INTL ARPT Lat: 41.786 Lon: -87.752 Elev: 612 ft. above sea level\n\nstation = pd.DataFrame({\n    'station':['ORD','MDW'],\n    'latitude':[41.995,41.786],\n    'longitude':[-87.933,-87.752]\n})\n\ngeometry_station = [Point(xy) for xy in zip(station['longitude'],station['latitude'])]\n\ngeo_station_df = gpd.GeoDataFrame(station, crs=crs, geometry = geometry_station)\n\ngeo_station_df.head()",
      "execution_count": 107,
      "outputs": [
        {
          "name": "stderr",
          "text": "/root/venv/lib/python3.7/site-packages/pyproj/crs/crs.py:53: FutureWarning: '+init=<authority>:<code>' syntax is deprecated. '<authority>:<code>' is the preferred initialization method. When making the change, be mindful of axis order changes: https://pyproj4.github.io/pyproj/stable/gotchas.html#axis-order-changes-in-proj-6\n  return _prepare_from_string(\" \".join(pjargs))\n",
          "output_type": "stream"
        },
        {
          "output_type": "execute_result",
          "execution_count": 107,
          "data": {
            "application/vnd.deepnote.dataframe.v2+json": {
              "error": "Traceback (most recent call last):\n  File \"/shared-libs/code/variable_explorer.py\", line 143, in dataframe_formatter\n    return { MIME_TYPE: describe_pd_dataframe(df) }\n  File \"/shared-libs/code/variable_explorer_helpers.py\", line 154, in describe_pd_dataframe\n    if (is_type_numeric(column.dtype)):\n  File \"/shared-libs/code/variable_explorer_helpers.py\", line 13, in is_type_numeric\n    return np.issubdtype(dtype, np.number)\n  File \"/shared-libs/python3.7/py/lib/python3.7/site-packages/numpy/core/numerictypes.py\", line 388, in issubdtype\n    arg1 = dtype(arg1).type\nTypeError: Cannot interpret '<geopandas.array.GeometryDtype object at 0x7f176ab14c10>' as a data type\n"
            },
            "text/plain": "  station  latitude  longitude                    geometry\n0     ORD    41.995    -87.933  POINT (-87.93300 41.99500)\n1     MDW    41.786    -87.752  POINT (-87.75200 41.78600)",
            "text/html": "<div>\n<style scoped>\n    .dataframe tbody tr th:only-of-type {\n        vertical-align: middle;\n    }\n\n    .dataframe tbody tr th {\n        vertical-align: top;\n    }\n\n    .dataframe thead th {\n        text-align: right;\n    }\n</style>\n<table border=\"1\" class=\"dataframe\">\n  <thead>\n    <tr style=\"text-align: right;\">\n      <th></th>\n      <th>station</th>\n      <th>latitude</th>\n      <th>longitude</th>\n      <th>geometry</th>\n    </tr>\n  </thead>\n  <tbody>\n    <tr>\n      <th>0</th>\n      <td>ORD</td>\n      <td>41.995</td>\n      <td>-87.933</td>\n      <td>POINT (-87.93300 41.99500)</td>\n    </tr>\n    <tr>\n      <th>1</th>\n      <td>MDW</td>\n      <td>41.786</td>\n      <td>-87.752</td>\n      <td>POINT (-87.75200 41.78600)</td>\n    </tr>\n  </tbody>\n</table>\n</div>"
          },
          "metadata": {}
        }
      ]
    },
    {
      "cell_type": "code",
      "metadata": {
        "tags": [],
        "cell_id": "00009-37cfd2a9-4081-48b0-b2b8-3101806bfc59",
        "deepnote_to_be_reexecuted": false,
        "source_hash": "3a54b717",
        "execution_start": 1620102865960,
        "execution_millis": 2652,
        "deepnote_cell_type": "code"
      },
      "source": "##Plot map of sprays, traps, and weather stations\nfig, ax = plt.subplots(figsize=(12,12))\nchicago_map.plot(ax = ax, alpha = .4, color = 'grey')\ngeo_spray_df[geo_spray_df['latitude'] < 42.1].plot(\n    ax = ax, markersize = 20, color = 'yellow', marker ='o', alpha = .3, label ='Spray')\ngeo_train_df.plot(ax=ax, markersize=20, color='blue', marker='o', label='Traps')\ngeo_station_df.plot(ax=ax, markersize=40, color='red', marker='o', label='Station')\nplt.legend(prop={'size': 15})\nplt.title('Locations of traps, spray and weather station', fontsize=16, y=1.01)\nplt.xlabel('Longitude', fontsize=14)\nplt.ylabel('Latitude', fontsize=14)\nplt.show()",
      "execution_count": 108,
      "outputs": [
        {
          "data": {
            "text/plain": "<Figure size 864x864 with 1 Axes>",
            "image/png": "[encoded data removed]"
          },
          "metadata": {
            "needs_background": "light",
            "image/png": {
              "width": 601,
              "height": 726
            }
          },
          "output_type": "display_data"
        }
      ]
    },
    {
      "cell_type": "code",
      "metadata": {
        "tags": [],
        "cell_id": "00012-280e096b-fec1-4952-8f36-993a9d41035e",
        "deepnote_to_be_reexecuted": false,
        "source_hash": "e1f0b45",
        "execution_start": 1620102868678,
        "execution_millis": 21,
        "deepnote_cell_type": "code"
      },
      "source": "train.head()",
      "execution_count": 110,
      "outputs": [
        {
          "output_type": "execute_result",
          "execution_count": 110,
          "data": {
            "application/vnd.deepnote.dataframe.v2+json": {
              "error": "Traceback (most recent call last):\n  File \"/shared-libs/code/variable_explorer.py\", line 143, in dataframe_formatter\n    return { MIME_TYPE: describe_pd_dataframe(df) }\n  File \"/shared-libs/code/variable_explorer_helpers.py\", line 154, in describe_pd_dataframe\n    if (is_type_numeric(column.dtype)):\n  File \"/shared-libs/code/variable_explorer_helpers.py\", line 13, in is_type_numeric\n    return np.issubdtype(dtype, np.number)\n  File \"/shared-libs/python3.7/py/lib/python3.7/site-packages/numpy/core/numerictypes.py\", line 388, in issubdtype\n    arg1 = dtype(arg1).type\nTypeError: Cannot interpret '<geopandas.array.GeometryDtype object at 0x7f176ab14c10>' as a data type\n"
            },
            "text/plain": "                                             address                 species  \\\n0  4100 North Oak Park Avenue, Chicago, IL 60634,...  CULEX PIPIENS/RESTUANS   \n1  4100 North Oak Park Avenue, Chicago, IL 60634,...          CULEX RESTUANS   \n2  6200 North Mandell Avenue, Chicago, IL 60646, USA          CULEX RESTUANS   \n3    7900 West Foster Avenue, Chicago, IL 60656, USA  CULEX PIPIENS/RESTUANS   \n4    7900 West Foster Avenue, Chicago, IL 60656, USA          CULEX RESTUANS   \n\n   block           street  trap             addressnumberandstreet   latitude  \\\n0     41   N OAK PARK AVE  T002  4100  N OAK PARK AVE, Chicago, IL  41.954690   \n1     41   N OAK PARK AVE  T002  4100  N OAK PARK AVE, Chicago, IL  41.954690   \n2     62    N MANDELL AVE  T007   6200  N MANDELL AVE, Chicago, IL  41.994991   \n3     79     W FOSTER AVE  T015    7900  W FOSTER AVE, Chicago, IL  41.974089   \n4     79     W FOSTER AVE  T015    7900  W FOSTER AVE, Chicago, IL  41.974089   \n\n   longitude  addressaccuracy  nummosquitos  wnvpresent  year month day  \\\n0 -87.800991                9             1           0  2007    05  29   \n1 -87.800991                9             1           0  2007    05  29   \n2 -87.769279                9             1           0  2007    05  29   \n3 -87.824812                8             1           0  2007    05  29   \n4 -87.824812                8             4           0  2007    05  29   \n\n                     geometry  \n0  POINT (-87.80099 41.95469)  \n1  POINT (-87.80099 41.95469)  \n2  POINT (-87.76928 41.99499)  \n3  POINT (-87.82481 41.97409)  \n4  POINT (-87.82481 41.97409)  ",
            "text/html": "<div>\n<style scoped>\n    .dataframe tbody tr th:only-of-type {\n        vertical-align: middle;\n    }\n\n    .dataframe tbody tr th {\n        vertical-align: top;\n    }\n\n    .dataframe thead th {\n        text-align: right;\n    }\n</style>\n<table border=\"1\" class=\"dataframe\">\n  <thead>\n    <tr style=\"text-align: right;\">\n      <th></th>\n      <th>address</th>\n      <th>species</th>\n      <th>block</th>\n      <th>street</th>\n      <th>trap</th>\n      <th>addressnumberandstreet</th>\n      <th>latitude</th>\n      <th>longitude</th>\n      <th>addressaccuracy</th>\n      <th>nummosquitos</th>\n      <th>wnvpresent</th>\n      <th>year</th>\n      <th>month</th>\n      <th>day</th>\n      <th>geometry</th>\n    </tr>\n  </thead>\n  <tbody>\n    <tr>\n      <th>0</th>\n      <td>4100 North Oak Park Avenue, Chicago, IL 60634,...</td>\n      <td>CULEX PIPIENS/RESTUANS</td>\n      <td>41</td>\n      <td>N OAK PARK AVE</td>\n      <td>T002</td>\n      <td>4100  N OAK PARK AVE, Chicago, IL</td>\n      <td>41.954690</td>\n      <td>-87.800991</td>\n      <td>9</td>\n      <td>1</td>\n      <td>0</td>\n      <td>2007</td>\n      <td>05</td>\n      <td>29</td>\n      <td>POINT (-87.80099 41.95469)</td>\n    </tr>\n    <tr>\n      <th>1</th>\n      <td>4100 North Oak Park Avenue, Chicago, IL 60634,...</td>\n      <td>CULEX RESTUANS</td>\n      <td>41</td>\n      <td>N OAK PARK AVE</td>\n      <td>T002</td>\n      <td>4100  N OAK PARK AVE, Chicago, IL</td>\n      <td>41.954690</td>\n      <td>-87.800991</td>\n      <td>9</td>\n      <td>1</td>\n      <td>0</td>\n      <td>2007</td>\n      <td>05</td>\n      <td>29</td>\n      <td>POINT (-87.80099 41.95469)</td>\n    </tr>\n    <tr>\n      <th>2</th>\n      <td>6200 North Mandell Avenue, Chicago, IL 60646, USA</td>\n      <td>CULEX RESTUANS</td>\n      <td>62</td>\n      <td>N MANDELL AVE</td>\n      <td>T007</td>\n      <td>6200  N MANDELL AVE, Chicago, IL</td>\n      <td>41.994991</td>\n      <td>-87.769279</td>\n      <td>9</td>\n      <td>1</td>\n      <td>0</td>\n      <td>2007</td>\n      <td>05</td>\n      <td>29</td>\n      <td>POINT (-87.76928 41.99499)</td>\n    </tr>\n    <tr>\n      <th>3</th>\n      <td>7900 West Foster Avenue, Chicago, IL 60656, USA</td>\n      <td>CULEX PIPIENS/RESTUANS</td>\n      <td>79</td>\n      <td>W FOSTER AVE</td>\n      <td>T015</td>\n      <td>7900  W FOSTER AVE, Chicago, IL</td>\n      <td>41.974089</td>\n      <td>-87.824812</td>\n      <td>8</td>\n      <td>1</td>\n      <td>0</td>\n      <td>2007</td>\n      <td>05</td>\n      <td>29</td>\n      <td>POINT (-87.82481 41.97409)</td>\n    </tr>\n    <tr>\n      <th>4</th>\n      <td>7900 West Foster Avenue, Chicago, IL 60656, USA</td>\n      <td>CULEX RESTUANS</td>\n      <td>79</td>\n      <td>W FOSTER AVE</td>\n      <td>T015</td>\n      <td>7900  W FOSTER AVE, Chicago, IL</td>\n      <td>41.974089</td>\n      <td>-87.824812</td>\n      <td>8</td>\n      <td>4</td>\n      <td>0</td>\n      <td>2007</td>\n      <td>05</td>\n      <td>29</td>\n      <td>POINT (-87.82481 41.97409)</td>\n    </tr>\n  </tbody>\n</table>\n</div>"
          },
          "metadata": {}
        }
      ]
    },
    {
      "cell_type": "code",
      "metadata": {
        "tags": [],
        "cell_id": "00014-304ba2c7-1a9f-4dc5-8c9a-aab95df2b4cd",
        "deepnote_to_be_reexecuted": false,
        "source_hash": "fde65f07",
        "execution_start": 1620102868700,
        "execution_millis": 23,
        "deepnote_cell_type": "code"
      },
      "source": "spray.info()",
      "execution_count": 111,
      "outputs": [
        {
          "name": "stdout",
          "text": "<class 'pandas.core.frame.DataFrame'>\nRangeIndex: 13710 entries, 0 to 13709\nData columns (total 8 columns):\n #   Column      Non-Null Count  Dtype   \n---  ------      --------------  -----   \n 0   Unnamed: 0  13710 non-null  int64   \n 1   time        13710 non-null  object  \n 2   latitude    13710 non-null  float64 \n 3   longitude   13710 non-null  float64 \n 4   year        13710 non-null  object  \n 5   month       13710 non-null  object  \n 6   day         13710 non-null  object  \n 7   geometry    13710 non-null  geometry\ndtypes: float64(2), geometry(1), int64(1), object(4)\nmemory usage: 857.0+ KB\n",
          "output_type": "stream"
        }
      ]
    },
    {
      "cell_type": "code",
      "metadata": {
        "tags": [],
        "cell_id": "00013-dc759e0d-f501-466a-ac8c-b2bb45a91126",
        "deepnote_to_be_reexecuted": false,
        "source_hash": "99b182d8",
        "execution_start": 1620102868771,
        "execution_millis": 2646,
        "deepnote_cell_type": "code"
      },
      "source": "##Plot graphs by year for where wnvpresent and locations sprayed\nfig, ax = plt.subplots(figsize=(12,12), nrows =2, ncols = 2,sharex = True, sharey = True)\nax = ax.ravel()\n\nmask_wnvpresent = geo_train_df['wnvpresent'] == 1\nmask_outliers = geo_spray_df['latitude'] < 42.3\nfor i,y in enumerate(train.year.unique()):\n\n    chicago_map.plot(ax = ax[i], color = 'grey', alpha = 0.4)\n    \n    geo_spray_df[mask_outliers & (geo_spray_df['year'] == y)].plot(ax=ax[i], markersize = 20, color = 'yellow', marker = 'o', alpha = .2, label = 'Spray')\n    geo_train_df[mask_wnvpresent & (geo_train_df['year'] == y)].plot(ax=ax[i], markersize = 20, color = 'red', marker = 'o', label = 'Virus')\n    \n\n    ax[i].set_title(y)\n    ax[i].set_xlabel('Latitude')\n    ax[i].set_ylabel('Longitude')\n",
      "execution_count": 112,
      "outputs": [
        {
          "name": "stderr",
          "text": "/root/venv/lib/python3.7/site-packages/geopandas/plotting.py:681: UserWarning: The GeoDataFrame you are attempting to plot is empty. Nothing has been displayed.\n  UserWarning,\n/root/venv/lib/python3.7/site-packages/geopandas/plotting.py:681: UserWarning: The GeoDataFrame you are attempting to plot is empty. Nothing has been displayed.\n  UserWarning,\n",
          "output_type": "stream"
        },
        {
          "data": {
            "text/plain": "<Figure size 864x864 with 4 Axes>",
            "image/png": "[encoded data removed]"
          },
          "metadata": {
            "needs_background": "light",
            "image/png": {
              "width": 672,
              "height": 713
            }
          },
          "output_type": "display_data"
        }
      ]
    },
    {
      "cell_type": "code",
      "metadata": {
        "tags": [],
        "cell_id": "00017-190dd5e4-0492-4123-b370-a1add5778ba7",
        "deepnote_to_be_reexecuted": false,
        "source_hash": "4a7b2a2c",
        "execution_start": 1620102871423,
        "execution_millis": 8,
        "deepnote_cell_type": "code"
      },
      "source": "#2011\nfig, ax = plt.subplots(nrows=3,ncols =2, figsize=(12,12),sharex = True, sharey = True)\nax = ax.ravel()\nspray_month = ['07','08','09']\n\nfor i,y in enumerate(train.month.unique()):\n    for item in spray_month:\n\n        chicago_map.plot(ax = ax[i], color = 'grey', alpha = 0.4)\n        geo_spray_df[mask_outliers & (geo_spray_df['year'] == '2011') & (geo_spray_df['month'] == y)].plot(ax= ax[i], markersize = 20, color = 'yellow',marker ='o', alpha = .2, label = 'Spray')\n        geo_train_df[mask_wnvpresent & (geo_train_df['month'] == y) & (geo_train_df['year'] == \"2011\") ].plot(ax = ax[i], markersize = 20, color = 'red',marker = 'o',label ='Virus')\n\n\n        else:\n            chicago_map.plot(ax = ax[i], color = 'grey', alpha = 0.4)\n            geo_spray_df[mask_outliers & (geo_spray_df['year'] == '2011')].plot(ax= ax[i], markersize = 20, color = 'yellow',marker ='o', alpha = .2, label = 'Spray')\n            geo_train_df[mask_wnvpresent & (geo_train_df['year'] == \"2011\")].plot(ax = ax[i], markersize = 20, color = 'red',marker = 'o',label ='Virus')\n\n\n\n    ax[i].set_title(y)\n    ax[i].set_xlabel('Longitude', fontsize=14)\n    ax[i].set_ylabel('Latitude', fontsize=14)",
      "execution_count": 113,
      "outputs": [
        {
          "output_type": "error",
          "ename": "SyntaxError",
          "evalue": "invalid syntax (<ipython-input-113-619a5ef9ff0e>, line 14)",
          "traceback": [
            "\u001b[0;36m  File \u001b[0;32m\"<ipython-input-113-619a5ef9ff0e>\"\u001b[0;36m, line \u001b[0;32m14\u001b[0m\n\u001b[0;31m    else:\u001b[0m\n\u001b[0m       ^\u001b[0m\n\u001b[0;31mSyntaxError\u001b[0m\u001b[0;31m:\u001b[0m invalid syntax\n"
          ]
        }
      ]
    },
    {
      "cell_type": "code",
      "metadata": {
        "tags": [],
        "cell_id": "00016-00abafd8-1210-4aa9-83e5-c28ae33d05b4",
        "deepnote_to_be_reexecuted": false,
        "source_hash": "47925053",
        "execution_start": 1620102873516,
        "execution_millis": 9,
        "deepnote_cell_type": "code"
      },
      "source": "train.month.unique()",
      "execution_count": 114,
      "outputs": [
        {
          "output_type": "execute_result",
          "execution_count": 114,
          "data": {
            "text/plain": "array(['05', '06', '07', '08', '09', '10'], dtype=object)"
          },
          "metadata": {}
        }
      ]
    },
    {
      "cell_type": "code",
      "metadata": {
        "tags": [],
        "cell_id": "00019-fa739d7d-0755-40ad-8b18-5cc90cf24448",
        "deepnote_to_be_reexecuted": false,
        "source_hash": "76b1116a",
        "execution_start": 1620102873849,
        "execution_millis": 37,
        "deepnote_cell_type": "code"
      },
      "source": "    geo_train_df[mask_wnvpresent & (geo_train_df['month'] == y) & (geo_train_df['year'] == 2011) ].plot(ax = ax[i], markersize = 20, color = 'red',marker = 'o',label ='Virus')\n",
      "execution_count": 115,
      "outputs": [
        {
          "name": "stderr",
          "text": "/root/venv/lib/python3.7/site-packages/geopandas/plotting.py:681: UserWarning: The GeoDataFrame you are attempting to plot is empty. Nothing has been displayed.\n  UserWarning,\n",
          "output_type": "stream"
        },
        {
          "output_type": "execute_result",
          "execution_count": 115,
          "data": {
            "text/plain": "<AxesSubplot:title={'center':'2013'}, xlabel='Latitude', ylabel='Longitude'>"
          },
          "metadata": {}
        }
      ]
    },
    {
      "cell_type": "code",
      "metadata": {
        "tags": [],
        "cell_id": "00020-16d68f53-cadf-418a-ad23-ed249c44f088",
        "deepnote_to_be_reexecuted": false,
        "source_hash": "47925053",
        "execution_start": 1620102874099,
        "execution_millis": 8,
        "deepnote_cell_type": "code"
      },
      "source": "train.month.unique()",
      "execution_count": 116,
      "outputs": [
        {
          "output_type": "execute_result",
          "execution_count": 116,
          "data": {
            "text/plain": "array(['05', '06', '07', '08', '09', '10'], dtype=object)"
          },
          "metadata": {}
        }
      ]
    },
    {
      "cell_type": "code",
      "metadata": {
        "tags": [],
        "cell_id": "00019-25393e59-f861-4528-a247-34787edd663d",
        "deepnote_to_be_reexecuted": false,
        "source_hash": "554ab96",
        "execution_start": 1620102874595,
        "execution_millis": 225,
        "deepnote_cell_type": "code"
      },
      "source": "fig, ax = plt.subplots(figsize=(12,12))\nchicago_map.plot(ax = ax, color = 'grey', alpha = 0.4)\n\n\ngeo_spray_df[mask_outliers & (geo_spray_df['year']== \"2011\") & (geo_spray_df['month'] == \"10\")].plot(ax= ax, markersize = 20, color = 'yellow',marker ='o', alpha = .2, label = 'Spray')\ngeo_train_df[mask_wnvpresent & (geo_train_df['year'] == '2011') & (geo_train_df['month'] == '10')].plot(ax = ax, markersize = 20, color = 'red', marker = 'o')",
      "execution_count": 117,
      "outputs": [
        {
          "name": "stderr",
          "text": "/root/venv/lib/python3.7/site-packages/geopandas/plotting.py:681: UserWarning: The GeoDataFrame you are attempting to plot is empty. Nothing has been displayed.\n  UserWarning,\n",
          "output_type": "stream"
        },
        {
          "output_type": "execute_result",
          "execution_count": 117,
          "data": {
            "text/plain": "<AxesSubplot:>"
          },
          "metadata": {}
        },
        {
          "output_type": "error",
          "ename": "ValueError",
          "evalue": "cannot convert float NaN to integer",
          "traceback": [
            "\u001b[0;31m---------------------------------------------------------------------------\u001b[0m",
            "\u001b[0;31mValueError\u001b[0m                                Traceback (most recent call last)",
            "\u001b[0;32m/shared-libs/python3.7/py-core/lib/python3.7/site-packages/IPython/core/formatters.py\u001b[0m in \u001b[0;36m__call__\u001b[0;34m(self, obj)\u001b[0m\n\u001b[1;32m    339\u001b[0m                 \u001b[0;32mpass\u001b[0m\u001b[0;34m\u001b[0m\u001b[0;34m\u001b[0m\u001b[0m\n\u001b[1;32m    340\u001b[0m             \u001b[0;32melse\u001b[0m\u001b[0;34m:\u001b[0m\u001b[0;34m\u001b[0m\u001b[0;34m\u001b[0m\u001b[0m\n\u001b[0;32m--> 341\u001b[0;31m                 \u001b[0;32mreturn\u001b[0m \u001b[0mprinter\u001b[0m\u001b[0;34m(\u001b[0m\u001b[0mobj\u001b[0m\u001b[0;34m)\u001b[0m\u001b[0;34m\u001b[0m\u001b[0;34m\u001b[0m\u001b[0m\n\u001b[0m\u001b[1;32m    342\u001b[0m             \u001b[0;31m# Finally look for special method names\u001b[0m\u001b[0;34m\u001b[0m\u001b[0;34m\u001b[0m\u001b[0;34m\u001b[0m\u001b[0m\n\u001b[1;32m    343\u001b[0m             \u001b[0mmethod\u001b[0m \u001b[0;34m=\u001b[0m \u001b[0mget_real_method\u001b[0m\u001b[0;34m(\u001b[0m\u001b[0mobj\u001b[0m\u001b[0;34m,\u001b[0m \u001b[0mself\u001b[0m\u001b[0;34m.\u001b[0m\u001b[0mprint_method\u001b[0m\u001b[0;34m)\u001b[0m\u001b[0;34m\u001b[0m\u001b[0;34m\u001b[0m\u001b[0m\n",
            "\u001b[0;32m/shared-libs/python3.7/py-core/lib/python3.7/site-packages/IPython/core/pylabtools.py\u001b[0m in \u001b[0;36m<lambda>\u001b[0;34m(fig)\u001b[0m\n\u001b[1;32m    246\u001b[0m \u001b[0;34m\u001b[0m\u001b[0m\n\u001b[1;32m    247\u001b[0m     \u001b[0;32mif\u001b[0m \u001b[0;34m'png'\u001b[0m \u001b[0;32min\u001b[0m \u001b[0mformats\u001b[0m\u001b[0;34m:\u001b[0m\u001b[0;34m\u001b[0m\u001b[0;34m\u001b[0m\u001b[0m\n\u001b[0;32m--> 248\u001b[0;31m         \u001b[0mpng_formatter\u001b[0m\u001b[0;34m.\u001b[0m\u001b[0mfor_type\u001b[0m\u001b[0;34m(\u001b[0m\u001b[0mFigure\u001b[0m\u001b[0;34m,\u001b[0m \u001b[0;32mlambda\u001b[0m \u001b[0mfig\u001b[0m\u001b[0;34m:\u001b[0m \u001b[0mprint_figure\u001b[0m\u001b[0;34m(\u001b[0m\u001b[0mfig\u001b[0m\u001b[0;34m,\u001b[0m \u001b[0;34m'png'\u001b[0m\u001b[0;34m,\u001b[0m \u001b[0;34m**\u001b[0m\u001b[0mkwargs\u001b[0m\u001b[0;34m)\u001b[0m\u001b[0;34m)\u001b[0m\u001b[0;34m\u001b[0m\u001b[0;34m\u001b[0m\u001b[0m\n\u001b[0m\u001b[1;32m    249\u001b[0m     \u001b[0;32mif\u001b[0m \u001b[0;34m'retina'\u001b[0m \u001b[0;32min\u001b[0m \u001b[0mformats\u001b[0m \u001b[0;32mor\u001b[0m \u001b[0;34m'png2x'\u001b[0m \u001b[0;32min\u001b[0m \u001b[0mformats\u001b[0m\u001b[0;34m:\u001b[0m\u001b[0;34m\u001b[0m\u001b[0;34m\u001b[0m\u001b[0m\n\u001b[1;32m    250\u001b[0m         \u001b[0mpng_formatter\u001b[0m\u001b[0;34m.\u001b[0m\u001b[0mfor_type\u001b[0m\u001b[0;34m(\u001b[0m\u001b[0mFigure\u001b[0m\u001b[0;34m,\u001b[0m \u001b[0;32mlambda\u001b[0m \u001b[0mfig\u001b[0m\u001b[0;34m:\u001b[0m \u001b[0mretina_figure\u001b[0m\u001b[0;34m(\u001b[0m\u001b[0mfig\u001b[0m\u001b[0;34m,\u001b[0m \u001b[0;34m**\u001b[0m\u001b[0mkwargs\u001b[0m\u001b[0;34m)\u001b[0m\u001b[0;34m)\u001b[0m\u001b[0;34m\u001b[0m\u001b[0;34m\u001b[0m\u001b[0m\n",
            "\u001b[0;32m/shared-libs/python3.7/py-core/lib/python3.7/site-packages/IPython/core/pylabtools.py\u001b[0m in \u001b[0;36mprint_figure\u001b[0;34m(fig, fmt, bbox_inches, **kwargs)\u001b[0m\n\u001b[1;32m    130\u001b[0m         \u001b[0mFigureCanvasBase\u001b[0m\u001b[0;34m(\u001b[0m\u001b[0mfig\u001b[0m\u001b[0;34m)\u001b[0m\u001b[0;34m\u001b[0m\u001b[0;34m\u001b[0m\u001b[0m\n\u001b[1;32m    131\u001b[0m \u001b[0;34m\u001b[0m\u001b[0m\n\u001b[0;32m--> 132\u001b[0;31m     \u001b[0mfig\u001b[0m\u001b[0;34m.\u001b[0m\u001b[0mcanvas\u001b[0m\u001b[0;34m.\u001b[0m\u001b[0mprint_figure\u001b[0m\u001b[0;34m(\u001b[0m\u001b[0mbytes_io\u001b[0m\u001b[0;34m,\u001b[0m \u001b[0;34m**\u001b[0m\u001b[0mkw\u001b[0m\u001b[0;34m)\u001b[0m\u001b[0;34m\u001b[0m\u001b[0;34m\u001b[0m\u001b[0m\n\u001b[0m\u001b[1;32m    133\u001b[0m     \u001b[0mdata\u001b[0m \u001b[0;34m=\u001b[0m \u001b[0mbytes_io\u001b[0m\u001b[0;34m.\u001b[0m\u001b[0mgetvalue\u001b[0m\u001b[0;34m(\u001b[0m\u001b[0;34m)\u001b[0m\u001b[0;34m\u001b[0m\u001b[0;34m\u001b[0m\u001b[0m\n\u001b[1;32m    134\u001b[0m     \u001b[0;32mif\u001b[0m \u001b[0mfmt\u001b[0m \u001b[0;34m==\u001b[0m \u001b[0;34m'svg'\u001b[0m\u001b[0;34m:\u001b[0m\u001b[0;34m\u001b[0m\u001b[0;34m\u001b[0m\u001b[0m\n",
            "\u001b[0;32m/shared-libs/python3.7/py/lib/python3.7/site-packages/matplotlib/backend_bases.py\u001b[0m in \u001b[0;36mprint_figure\u001b[0;34m(self, filename, dpi, facecolor, edgecolor, orientation, format, bbox_inches, pad_inches, bbox_extra_artists, backend, **kwargs)\u001b[0m\n\u001b[1;32m   2228\u001b[0m                        else suppress())\n\u001b[1;32m   2229\u001b[0m                 \u001b[0;32mwith\u001b[0m \u001b[0mctx\u001b[0m\u001b[0;34m:\u001b[0m\u001b[0;34m\u001b[0m\u001b[0;34m\u001b[0m\u001b[0m\n\u001b[0;32m-> 2230\u001b[0;31m                     \u001b[0mself\u001b[0m\u001b[0;34m.\u001b[0m\u001b[0mfigure\u001b[0m\u001b[0;34m.\u001b[0m\u001b[0mdraw\u001b[0m\u001b[0;34m(\u001b[0m\u001b[0mrenderer\u001b[0m\u001b[0;34m)\u001b[0m\u001b[0;34m\u001b[0m\u001b[0;34m\u001b[0m\u001b[0m\n\u001b[0m\u001b[1;32m   2231\u001b[0m \u001b[0;34m\u001b[0m\u001b[0m\n\u001b[1;32m   2232\u001b[0m             \u001b[0;32mif\u001b[0m \u001b[0mbbox_inches\u001b[0m\u001b[0;34m:\u001b[0m\u001b[0;34m\u001b[0m\u001b[0;34m\u001b[0m\u001b[0m\n",
            "\u001b[0;32m/shared-libs/python3.7/py/lib/python3.7/site-packages/matplotlib/artist.py\u001b[0m in \u001b[0;36mdraw_wrapper\u001b[0;34m(artist, renderer, *args, **kwargs)\u001b[0m\n\u001b[1;32m     72\u001b[0m     \u001b[0;34m@\u001b[0m\u001b[0mwraps\u001b[0m\u001b[0;34m(\u001b[0m\u001b[0mdraw\u001b[0m\u001b[0;34m)\u001b[0m\u001b[0;34m\u001b[0m\u001b[0;34m\u001b[0m\u001b[0m\n\u001b[1;32m     73\u001b[0m     \u001b[0;32mdef\u001b[0m \u001b[0mdraw_wrapper\u001b[0m\u001b[0;34m(\u001b[0m\u001b[0martist\u001b[0m\u001b[0;34m,\u001b[0m \u001b[0mrenderer\u001b[0m\u001b[0;34m,\u001b[0m \u001b[0;34m*\u001b[0m\u001b[0margs\u001b[0m\u001b[0;34m,\u001b[0m \u001b[0;34m**\u001b[0m\u001b[0mkwargs\u001b[0m\u001b[0;34m)\u001b[0m\u001b[0;34m:\u001b[0m\u001b[0;34m\u001b[0m\u001b[0;34m\u001b[0m\u001b[0m\n\u001b[0;32m---> 74\u001b[0;31m         \u001b[0mresult\u001b[0m \u001b[0;34m=\u001b[0m \u001b[0mdraw\u001b[0m\u001b[0;34m(\u001b[0m\u001b[0martist\u001b[0m\u001b[0;34m,\u001b[0m \u001b[0mrenderer\u001b[0m\u001b[0;34m,\u001b[0m \u001b[0;34m*\u001b[0m\u001b[0margs\u001b[0m\u001b[0;34m,\u001b[0m \u001b[0;34m**\u001b[0m\u001b[0mkwargs\u001b[0m\u001b[0;34m)\u001b[0m\u001b[0;34m\u001b[0m\u001b[0;34m\u001b[0m\u001b[0m\n\u001b[0m\u001b[1;32m     75\u001b[0m         \u001b[0;32mif\u001b[0m \u001b[0mrenderer\u001b[0m\u001b[0;34m.\u001b[0m\u001b[0m_rasterizing\u001b[0m\u001b[0;34m:\u001b[0m\u001b[0;34m\u001b[0m\u001b[0;34m\u001b[0m\u001b[0m\n\u001b[1;32m     76\u001b[0m             \u001b[0mrenderer\u001b[0m\u001b[0;34m.\u001b[0m\u001b[0mstop_rasterizing\u001b[0m\u001b[0;34m(\u001b[0m\u001b[0;34m)\u001b[0m\u001b[0;34m\u001b[0m\u001b[0;34m\u001b[0m\u001b[0m\n",
            "\u001b[0;32m/shared-libs/python3.7/py/lib/python3.7/site-packages/matplotlib/artist.py\u001b[0m in \u001b[0;36mdraw_wrapper\u001b[0;34m(artist, renderer, *args, **kwargs)\u001b[0m\n\u001b[1;32m     49\u001b[0m                 \u001b[0mrenderer\u001b[0m\u001b[0;34m.\u001b[0m\u001b[0mstart_filter\u001b[0m\u001b[0;34m(\u001b[0m\u001b[0;34m)\u001b[0m\u001b[0;34m\u001b[0m\u001b[0;34m\u001b[0m\u001b[0m\n\u001b[1;32m     50\u001b[0m \u001b[0;34m\u001b[0m\u001b[0m\n\u001b[0;32m---> 51\u001b[0;31m             \u001b[0;32mreturn\u001b[0m \u001b[0mdraw\u001b[0m\u001b[0;34m(\u001b[0m\u001b[0martist\u001b[0m\u001b[0;34m,\u001b[0m \u001b[0mrenderer\u001b[0m\u001b[0;34m,\u001b[0m \u001b[0;34m*\u001b[0m\u001b[0margs\u001b[0m\u001b[0;34m,\u001b[0m \u001b[0;34m**\u001b[0m\u001b[0mkwargs\u001b[0m\u001b[0;34m)\u001b[0m\u001b[0;34m\u001b[0m\u001b[0;34m\u001b[0m\u001b[0m\n\u001b[0m\u001b[1;32m     52\u001b[0m         \u001b[0;32mfinally\u001b[0m\u001b[0;34m:\u001b[0m\u001b[0;34m\u001b[0m\u001b[0;34m\u001b[0m\u001b[0m\n\u001b[1;32m     53\u001b[0m             \u001b[0;32mif\u001b[0m \u001b[0martist\u001b[0m\u001b[0;34m.\u001b[0m\u001b[0mget_agg_filter\u001b[0m\u001b[0;34m(\u001b[0m\u001b[0;34m)\u001b[0m \u001b[0;32mis\u001b[0m \u001b[0;32mnot\u001b[0m \u001b[0;32mNone\u001b[0m\u001b[0;34m:\u001b[0m\u001b[0;34m\u001b[0m\u001b[0;34m\u001b[0m\u001b[0m\n",
            "\u001b[0;32m/shared-libs/python3.7/py/lib/python3.7/site-packages/matplotlib/figure.py\u001b[0m in \u001b[0;36mdraw\u001b[0;34m(self, renderer)\u001b[0m\n\u001b[1;32m   2736\u001b[0m             \u001b[0mself\u001b[0m\u001b[0;34m.\u001b[0m\u001b[0mpatch\u001b[0m\u001b[0;34m.\u001b[0m\u001b[0mdraw\u001b[0m\u001b[0;34m(\u001b[0m\u001b[0mrenderer\u001b[0m\u001b[0;34m)\u001b[0m\u001b[0;34m\u001b[0m\u001b[0;34m\u001b[0m\u001b[0m\n\u001b[1;32m   2737\u001b[0m             mimage._draw_list_compositing_images(\n\u001b[0;32m-> 2738\u001b[0;31m                 renderer, self, artists, self.suppressComposite)\n\u001b[0m\u001b[1;32m   2739\u001b[0m \u001b[0;34m\u001b[0m\u001b[0m\n\u001b[1;32m   2740\u001b[0m             \u001b[0;32mfor\u001b[0m \u001b[0msfig\u001b[0m \u001b[0;32min\u001b[0m \u001b[0mself\u001b[0m\u001b[0;34m.\u001b[0m\u001b[0msubfigs\u001b[0m\u001b[0;34m:\u001b[0m\u001b[0;34m\u001b[0m\u001b[0;34m\u001b[0m\u001b[0m\n",
            "\u001b[0;32m/shared-libs/python3.7/py/lib/python3.7/site-packages/matplotlib/image.py\u001b[0m in \u001b[0;36m_draw_list_compositing_images\u001b[0;34m(renderer, parent, artists, suppress_composite)\u001b[0m\n\u001b[1;32m    130\u001b[0m     \u001b[0;32mif\u001b[0m \u001b[0mnot_composite\u001b[0m \u001b[0;32mor\u001b[0m \u001b[0;32mnot\u001b[0m \u001b[0mhas_images\u001b[0m\u001b[0;34m:\u001b[0m\u001b[0;34m\u001b[0m\u001b[0;34m\u001b[0m\u001b[0m\n\u001b[1;32m    131\u001b[0m         \u001b[0;32mfor\u001b[0m \u001b[0ma\u001b[0m \u001b[0;32min\u001b[0m \u001b[0martists\u001b[0m\u001b[0;34m:\u001b[0m\u001b[0;34m\u001b[0m\u001b[0;34m\u001b[0m\u001b[0m\n\u001b[0;32m--> 132\u001b[0;31m             \u001b[0ma\u001b[0m\u001b[0;34m.\u001b[0m\u001b[0mdraw\u001b[0m\u001b[0;34m(\u001b[0m\u001b[0mrenderer\u001b[0m\u001b[0;34m)\u001b[0m\u001b[0;34m\u001b[0m\u001b[0;34m\u001b[0m\u001b[0m\n\u001b[0m\u001b[1;32m    133\u001b[0m     \u001b[0;32melse\u001b[0m\u001b[0;34m:\u001b[0m\u001b[0;34m\u001b[0m\u001b[0;34m\u001b[0m\u001b[0m\n\u001b[1;32m    134\u001b[0m         \u001b[0;31m# Composite any adjacent images together\u001b[0m\u001b[0;34m\u001b[0m\u001b[0;34m\u001b[0m\u001b[0;34m\u001b[0m\u001b[0m\n",
            "\u001b[0;32m/shared-libs/python3.7/py/lib/python3.7/site-packages/matplotlib/artist.py\u001b[0m in \u001b[0;36mdraw_wrapper\u001b[0;34m(artist, renderer, *args, **kwargs)\u001b[0m\n\u001b[1;32m     49\u001b[0m                 \u001b[0mrenderer\u001b[0m\u001b[0;34m.\u001b[0m\u001b[0mstart_filter\u001b[0m\u001b[0;34m(\u001b[0m\u001b[0;34m)\u001b[0m\u001b[0;34m\u001b[0m\u001b[0;34m\u001b[0m\u001b[0m\n\u001b[1;32m     50\u001b[0m \u001b[0;34m\u001b[0m\u001b[0m\n\u001b[0;32m---> 51\u001b[0;31m             \u001b[0;32mreturn\u001b[0m \u001b[0mdraw\u001b[0m\u001b[0;34m(\u001b[0m\u001b[0martist\u001b[0m\u001b[0;34m,\u001b[0m \u001b[0mrenderer\u001b[0m\u001b[0;34m,\u001b[0m \u001b[0;34m*\u001b[0m\u001b[0margs\u001b[0m\u001b[0;34m,\u001b[0m \u001b[0;34m**\u001b[0m\u001b[0mkwargs\u001b[0m\u001b[0;34m)\u001b[0m\u001b[0;34m\u001b[0m\u001b[0;34m\u001b[0m\u001b[0m\n\u001b[0m\u001b[1;32m     52\u001b[0m         \u001b[0;32mfinally\u001b[0m\u001b[0;34m:\u001b[0m\u001b[0;34m\u001b[0m\u001b[0;34m\u001b[0m\u001b[0m\n\u001b[1;32m     53\u001b[0m             \u001b[0;32mif\u001b[0m \u001b[0martist\u001b[0m\u001b[0;34m.\u001b[0m\u001b[0mget_agg_filter\u001b[0m\u001b[0;34m(\u001b[0m\u001b[0;34m)\u001b[0m \u001b[0;32mis\u001b[0m \u001b[0;32mnot\u001b[0m \u001b[0;32mNone\u001b[0m\u001b[0;34m:\u001b[0m\u001b[0;34m\u001b[0m\u001b[0;34m\u001b[0m\u001b[0m\n",
            "\u001b[0;32m/shared-libs/python3.7/py/lib/python3.7/site-packages/matplotlib/_api/deprecation.py\u001b[0m in \u001b[0;36mwrapper\u001b[0;34m(*inner_args, **inner_kwargs)\u001b[0m\n\u001b[1;32m    429\u001b[0m                          \u001b[0;32melse\u001b[0m \u001b[0mdeprecation_addendum\u001b[0m\u001b[0;34m,\u001b[0m\u001b[0;34m\u001b[0m\u001b[0;34m\u001b[0m\u001b[0m\n\u001b[1;32m    430\u001b[0m                 **kwargs)\n\u001b[0;32m--> 431\u001b[0;31m         \u001b[0;32mreturn\u001b[0m \u001b[0mfunc\u001b[0m\u001b[0;34m(\u001b[0m\u001b[0;34m*\u001b[0m\u001b[0minner_args\u001b[0m\u001b[0;34m,\u001b[0m \u001b[0;34m**\u001b[0m\u001b[0minner_kwargs\u001b[0m\u001b[0;34m)\u001b[0m\u001b[0;34m\u001b[0m\u001b[0;34m\u001b[0m\u001b[0m\n\u001b[0m\u001b[1;32m    432\u001b[0m \u001b[0;34m\u001b[0m\u001b[0m\n\u001b[1;32m    433\u001b[0m     \u001b[0;32mreturn\u001b[0m \u001b[0mwrapper\u001b[0m\u001b[0;34m\u001b[0m\u001b[0;34m\u001b[0m\u001b[0m\n",
            "\u001b[0;32m/shared-libs/python3.7/py/lib/python3.7/site-packages/matplotlib/axes/_base.py\u001b[0m in \u001b[0;36mdraw\u001b[0;34m(self, renderer, inframe)\u001b[0m\n\u001b[1;32m   2923\u001b[0m             \u001b[0mrenderer\u001b[0m\u001b[0;34m.\u001b[0m\u001b[0mstop_rasterizing\u001b[0m\u001b[0;34m(\u001b[0m\u001b[0;34m)\u001b[0m\u001b[0;34m\u001b[0m\u001b[0;34m\u001b[0m\u001b[0m\n\u001b[1;32m   2924\u001b[0m \u001b[0;34m\u001b[0m\u001b[0m\n\u001b[0;32m-> 2925\u001b[0;31m         \u001b[0mmimage\u001b[0m\u001b[0;34m.\u001b[0m\u001b[0m_draw_list_compositing_images\u001b[0m\u001b[0;34m(\u001b[0m\u001b[0mrenderer\u001b[0m\u001b[0;34m,\u001b[0m \u001b[0mself\u001b[0m\u001b[0;34m,\u001b[0m \u001b[0martists\u001b[0m\u001b[0;34m)\u001b[0m\u001b[0;34m\u001b[0m\u001b[0;34m\u001b[0m\u001b[0m\n\u001b[0m\u001b[1;32m   2926\u001b[0m \u001b[0;34m\u001b[0m\u001b[0m\n\u001b[1;32m   2927\u001b[0m         \u001b[0mrenderer\u001b[0m\u001b[0;34m.\u001b[0m\u001b[0mclose_group\u001b[0m\u001b[0;34m(\u001b[0m\u001b[0;34m'axes'\u001b[0m\u001b[0;34m)\u001b[0m\u001b[0;34m\u001b[0m\u001b[0;34m\u001b[0m\u001b[0m\n",
            "\u001b[0;32m/shared-libs/python3.7/py/lib/python3.7/site-packages/matplotlib/image.py\u001b[0m in \u001b[0;36m_draw_list_compositing_images\u001b[0;34m(renderer, parent, artists, suppress_composite)\u001b[0m\n\u001b[1;32m    130\u001b[0m     \u001b[0;32mif\u001b[0m \u001b[0mnot_composite\u001b[0m \u001b[0;32mor\u001b[0m \u001b[0;32mnot\u001b[0m \u001b[0mhas_images\u001b[0m\u001b[0;34m:\u001b[0m\u001b[0;34m\u001b[0m\u001b[0;34m\u001b[0m\u001b[0m\n\u001b[1;32m    131\u001b[0m         \u001b[0;32mfor\u001b[0m \u001b[0ma\u001b[0m \u001b[0;32min\u001b[0m \u001b[0martists\u001b[0m\u001b[0;34m:\u001b[0m\u001b[0;34m\u001b[0m\u001b[0;34m\u001b[0m\u001b[0m\n\u001b[0;32m--> 132\u001b[0;31m             \u001b[0ma\u001b[0m\u001b[0;34m.\u001b[0m\u001b[0mdraw\u001b[0m\u001b[0;34m(\u001b[0m\u001b[0mrenderer\u001b[0m\u001b[0;34m)\u001b[0m\u001b[0;34m\u001b[0m\u001b[0;34m\u001b[0m\u001b[0m\n\u001b[0m\u001b[1;32m    133\u001b[0m     \u001b[0;32melse\u001b[0m\u001b[0;34m:\u001b[0m\u001b[0;34m\u001b[0m\u001b[0;34m\u001b[0m\u001b[0m\n\u001b[1;32m    134\u001b[0m         \u001b[0;31m# Composite any adjacent images together\u001b[0m\u001b[0;34m\u001b[0m\u001b[0;34m\u001b[0m\u001b[0;34m\u001b[0m\u001b[0m\n",
            "\u001b[0;32m/shared-libs/python3.7/py/lib/python3.7/site-packages/matplotlib/artist.py\u001b[0m in \u001b[0;36mdraw_wrapper\u001b[0;34m(artist, renderer, *args, **kwargs)\u001b[0m\n\u001b[1;32m     49\u001b[0m                 \u001b[0mrenderer\u001b[0m\u001b[0;34m.\u001b[0m\u001b[0mstart_filter\u001b[0m\u001b[0;34m(\u001b[0m\u001b[0;34m)\u001b[0m\u001b[0;34m\u001b[0m\u001b[0;34m\u001b[0m\u001b[0m\n\u001b[1;32m     50\u001b[0m \u001b[0;34m\u001b[0m\u001b[0m\n\u001b[0;32m---> 51\u001b[0;31m             \u001b[0;32mreturn\u001b[0m \u001b[0mdraw\u001b[0m\u001b[0;34m(\u001b[0m\u001b[0martist\u001b[0m\u001b[0;34m,\u001b[0m \u001b[0mrenderer\u001b[0m\u001b[0;34m,\u001b[0m \u001b[0;34m*\u001b[0m\u001b[0margs\u001b[0m\u001b[0;34m,\u001b[0m \u001b[0;34m**\u001b[0m\u001b[0mkwargs\u001b[0m\u001b[0;34m)\u001b[0m\u001b[0;34m\u001b[0m\u001b[0;34m\u001b[0m\u001b[0m\n\u001b[0m\u001b[1;32m     52\u001b[0m         \u001b[0;32mfinally\u001b[0m\u001b[0;34m:\u001b[0m\u001b[0;34m\u001b[0m\u001b[0;34m\u001b[0m\u001b[0m\n\u001b[1;32m     53\u001b[0m             \u001b[0;32mif\u001b[0m \u001b[0martist\u001b[0m\u001b[0;34m.\u001b[0m\u001b[0mget_agg_filter\u001b[0m\u001b[0;34m(\u001b[0m\u001b[0;34m)\u001b[0m \u001b[0;32mis\u001b[0m \u001b[0;32mnot\u001b[0m \u001b[0;32mNone\u001b[0m\u001b[0;34m:\u001b[0m\u001b[0;34m\u001b[0m\u001b[0;34m\u001b[0m\u001b[0m\n",
            "\u001b[0;32m/shared-libs/python3.7/py/lib/python3.7/site-packages/matplotlib/axis.py\u001b[0m in \u001b[0;36mdraw\u001b[0;34m(self, renderer, *args, **kwargs)\u001b[0m\n\u001b[1;32m   1128\u001b[0m         \u001b[0mrenderer\u001b[0m\u001b[0;34m.\u001b[0m\u001b[0mopen_group\u001b[0m\u001b[0;34m(\u001b[0m\u001b[0m__name__\u001b[0m\u001b[0;34m,\u001b[0m \u001b[0mgid\u001b[0m\u001b[0;34m=\u001b[0m\u001b[0mself\u001b[0m\u001b[0;34m.\u001b[0m\u001b[0mget_gid\u001b[0m\u001b[0;34m(\u001b[0m\u001b[0;34m)\u001b[0m\u001b[0;34m)\u001b[0m\u001b[0;34m\u001b[0m\u001b[0;34m\u001b[0m\u001b[0m\n\u001b[1;32m   1129\u001b[0m \u001b[0;34m\u001b[0m\u001b[0m\n\u001b[0;32m-> 1130\u001b[0;31m         \u001b[0mticks_to_draw\u001b[0m \u001b[0;34m=\u001b[0m \u001b[0mself\u001b[0m\u001b[0;34m.\u001b[0m\u001b[0m_update_ticks\u001b[0m\u001b[0;34m(\u001b[0m\u001b[0;34m)\u001b[0m\u001b[0;34m\u001b[0m\u001b[0;34m\u001b[0m\u001b[0m\n\u001b[0m\u001b[1;32m   1131\u001b[0m         ticklabelBoxes, ticklabelBoxes2 = self._get_tick_bboxes(ticks_to_draw,\n\u001b[1;32m   1132\u001b[0m                                                                 renderer)\n",
            "\u001b[0;32m/shared-libs/python3.7/py/lib/python3.7/site-packages/matplotlib/axis.py\u001b[0m in \u001b[0;36m_update_ticks\u001b[0;34m(self)\u001b[0m\n\u001b[1;32m   1015\u001b[0m         \u001b[0mthe\u001b[0m \u001b[0maxes\u001b[0m\u001b[0;34m.\u001b[0m  \u001b[0mReturn\u001b[0m \u001b[0mthe\u001b[0m \u001b[0mlist\u001b[0m \u001b[0mof\u001b[0m \u001b[0mticks\u001b[0m \u001b[0mthat\u001b[0m \u001b[0mwill\u001b[0m \u001b[0mbe\u001b[0m \u001b[0mdrawn\u001b[0m\u001b[0;34m.\u001b[0m\u001b[0;34m\u001b[0m\u001b[0;34m\u001b[0m\u001b[0m\n\u001b[1;32m   1016\u001b[0m         \"\"\"\n\u001b[0;32m-> 1017\u001b[0;31m         \u001b[0mmajor_locs\u001b[0m \u001b[0;34m=\u001b[0m \u001b[0mself\u001b[0m\u001b[0;34m.\u001b[0m\u001b[0mget_majorticklocs\u001b[0m\u001b[0;34m(\u001b[0m\u001b[0;34m)\u001b[0m\u001b[0;34m\u001b[0m\u001b[0;34m\u001b[0m\u001b[0m\n\u001b[0m\u001b[1;32m   1018\u001b[0m         \u001b[0mmajor_labels\u001b[0m \u001b[0;34m=\u001b[0m \u001b[0mself\u001b[0m\u001b[0;34m.\u001b[0m\u001b[0mmajor\u001b[0m\u001b[0;34m.\u001b[0m\u001b[0mformatter\u001b[0m\u001b[0;34m.\u001b[0m\u001b[0mformat_ticks\u001b[0m\u001b[0;34m(\u001b[0m\u001b[0mmajor_locs\u001b[0m\u001b[0;34m)\u001b[0m\u001b[0;34m\u001b[0m\u001b[0;34m\u001b[0m\u001b[0m\n\u001b[1;32m   1019\u001b[0m         \u001b[0mmajor_ticks\u001b[0m \u001b[0;34m=\u001b[0m \u001b[0mself\u001b[0m\u001b[0;34m.\u001b[0m\u001b[0mget_major_ticks\u001b[0m\u001b[0;34m(\u001b[0m\u001b[0mlen\u001b[0m\u001b[0;34m(\u001b[0m\u001b[0mmajor_locs\u001b[0m\u001b[0;34m)\u001b[0m\u001b[0;34m)\u001b[0m\u001b[0;34m\u001b[0m\u001b[0;34m\u001b[0m\u001b[0m\n",
            "\u001b[0;32m/shared-libs/python3.7/py/lib/python3.7/site-packages/matplotlib/axis.py\u001b[0m in \u001b[0;36mget_majorticklocs\u001b[0;34m(self)\u001b[0m\n\u001b[1;32m   1247\u001b[0m     \u001b[0;32mdef\u001b[0m \u001b[0mget_majorticklocs\u001b[0m\u001b[0;34m(\u001b[0m\u001b[0mself\u001b[0m\u001b[0;34m)\u001b[0m\u001b[0;34m:\u001b[0m\u001b[0;34m\u001b[0m\u001b[0;34m\u001b[0m\u001b[0m\n\u001b[1;32m   1248\u001b[0m         \u001b[0;34m\"\"\"Return this Axis' major tick locations in data coordinates.\"\"\"\u001b[0m\u001b[0;34m\u001b[0m\u001b[0;34m\u001b[0m\u001b[0m\n\u001b[0;32m-> 1249\u001b[0;31m         \u001b[0;32mreturn\u001b[0m \u001b[0mself\u001b[0m\u001b[0;34m.\u001b[0m\u001b[0mmajor\u001b[0m\u001b[0;34m.\u001b[0m\u001b[0mlocator\u001b[0m\u001b[0;34m(\u001b[0m\u001b[0;34m)\u001b[0m\u001b[0;34m\u001b[0m\u001b[0;34m\u001b[0m\u001b[0m\n\u001b[0m\u001b[1;32m   1250\u001b[0m \u001b[0;34m\u001b[0m\u001b[0m\n\u001b[1;32m   1251\u001b[0m     \u001b[0;32mdef\u001b[0m \u001b[0mget_minorticklocs\u001b[0m\u001b[0;34m(\u001b[0m\u001b[0mself\u001b[0m\u001b[0;34m)\u001b[0m\u001b[0;34m:\u001b[0m\u001b[0;34m\u001b[0m\u001b[0;34m\u001b[0m\u001b[0m\n",
            "\u001b[0;32m/shared-libs/python3.7/py/lib/python3.7/site-packages/matplotlib/ticker.py\u001b[0m in \u001b[0;36m__call__\u001b[0;34m(self)\u001b[0m\n\u001b[1;32m   2262\u001b[0m     \u001b[0;32mdef\u001b[0m \u001b[0m__call__\u001b[0m\u001b[0;34m(\u001b[0m\u001b[0mself\u001b[0m\u001b[0;34m)\u001b[0m\u001b[0;34m:\u001b[0m\u001b[0;34m\u001b[0m\u001b[0;34m\u001b[0m\u001b[0m\n\u001b[1;32m   2263\u001b[0m         \u001b[0mvmin\u001b[0m\u001b[0;34m,\u001b[0m \u001b[0mvmax\u001b[0m \u001b[0;34m=\u001b[0m \u001b[0mself\u001b[0m\u001b[0;34m.\u001b[0m\u001b[0maxis\u001b[0m\u001b[0;34m.\u001b[0m\u001b[0mget_view_interval\u001b[0m\u001b[0;34m(\u001b[0m\u001b[0;34m)\u001b[0m\u001b[0;34m\u001b[0m\u001b[0;34m\u001b[0m\u001b[0m\n\u001b[0;32m-> 2264\u001b[0;31m         \u001b[0;32mreturn\u001b[0m \u001b[0mself\u001b[0m\u001b[0;34m.\u001b[0m\u001b[0mtick_values\u001b[0m\u001b[0;34m(\u001b[0m\u001b[0mvmin\u001b[0m\u001b[0;34m,\u001b[0m \u001b[0mvmax\u001b[0m\u001b[0;34m)\u001b[0m\u001b[0;34m\u001b[0m\u001b[0;34m\u001b[0m\u001b[0m\n\u001b[0m\u001b[1;32m   2265\u001b[0m \u001b[0;34m\u001b[0m\u001b[0m\n\u001b[1;32m   2266\u001b[0m     \u001b[0;32mdef\u001b[0m \u001b[0mtick_values\u001b[0m\u001b[0;34m(\u001b[0m\u001b[0mself\u001b[0m\u001b[0;34m,\u001b[0m \u001b[0mvmin\u001b[0m\u001b[0;34m,\u001b[0m \u001b[0mvmax\u001b[0m\u001b[0;34m)\u001b[0m\u001b[0;34m:\u001b[0m\u001b[0;34m\u001b[0m\u001b[0;34m\u001b[0m\u001b[0m\n",
            "\u001b[0;32m/shared-libs/python3.7/py/lib/python3.7/site-packages/matplotlib/ticker.py\u001b[0m in \u001b[0;36mtick_values\u001b[0;34m(self, vmin, vmax)\u001b[0m\n\u001b[1;32m   2270\u001b[0m         vmin, vmax = mtransforms.nonsingular(\n\u001b[1;32m   2271\u001b[0m             vmin, vmax, expander=1e-13, tiny=1e-14)\n\u001b[0;32m-> 2272\u001b[0;31m         \u001b[0mlocs\u001b[0m \u001b[0;34m=\u001b[0m \u001b[0mself\u001b[0m\u001b[0;34m.\u001b[0m\u001b[0m_raw_ticks\u001b[0m\u001b[0;34m(\u001b[0m\u001b[0mvmin\u001b[0m\u001b[0;34m,\u001b[0m \u001b[0mvmax\u001b[0m\u001b[0;34m)\u001b[0m\u001b[0;34m\u001b[0m\u001b[0;34m\u001b[0m\u001b[0m\n\u001b[0m\u001b[1;32m   2273\u001b[0m \u001b[0;34m\u001b[0m\u001b[0m\n\u001b[1;32m   2274\u001b[0m         \u001b[0mprune\u001b[0m \u001b[0;34m=\u001b[0m \u001b[0mself\u001b[0m\u001b[0;34m.\u001b[0m\u001b[0m_prune\u001b[0m\u001b[0;34m\u001b[0m\u001b[0;34m\u001b[0m\u001b[0m\n",
            "\u001b[0;32m/shared-libs/python3.7/py/lib/python3.7/site-packages/matplotlib/ticker.py\u001b[0m in \u001b[0;36m_raw_ticks\u001b[0;34m(self, vmin, vmax)\u001b[0m\n\u001b[1;32m   2209\u001b[0m         \u001b[0;32mif\u001b[0m \u001b[0mself\u001b[0m\u001b[0;34m.\u001b[0m\u001b[0m_nbins\u001b[0m \u001b[0;34m==\u001b[0m \u001b[0;34m'auto'\u001b[0m\u001b[0;34m:\u001b[0m\u001b[0;34m\u001b[0m\u001b[0;34m\u001b[0m\u001b[0m\n\u001b[1;32m   2210\u001b[0m             \u001b[0;32mif\u001b[0m \u001b[0mself\u001b[0m\u001b[0;34m.\u001b[0m\u001b[0maxis\u001b[0m \u001b[0;32mis\u001b[0m \u001b[0;32mnot\u001b[0m \u001b[0;32mNone\u001b[0m\u001b[0;34m:\u001b[0m\u001b[0;34m\u001b[0m\u001b[0;34m\u001b[0m\u001b[0m\n\u001b[0;32m-> 2211\u001b[0;31m                 nbins = np.clip(self.axis.get_tick_space(),\n\u001b[0m\u001b[1;32m   2212\u001b[0m                                 max(1, self._min_n_ticks - 1), 9)\n\u001b[1;32m   2213\u001b[0m             \u001b[0;32melse\u001b[0m\u001b[0;34m:\u001b[0m\u001b[0;34m\u001b[0m\u001b[0;34m\u001b[0m\u001b[0m\n",
            "\u001b[0;32m/shared-libs/python3.7/py/lib/python3.7/site-packages/matplotlib/axis.py\u001b[0m in \u001b[0;36mget_tick_space\u001b[0;34m(self)\u001b[0m\n\u001b[1;32m   2257\u001b[0m         \u001b[0msize\u001b[0m \u001b[0;34m=\u001b[0m \u001b[0mself\u001b[0m\u001b[0;34m.\u001b[0m\u001b[0m_get_tick_label_size\u001b[0m\u001b[0;34m(\u001b[0m\u001b[0;34m'x'\u001b[0m\u001b[0;34m)\u001b[0m \u001b[0;34m*\u001b[0m \u001b[0;36m3\u001b[0m\u001b[0;34m\u001b[0m\u001b[0;34m\u001b[0m\u001b[0m\n\u001b[1;32m   2258\u001b[0m         \u001b[0;32mif\u001b[0m \u001b[0msize\u001b[0m \u001b[0;34m>\u001b[0m \u001b[0;36m0\u001b[0m\u001b[0;34m:\u001b[0m\u001b[0;34m\u001b[0m\u001b[0;34m\u001b[0m\u001b[0m\n\u001b[0;32m-> 2259\u001b[0;31m             \u001b[0;32mreturn\u001b[0m \u001b[0mint\u001b[0m\u001b[0;34m(\u001b[0m\u001b[0mnp\u001b[0m\u001b[0;34m.\u001b[0m\u001b[0mfloor\u001b[0m\u001b[0;34m(\u001b[0m\u001b[0mlength\u001b[0m \u001b[0;34m/\u001b[0m \u001b[0msize\u001b[0m\u001b[0;34m)\u001b[0m\u001b[0;34m)\u001b[0m\u001b[0;34m\u001b[0m\u001b[0;34m\u001b[0m\u001b[0m\n\u001b[0m\u001b[1;32m   2260\u001b[0m         \u001b[0;32melse\u001b[0m\u001b[0;34m:\u001b[0m\u001b[0;34m\u001b[0m\u001b[0;34m\u001b[0m\u001b[0m\n\u001b[1;32m   2261\u001b[0m             \u001b[0;32mreturn\u001b[0m \u001b[0;36m2\u001b[0m\u001b[0;34m**\u001b[0m\u001b[0;36m31\u001b[0m \u001b[0;34m-\u001b[0m \u001b[0;36m1\u001b[0m\u001b[0;34m\u001b[0m\u001b[0;34m\u001b[0m\u001b[0m\n",
            "\u001b[0;31mValueError\u001b[0m: cannot convert float NaN to integer"
          ]
        },
        {
          "data": {
            "text/plain": "<Figure size 864x864 with 1 Axes>"
          },
          "metadata": {
            "needs_background": "light"
          },
          "output_type": "display_data"
        }
      ]
    },
    {
      "cell_type": "code",
      "metadata": {
        "tags": [],
        "cell_id": "00020-5be48bdd-f5c3-4462-8bb4-ef15143215e3",
        "deepnote_to_be_reexecuted": false,
        "source_hash": "8c84a11d",
        "execution_start": 1620102874831,
        "execution_millis": 18,
        "deepnote_cell_type": "code"
      },
      "source": "spray.head()",
      "execution_count": 118,
      "outputs": [
        {
          "output_type": "execute_result",
          "execution_count": 118,
          "data": {
            "application/vnd.deepnote.dataframe.v2+json": {
              "error": "Traceback (most recent call last):\n  File \"/shared-libs/code/variable_explorer.py\", line 143, in dataframe_formatter\n    return { MIME_TYPE: describe_pd_dataframe(df) }\n  File \"/shared-libs/code/variable_explorer_helpers.py\", line 154, in describe_pd_dataframe\n    if (is_type_numeric(column.dtype)):\n  File \"/shared-libs/code/variable_explorer_helpers.py\", line 13, in is_type_numeric\n    return np.issubdtype(dtype, np.number)\n  File \"/shared-libs/python3.7/py/lib/python3.7/site-packages/numpy/core/numerictypes.py\", line 388, in issubdtype\n    arg1 = dtype(arg1).type\nTypeError: Cannot interpret '<geopandas.array.GeometryDtype object at 0x7f176ab14c10>' as a data type\n"
            },
            "text/plain": "   Unnamed: 0        time   latitude  longitude  year month day  \\\n0           0  6:56:58 PM  42.391623 -88.089163  2011    08  29   \n1           1  6:57:08 PM  42.391348 -88.089163  2011    08  29   \n2           2  6:57:18 PM  42.391022 -88.089157  2011    08  29   \n3           3  6:57:28 PM  42.390637 -88.089158  2011    08  29   \n4           4  6:57:38 PM  42.390410 -88.088858  2011    08  29   \n\n                     geometry  \n0  POINT (-88.08916 42.39162)  \n1  POINT (-88.08916 42.39135)  \n2  POINT (-88.08916 42.39102)  \n3  POINT (-88.08916 42.39064)  \n4  POINT (-88.08886 42.39041)  ",
            "text/html": "<div>\n<style scoped>\n    .dataframe tbody tr th:only-of-type {\n        vertical-align: middle;\n    }\n\n    .dataframe tbody tr th {\n        vertical-align: top;\n    }\n\n    .dataframe thead th {\n        text-align: right;\n    }\n</style>\n<table border=\"1\" class=\"dataframe\">\n  <thead>\n    <tr style=\"text-align: right;\">\n      <th></th>\n      <th>Unnamed: 0</th>\n      <th>time</th>\n      <th>latitude</th>\n      <th>longitude</th>\n      <th>year</th>\n      <th>month</th>\n      <th>day</th>\n      <th>geometry</th>\n    </tr>\n  </thead>\n  <tbody>\n    <tr>\n      <th>0</th>\n      <td>0</td>\n      <td>6:56:58 PM</td>\n      <td>42.391623</td>\n      <td>-88.089163</td>\n      <td>2011</td>\n      <td>08</td>\n      <td>29</td>\n      <td>POINT (-88.08916 42.39162)</td>\n    </tr>\n    <tr>\n      <th>1</th>\n      <td>1</td>\n      <td>6:57:08 PM</td>\n      <td>42.391348</td>\n      <td>-88.089163</td>\n      <td>2011</td>\n      <td>08</td>\n      <td>29</td>\n      <td>POINT (-88.08916 42.39135)</td>\n    </tr>\n    <tr>\n      <th>2</th>\n      <td>2</td>\n      <td>6:57:18 PM</td>\n      <td>42.391022</td>\n      <td>-88.089157</td>\n      <td>2011</td>\n      <td>08</td>\n      <td>29</td>\n      <td>POINT (-88.08916 42.39102)</td>\n    </tr>\n    <tr>\n      <th>3</th>\n      <td>3</td>\n      <td>6:57:28 PM</td>\n      <td>42.390637</td>\n      <td>-88.089158</td>\n      <td>2011</td>\n      <td>08</td>\n      <td>29</td>\n      <td>POINT (-88.08916 42.39064)</td>\n    </tr>\n    <tr>\n      <th>4</th>\n      <td>4</td>\n      <td>6:57:38 PM</td>\n      <td>42.390410</td>\n      <td>-88.088858</td>\n      <td>2011</td>\n      <td>08</td>\n      <td>29</td>\n      <td>POINT (-88.08886 42.39041)</td>\n    </tr>\n  </tbody>\n</table>\n</div>"
          },
          "metadata": {}
        }
      ]
    },
    {
      "cell_type": "code",
      "metadata": {
        "tags": [],
        "cell_id": "00021-f85d2812-5085-48c4-9afd-f05bb3051146",
        "deepnote_to_be_reexecuted": false,
        "source_hash": "fa36ba8",
        "execution_start": 1620102874851,
        "execution_millis": 13,
        "deepnote_cell_type": "code"
      },
      "source": "geo_train_df['month'].unique()",
      "execution_count": 119,
      "outputs": [
        {
          "output_type": "execute_result",
          "execution_count": 119,
          "data": {
            "text/plain": "array(['05', '06', '07', '08', '09', '10'], dtype=object)"
          },
          "metadata": {}
        }
      ]
    },
    {
      "cell_type": "code",
      "metadata": {
        "tags": [],
        "cell_id": "00022-d9184b09-b7f8-43af-92a7-b56ecbd274df",
        "deepnote_to_be_reexecuted": false,
        "source_hash": "4278ec55",
        "execution_start": 1620102876185,
        "execution_millis": 7,
        "deepnote_cell_type": "code"
      },
      "source": "geo_spray_df['month'].unique()",
      "execution_count": 120,
      "outputs": [
        {
          "output_type": "execute_result",
          "execution_count": 120,
          "data": {
            "text/plain": "array(['08', '09', '07'], dtype=object)"
          },
          "metadata": {}
        }
      ]
    },
    {
      "cell_type": "code",
      "metadata": {
        "tags": [],
        "cell_id": "00023-fbccfc0f-8fe0-4e25-80e8-b995dbd7ffb9",
        "deepnote_to_be_reexecuted": false,
        "source_hash": "b623e53d",
        "execution_start": 1620102876477,
        "execution_millis": 0,
        "deepnote_cell_type": "code"
      },
      "source": "",
      "execution_count": 120,
      "outputs": []
    },
    {
      "cell_type": "code",
      "source": "",
      "metadata": {
        "tags": [],
        "cell_id": "00026-7f12e83a-de52-4ea6-82a2-c60da36f2ec0",
        "deepnote_to_be_reexecuted": false,
        "source_hash": "b623e53d",
        "execution_start": 1620102876727,
        "execution_millis": 4,
        "deepnote_cell_type": "code"
      },
      "outputs": [],
      "execution_count": 120
    },
    {
      "cell_type": "markdown",
      "source": "# Cluster",
      "metadata": {
        "tags": [],
        "cell_id": "00027-ec8876a0-c872-4b3d-9821-71ef0dd79769",
        "deepnote_cell_type": "text-cell-h1"
      }
    },
    {
      "cell_type": "code",
      "source": "from sklearn.preprocessing import StandardScaler\nfrom sklearn.cluster import KMeans\nfrom sklearn.metrics import silhouette_score",
      "metadata": {
        "tags": [],
        "cell_id": "00027-f2fa5abf-6a4b-48ac-8437-5072310cd948",
        "deepnote_to_be_reexecuted": false,
        "source_hash": "21c8de86",
        "execution_start": 1620102878391,
        "execution_millis": 2,
        "deepnote_cell_type": "code"
      },
      "outputs": [],
      "execution_count": 121
    },
    {
      "cell_type": "code",
      "source": "#testing clustering geo locations",
      "metadata": {
        "tags": [],
        "cell_id": "00026-ed062196-2a59-4291-9394-980dc1cb9e67",
        "deepnote_to_be_reexecuted": false,
        "source_hash": "3ee6dcbd",
        "execution_start": 1620102878795,
        "execution_millis": 10,
        "deepnote_cell_type": "code"
      },
      "outputs": [],
      "execution_count": 122
    },
    {
      "cell_type": "code",
      "metadata": {
        "tags": [],
        "cell_id": "00024-e64c7359-00c7-4d7b-8c59-ca21b5748935",
        "deepnote_to_be_reexecuted": false,
        "source_hash": "f7843a04",
        "execution_start": 1620103080166,
        "execution_millis": 2,
        "deepnote_cell_type": "code"
      },
      "source": "geo_train = geo_train_df.copy()",
      "execution_count": 151,
      "outputs": []
    },
    {
      "cell_type": "code",
      "source": "#with 5 clusters for chicago state location\nk = 5\n\n#initiate ss\nss = StandardScaler()\nX_sc = ss.fit_transform(geo_train.loc[:, ['longitude','latitude']])",
      "metadata": {
        "tags": [],
        "cell_id": "00031-f69b7ee6-0657-4ab9-8d69-2f535ecb32f0",
        "deepnote_to_be_reexecuted": false,
        "source_hash": "5e21d4a4",
        "execution_start": 1620103081562,
        "execution_millis": 2,
        "deepnote_cell_type": "code"
      },
      "outputs": [],
      "execution_count": 152
    },
    {
      "cell_type": "code",
      "source": "# scores = []\n# for k in range(40, 100):\n#     cl = KMeans(n_clusters=k)\n#     cl.fit(X_sc)\n#     inertia = cl.inertia_\n#     sil = silhouette_score(X_sc, cl.labels_)\n#     scores.append([k, inertia, sil])\n    \n# score_df = pd.DataFrame(scores)\n# score_df.columns = ['k', 'inertia', 'silhouette']",
      "metadata": {
        "tags": [],
        "cell_id": "00031-7a93dd6d-4433-470a-a7a8-7973a1154085",
        "deepnote_to_be_reexecuted": false,
        "source_hash": "d3cfdaeb",
        "execution_start": 1620103023039,
        "execution_millis": 1,
        "deepnote_cell_type": "code"
      },
      "outputs": [],
      "execution_count": 141
    },
    {
      "cell_type": "code",
      "source": "# fig, axes = plt.subplots(1, 2, figsize=(14, 7))\n# axes[0].plot(score_df.k, score_df.inertia)\n# axes[0].set_title('Inertia over k')\n# axes[1].plot(score_df.k, score_df.silhouette);\n# axes[1].set_title('Silhouette Score over k')",
      "metadata": {
        "tags": [],
        "cell_id": "00035-be84c947-6101-4271-8b69-5172afa4825d",
        "deepnote_to_be_reexecuted": false,
        "source_hash": "42be74d1",
        "execution_start": 1620103024396,
        "execution_millis": 1,
        "deepnote_cell_type": "code"
      },
      "outputs": [],
      "execution_count": 142
    },
    {
      "cell_type": "code",
      "source": "#initiate kmeans\nkm = KMeans(n_clusters=k, random_state=42)\nkm.fit(X_sc)\ngeo_train['cluster'] = km.labels_ ",
      "metadata": {
        "tags": [],
        "cell_id": "00032-27660714-1868-474e-a90a-114952a255c6",
        "deepnote_to_be_reexecuted": false,
        "source_hash": "506923f4",
        "execution_start": 1620103084179,
        "execution_millis": 143,
        "deepnote_cell_type": "code"
      },
      "outputs": [],
      "execution_count": 153
    },
    {
      "cell_type": "code",
      "source": "geo_train.head()",
      "metadata": {
        "tags": [],
        "cell_id": "00035-4b42d926-f44d-43e3-8b32-5f52c846594c",
        "deepnote_to_be_reexecuted": false,
        "source_hash": "bbe10a5c",
        "execution_start": 1620103089276,
        "execution_millis": 54,
        "deepnote_cell_type": "code"
      },
      "outputs": [
        {
          "output_type": "execute_result",
          "execution_count": 154,
          "data": {
            "application/vnd.deepnote.dataframe.v2+json": {
              "error": "Traceback (most recent call last):\n  File \"/shared-libs/code/variable_explorer.py\", line 143, in dataframe_formatter\n    return { MIME_TYPE: describe_pd_dataframe(df) }\n  File \"/shared-libs/code/variable_explorer_helpers.py\", line 154, in describe_pd_dataframe\n    if (is_type_numeric(column.dtype)):\n  File \"/shared-libs/code/variable_explorer_helpers.py\", line 13, in is_type_numeric\n    return np.issubdtype(dtype, np.number)\n  File \"/shared-libs/python3.7/py/lib/python3.7/site-packages/numpy/core/numerictypes.py\", line 388, in issubdtype\n    arg1 = dtype(arg1).type\nTypeError: Cannot interpret '<geopandas.array.GeometryDtype object at 0x7f176ab14c10>' as a data type\n"
            },
            "text/plain": "                                             address                 species  \\\n0  4100 North Oak Park Avenue, Chicago, IL 60634,...  CULEX PIPIENS/RESTUANS   \n1  4100 North Oak Park Avenue, Chicago, IL 60634,...          CULEX RESTUANS   \n2  6200 North Mandell Avenue, Chicago, IL 60646, USA          CULEX RESTUANS   \n3    7900 West Foster Avenue, Chicago, IL 60656, USA  CULEX PIPIENS/RESTUANS   \n4    7900 West Foster Avenue, Chicago, IL 60656, USA          CULEX RESTUANS   \n\n   block           street  trap             addressnumberandstreet   latitude  \\\n0     41   N OAK PARK AVE  T002  4100  N OAK PARK AVE, Chicago, IL  41.954690   \n1     41   N OAK PARK AVE  T002  4100  N OAK PARK AVE, Chicago, IL  41.954690   \n2     62    N MANDELL AVE  T007   6200  N MANDELL AVE, Chicago, IL  41.994991   \n3     79     W FOSTER AVE  T015    7900  W FOSTER AVE, Chicago, IL  41.974089   \n4     79     W FOSTER AVE  T015    7900  W FOSTER AVE, Chicago, IL  41.974089   \n\n   longitude  addressaccuracy  nummosquitos  wnvpresent  year month day  \\\n0 -87.800991                9             1           0  2007    05  29   \n1 -87.800991                9             1           0  2007    05  29   \n2 -87.769279                9             1           0  2007    05  29   \n3 -87.824812                8             1           0  2007    05  29   \n4 -87.824812                8             4           0  2007    05  29   \n\n                     geometry  cluster  \n0  POINT (-87.80099 41.95469)        4  \n1  POINT (-87.80099 41.95469)        4  \n2  POINT (-87.76928 41.99499)        4  \n3  POINT (-87.82481 41.97409)        4  \n4  POINT (-87.82481 41.97409)        4  ",
            "text/html": "<div>\n<style scoped>\n    .dataframe tbody tr th:only-of-type {\n        vertical-align: middle;\n    }\n\n    .dataframe tbody tr th {\n        vertical-align: top;\n    }\n\n    .dataframe thead th {\n        text-align: right;\n    }\n</style>\n<table border=\"1\" class=\"dataframe\">\n  <thead>\n    <tr style=\"text-align: right;\">\n      <th></th>\n      <th>address</th>\n      <th>species</th>\n      <th>block</th>\n      <th>street</th>\n      <th>trap</th>\n      <th>addressnumberandstreet</th>\n      <th>latitude</th>\n      <th>longitude</th>\n      <th>addressaccuracy</th>\n      <th>nummosquitos</th>\n      <th>wnvpresent</th>\n      <th>year</th>\n      <th>month</th>\n      <th>day</th>\n      <th>geometry</th>\n      <th>cluster</th>\n    </tr>\n  </thead>\n  <tbody>\n    <tr>\n      <th>0</th>\n      <td>4100 North Oak Park Avenue, Chicago, IL 60634,...</td>\n      <td>CULEX PIPIENS/RESTUANS</td>\n      <td>41</td>\n      <td>N OAK PARK AVE</td>\n      <td>T002</td>\n      <td>4100  N OAK PARK AVE, Chicago, IL</td>\n      <td>41.954690</td>\n      <td>-87.800991</td>\n      <td>9</td>\n      <td>1</td>\n      <td>0</td>\n      <td>2007</td>\n      <td>05</td>\n      <td>29</td>\n      <td>POINT (-87.80099 41.95469)</td>\n      <td>4</td>\n    </tr>\n    <tr>\n      <th>1</th>\n      <td>4100 North Oak Park Avenue, Chicago, IL 60634,...</td>\n      <td>CULEX RESTUANS</td>\n      <td>41</td>\n      <td>N OAK PARK AVE</td>\n      <td>T002</td>\n      <td>4100  N OAK PARK AVE, Chicago, IL</td>\n      <td>41.954690</td>\n      <td>-87.800991</td>\n      <td>9</td>\n      <td>1</td>\n      <td>0</td>\n      <td>2007</td>\n      <td>05</td>\n      <td>29</td>\n      <td>POINT (-87.80099 41.95469)</td>\n      <td>4</td>\n    </tr>\n    <tr>\n      <th>2</th>\n      <td>6200 North Mandell Avenue, Chicago, IL 60646, USA</td>\n      <td>CULEX RESTUANS</td>\n      <td>62</td>\n      <td>N MANDELL AVE</td>\n      <td>T007</td>\n      <td>6200  N MANDELL AVE, Chicago, IL</td>\n      <td>41.994991</td>\n      <td>-87.769279</td>\n      <td>9</td>\n      <td>1</td>\n      <td>0</td>\n      <td>2007</td>\n      <td>05</td>\n      <td>29</td>\n      <td>POINT (-87.76928 41.99499)</td>\n      <td>4</td>\n    </tr>\n    <tr>\n      <th>3</th>\n      <td>7900 West Foster Avenue, Chicago, IL 60656, USA</td>\n      <td>CULEX PIPIENS/RESTUANS</td>\n      <td>79</td>\n      <td>W FOSTER AVE</td>\n      <td>T015</td>\n      <td>7900  W FOSTER AVE, Chicago, IL</td>\n      <td>41.974089</td>\n      <td>-87.824812</td>\n      <td>8</td>\n      <td>1</td>\n      <td>0</td>\n      <td>2007</td>\n      <td>05</td>\n      <td>29</td>\n      <td>POINT (-87.82481 41.97409)</td>\n      <td>4</td>\n    </tr>\n    <tr>\n      <th>4</th>\n      <td>7900 West Foster Avenue, Chicago, IL 60656, USA</td>\n      <td>CULEX RESTUANS</td>\n      <td>79</td>\n      <td>W FOSTER AVE</td>\n      <td>T015</td>\n      <td>7900  W FOSTER AVE, Chicago, IL</td>\n      <td>41.974089</td>\n      <td>-87.824812</td>\n      <td>8</td>\n      <td>4</td>\n      <td>0</td>\n      <td>2007</td>\n      <td>05</td>\n      <td>29</td>\n      <td>POINT (-87.82481 41.97409)</td>\n      <td>4</td>\n    </tr>\n  </tbody>\n</table>\n</div>"
          },
          "metadata": {}
        }
      ],
      "execution_count": 154
    },
    {
      "cell_type": "code",
      "source": "#init geodf on long and lat with cluster information\ncrs = {'init':'epsg:4326'}\n\ntest_df = [Point(xy) for xy in zip(geo_train['longitude'], geo_train['latitude'])]\ngeo_json = gpd.GeoDataFrame(geo_train,crs=crs, geometry = test_df)",
      "metadata": {
        "tags": [],
        "cell_id": "00033-f6fe07a1-2967-4a09-b982-46c067b34b1d",
        "deepnote_to_be_reexecuted": false,
        "source_hash": "d4d0b8d1",
        "execution_start": 1620103064299,
        "execution_millis": 114,
        "deepnote_cell_type": "code"
      },
      "outputs": [
        {
          "name": "stderr",
          "text": "/root/venv/lib/python3.7/site-packages/pyproj/crs/crs.py:53: FutureWarning: '+init=<authority>:<code>' syntax is deprecated. '<authority>:<code>' is the preferred initialization method. When making the change, be mindful of axis order changes: https://pyproj4.github.io/pyproj/stable/gotchas.html#axis-order-changes-in-proj-6\n  return _prepare_from_string(\" \".join(pjargs))\n",
          "output_type": "stream"
        }
      ],
      "execution_count": 148
    },
    {
      "cell_type": "code",
      "source": "#visualize cluster\nfig, ax = plt.subplots(figsize=(12,12))\nchicago_map.plot(ax = ax, alpha = .4, color = 'grey', zorder=1)\n# geo_train.plot(ax=ax, markersize=50, color='red', marker='o', label='Cluster',zorder=2)\ngeo_json.plot(ax=ax,column='cluster',alpha=0.5, cmap='viridis', linewidth=0.8, zorder=2)\n",
      "metadata": {
        "tags": [],
        "cell_id": "00028-4ab95a03-4e6f-4e60-916a-d7e67b3a0966",
        "deepnote_to_be_reexecuted": false,
        "source_hash": "753573a",
        "execution_start": 1620103064878,
        "execution_millis": 1096,
        "deepnote_cell_type": "code"
      },
      "outputs": [
        {
          "output_type": "execute_result",
          "execution_count": 149,
          "data": {
            "text/plain": "<AxesSubplot:>"
          },
          "metadata": {}
        },
        {
          "data": {
            "text/plain": "<Figure size 864x864 with 1 Axes>",
            "image/png": "[encoded data removed]"
          },
          "metadata": {
            "needs_background": "light",
            "image/png": {
              "width": 584,
              "height": 683
            }
          },
          "output_type": "display_data"
        }
      ],
      "execution_count": 149
    },
    {
      "cell_type": "code",
      "source": "#test model with cluster instead of lat long and block\ntest_clus = pd.DataFrame(geo_train[['cluster','block']])",
      "metadata": {
        "tags": [],
        "cell_id": "00027-03928a5d-9090-4f28-b420-b9ffe0da3df9",
        "deepnote_to_be_reexecuted": false,
        "source_hash": "9f131808",
        "execution_start": 1620103114825,
        "execution_millis": 1,
        "deepnote_cell_type": "code"
      },
      "outputs": [],
      "execution_count": 155
    },
    {
      "cell_type": "code",
      "source": "test_clus.to_csv('./data/testing_cluster_model.csv',index=False)",
      "metadata": {
        "tags": [],
        "cell_id": "00029-0ef0eb5d-61b9-4e4d-a207-59e4261949c8",
        "deepnote_to_be_reexecuted": false,
        "source_hash": "38666881",
        "execution_start": 1620103613541,
        "execution_millis": 16,
        "deepnote_cell_type": "code"
      },
      "outputs": [],
      "execution_count": 158
    },
    {
      "cell_type": "code",
      "source": "",
      "metadata": {
        "tags": [],
        "cell_id": "00040-39207e49-fa2b-4a6f-b1db-12cdc1bcd899",
        "deepnote_cell_type": "code"
      },
      "outputs": [],
      "execution_count": null
    },
    {
      "cell_type": "markdown",
      "source": "<a style='text-decoration:none;line-height:16px;display:flex;color:#5B5B62;padding:10px;justify-content:end;' href='https://deepnote.com?utm_source=created-in-deepnote-cell&projectId=bf97d729-91d2-44aa-ae54-5374473494d2' target=\"_blank\">\n<img alt='Created in deepnote.com' style='display:inline;max-height:16px;margin:0px;margin-right:7.5px;' src='data:image/svg+xml;base64,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' > </img>\nCreated in <span style='font-weight:600;margin-left:4px;'>Deepnote</span></a>",
      "metadata": {
        "tags": [],
        "created_in_deepnote_cell": true,
        "deepnote_cell_type": "markdown"
      }
    }
  ],
  "nbformat": 4,
  "nbformat_minor": 2,
  "metadata": {
    "orig_nbformat": 2,
    "deepnote": {
      "is_reactive": false
    },
    "deepnote_notebook_id": "0bdccff8-83ee-4372-a7f3-c4fab0204aa6",
    "deepnote_execution_queue": []
  }
}